


def factorial(n):
    # 基本情况：当n等于0或1时，阶乘为1
    if n == 0 or n == 1:
        return 1
    # 递归情况：计算n的阶乘等于n乘以(n-1)的阶乘
    else:
        return n * factorial(n - 1)


# 测试阶乘函数
for i in range(10):
    print(f'{i}! = {factorial(i)}')
