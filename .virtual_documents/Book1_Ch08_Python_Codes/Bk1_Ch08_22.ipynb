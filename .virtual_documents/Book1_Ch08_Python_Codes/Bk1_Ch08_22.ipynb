


# 使用递归函数生成 Fibonacci 数列
def fibonacci(n):
    # 基本情况：如果 n 小于或等于 1，它将直接返回 n
    if n <= 1:
        return n
    # 递归情况：否则，它将调用两次自己
    # 并将 n-1 和 n-2 作为参数传递给它们
    else:
        return fibonacci(n-1) + fibonacci(n-2)


# 通过使用 for 循环来输出 Fibonacci 数列的前 10 项
for i in range(10):
    print(fibonacci(i))
