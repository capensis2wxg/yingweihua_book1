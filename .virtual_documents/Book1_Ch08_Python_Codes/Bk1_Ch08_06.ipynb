


# 全局变量
global_x = 8
print("global_x:", global_x) # global_x: 8


# 自定义函数
def my_function(local_x):
    # local_x 局部变量
    print("local_x:", local_x) # local_x: 38 
    # 创建一个同名的局部变量
    global_x = 88  # global_x: 88
    print("global_x:", global_x)


# 调用函数
my_function(38)


# 在函数外部访问全局变量
print("global_x:", global_x)


print("local_x:", local_x) 
# 报错，NameError: name 'local_x' is not defined
