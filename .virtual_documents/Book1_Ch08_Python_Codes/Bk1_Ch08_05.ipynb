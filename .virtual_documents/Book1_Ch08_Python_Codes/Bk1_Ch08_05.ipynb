


# 自定义函数
def greet(name, greeting='Hello'):
    print(f"{greeting}, {name}!")


# 使用默认的问候语调用函数
greet('James')  # 输出 "Hello, James!"


# 指定自定义的问候语调用函数
greet('James', 'Good morning')  
# 输出 "Good morning, James!"
