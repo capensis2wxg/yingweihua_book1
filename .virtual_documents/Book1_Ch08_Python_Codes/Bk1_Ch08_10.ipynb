


# 定义除法函数
def divide(a, b):
    assert b != 0, "除数不能为零"
    return a / b


# 调用自定义函数
result = divide(10, 0)  
# 除以零，会引发 AssertionError 异常


print(result)  
# 上行不会被执行，因为异常已经引发
