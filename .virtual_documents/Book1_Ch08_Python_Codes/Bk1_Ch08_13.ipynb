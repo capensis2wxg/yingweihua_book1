


# 自定义函数产生单位矩阵
def identity_matrix(size):
    matrix = []
    for i in range(size):
        row = [0] * size
        row[i] = 1
        matrix.append(row)
    return matrix


# 调用自定函数
identity_matrix = identity_matrix(4)
identity_matrix
