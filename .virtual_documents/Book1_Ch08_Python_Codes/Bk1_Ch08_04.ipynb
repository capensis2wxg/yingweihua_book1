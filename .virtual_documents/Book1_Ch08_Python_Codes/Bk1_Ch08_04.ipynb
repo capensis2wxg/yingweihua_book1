


# 自定义函数
def arithmetic_operations(a, b):
    add = a + b
    sub = a - b
    mul = a * b
    div = a / b
    return add, sub, mul, div


# 调用函数并输出结果
a, b = 10, 5
result = arithmetic_operations(a, b)


print("Addition: ", result[0])
print("Subtraction: ", result[1])
print("Multiplication: ", result[2])
print("Division: ", result[3])
