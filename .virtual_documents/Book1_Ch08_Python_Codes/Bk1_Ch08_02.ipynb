


# 导入包
import matplotlib.pyplot as plt
# 导入 Matplotlib 库中的 pyplot 模块，并将其命名为 plt
import numpy as np
# 导入 NumPy 库，并将其命名为 np


# 自定义函数
def beautify_line_chart():
    # 添加标签
    plt.xlabel("x")
    plt.ylabel("f(x)")
    # 设置坐标轴范围
    plt.xlim(-2, 2)
    plt.ylim(-2, 2)
    # 设置横纵轴刻度
    plt.xticks([-2,-1,0,1,2])
    plt.yticks([-2,-1,0,1,2])
    # 添加网格线
    plt.grid(True)
    # 横纵轴统一标尺
    plt.gca().set_aspect('equal', adjustable='box')
    # 显示图形
    plt.show()


x_array = np.linspace(-2,2,101)
# 使用NumPy的linspace函数创建一个包含101个元素的数组，这些元素均匀地分布在区间[-2, 2]上，左闭右闭


# 绘制直线
fig, ax = plt.subplots(figsize = (4,4))
# plt.subplots()返回值解包为两个变量：fig 和 ax
# fig图形窗口对象，可以用于设置图形窗口的属性
# ax 是坐标轴对象，用于绘制具体的图形和设置坐标轴的属性
# figsize=(4, 4) 表示图形窗口的宽度为4英寸，高度为4英寸

y_array = x_array # 一次函数 y = x
plt.plot(x_array, y_array)
beautify_line_chart() # 调用自定义函数绘制美化的线图


# 绘制抛物线
fig, ax = plt.subplots(figsize = (4,4))
y_array = x_array**2 - 2 # 二次函数
plt.plot(x_array, y_array)
beautify_line_chart() # 调用自定义函数绘制美化的线图
