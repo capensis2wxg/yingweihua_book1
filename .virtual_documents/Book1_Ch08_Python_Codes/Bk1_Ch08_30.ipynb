





import circle as cc

r = 5
area = cc.area(r)
circumference = cc.circumference(r)

print("半径为", r, "的圆的面积是", area)
print("半径为", r, "的圆的周长是", circumference)





from mylibrary.circle import area
from mylibrary.linear_alg import inner_prod


r = 4
area(r)


# 定义向量a和b
a = [1, 2, 3, 4, 5, 6, 7, 8, 9]
b = a[::-1]

# 调用函数
inner_prod(a,b)
