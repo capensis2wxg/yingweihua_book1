


# 自定义函数
def add_numbers(a, b):
    result = a + b
    return result


sum = add_numbers(3, 5) # 调用函数
print(sum)  # 输出8
