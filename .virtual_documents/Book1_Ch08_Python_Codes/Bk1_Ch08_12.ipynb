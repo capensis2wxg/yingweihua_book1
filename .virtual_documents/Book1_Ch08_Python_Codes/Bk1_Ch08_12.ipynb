


# 自定义函数产生全0矩阵
def create_zeros_matrix(rows, cols):
    matrix = []
    for _ in range(rows):
        row_idx = [0] * cols
        matrix.append(row_idx)
    return matrix


# 调用自定义函数
create_zeros_matrix(3, 4)
