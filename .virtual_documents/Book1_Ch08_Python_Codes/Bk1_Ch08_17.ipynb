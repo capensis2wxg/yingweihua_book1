


def is_symmetric(matrix):
    rows = len(matrix)
    cols = len(matrix[0])
    # 首先判断矩阵是否为方阵
    if rows != cols:
        return False 
    # 判断矩阵元素是否沿对称轴镜像对称
    for i in range(rows):
        for j in range(cols):
            if matrix[i][j] != matrix[j][i]:
                return False
    return True


# 两个矩阵
A = [[1, 2, 3],
     [2, 4, 5],
     [3, 5, 6]]

B = [[1, 2, 3],
     [2, 4, 0],
     [0, 5, 6]]


print("是否为对称矩阵:", is_symmetric(A))


print("是否为对称矩阵:", is_symmetric(B))
