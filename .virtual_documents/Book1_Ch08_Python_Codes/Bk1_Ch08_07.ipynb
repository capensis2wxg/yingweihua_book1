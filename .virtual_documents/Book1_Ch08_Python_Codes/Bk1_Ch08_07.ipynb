


# 全局变量
global_x = 8 # global_x: 8
print("global_x:", global_x)


# 自定义函数
def my_function(local_x):
    # 局部变量
    print("local_x:", local_x) # local_x: 38
    
    # 声明变量是全局变量
    global global_x
    global_x = 88 
    print("global_x:", global_x) # global_x: 88


# 调用函数
my_function(38)


# 在函数外部访问全局变量
print("global_x:", global_x) # global_x: 88
