


# 自定义函数产生对角方阵
def diagonal_matrix(values):
    size = len(values); 
    matrix = []
    for i in range(size):
        row = [0] * size
        matrix.append(row)
        matrix[i][i] = values[i]
    return matrix


# 对角线元素
diagonal_values = [4, 3, 2, 1]


# 调用自定义函数
diagonal_matrix = diagonal_matrix(diagonal_values)
diagonal_matrix
