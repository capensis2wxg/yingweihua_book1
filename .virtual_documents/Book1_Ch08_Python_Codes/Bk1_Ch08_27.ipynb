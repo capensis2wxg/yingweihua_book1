


# 利用*kwargs
def multiply_all_2(**kwargs):
    result = 1
    print(type(kwargs))
    # 循环dict()
    for key, value in kwargs.items():
        print("The value of {} is {}".format(key, value))
        result *= value
        
    return result


# 计算3个key-value pairs中值的乘积
print(multiply_all_2(A = 1, B = 2, C = 3))


# 计算4个key-value pairs中值的乘积
print(multiply_all_2(A = 1, B = 2, C = 3, D = 4))
