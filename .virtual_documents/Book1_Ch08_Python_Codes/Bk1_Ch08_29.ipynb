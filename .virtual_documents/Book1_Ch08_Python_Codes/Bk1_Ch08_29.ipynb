


my_list = [1, 2, 3, 4, 5]


# 将列表中的所有元素加 1
list_plus_1 = list(map(lambda x: x+1, my_list))
print(list_plus_1)  
# [2, 3, 4, 5, 6]


# 将列表中的所有元素分别求平方
list_squared = list(map(lambda x: x**2, my_list))
print(list_squared)
# [1, 4, 9, 16, 25]
