


# 位置参数
complex(4, 3)
# (4+3j)


complex(3, 4)
# (3+4j)


# 关键字参数
complex(real=3, imag=4)
# (3+4j)


complex(imag=4, real=3)
# (3+4j)
