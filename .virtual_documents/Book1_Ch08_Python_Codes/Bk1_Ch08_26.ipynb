


# 利用*args
def multiply_all(*args):
    result = 1
    print(args)
    for num_idx in args:
        result *= num_idx
    return result


# 计算4个值的乘积
print(multiply_all(1, 2, 3, 4))


# 计算6个值的乘积
print(multiply_all(1, 2, 3, 4, 5, 6))
