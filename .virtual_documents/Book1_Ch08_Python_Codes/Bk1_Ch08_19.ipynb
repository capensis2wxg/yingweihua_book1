


def determinant_2x2(matrix):
    if len(matrix) != 2 or len(matrix[0]) != 2:
        raise ValueError("Matrix must be 2x2")
    a = matrix[0][0]
    b = matrix[0][1]
    c = matrix[1][0]
    d = matrix[1][1]
    det = a*d - b*c
    return det


# 示例用法
A = [[3, 2],
     [1, 4]]


det = determinant_2x2(A)
print("矩阵行列式:", det)
