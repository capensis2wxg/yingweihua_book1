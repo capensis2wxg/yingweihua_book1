


def trace(matrix):
    rows = len(matrix)
    cols = len(matrix[0])
    if rows != cols:
        raise ValueError("Matrix is not square")
    diagonal_sum = sum(matrix[i][i] for i in range(rows))
    return diagonal_sum


# 示例用法
A = [[1, 2, 3],
     [4, 5, 6],
     [7, 8, 9]]


trace_A = trace(A)
print("矩阵的迹为:", trace_A)
