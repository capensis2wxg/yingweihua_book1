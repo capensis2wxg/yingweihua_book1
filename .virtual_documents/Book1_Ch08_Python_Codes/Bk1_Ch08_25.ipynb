


# 使用一个星号
complex_list = [3, 4]
complex(*complex_list)


# 使用两个星号
complex_dict = {'real': 3, 'imag': 4}
complex(**complex_dict)
