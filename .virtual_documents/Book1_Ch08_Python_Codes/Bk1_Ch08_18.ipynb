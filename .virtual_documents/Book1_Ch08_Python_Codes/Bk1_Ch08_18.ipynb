


def is_symmetric_2(matrix):
    rows = len(matrix)
    cols = len(matrix[0])
    # 首先判断矩阵是否为方阵
    if rows != cols:
        return False 
    # 获得转置矩阵
    tranposed = [[(matrix[j][i]) for j in range(rows)] for i in range(rows)]
    if(matrix == tranposed):
        return True
    return False


# 两个矩阵
A = [[1, 2, 3],
     [2, 4, 5],
     [3, 5, 6]]

B = [[1, 2, 3],
     [2, 4, 0],
     [0, 5, 6]]


print("是否为对称矩阵:", is_symmetric_2(A))


print("是否为对称矩阵:", is_symmetric_2(B))
