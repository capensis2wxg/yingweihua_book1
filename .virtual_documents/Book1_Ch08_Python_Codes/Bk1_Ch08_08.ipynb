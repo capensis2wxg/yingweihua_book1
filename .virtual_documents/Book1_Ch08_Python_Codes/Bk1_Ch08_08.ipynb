


# 自定义函数
def matrix_multiplication(A,B):

    # 定义全 0 矩阵 C 用来存放结果
    C = [[0] * len(B[0]) for i in range(len(A))]

    # 遍历 A 的行
    for i in range(len(A)): # len(A) 给出 A 的行数

        # 遍历 B 的列
        for j in range(len(B[0])):  
        # len(B[0]) 给出 B 的列数

            # 这一层相当于消去 k 所在的维度，即压缩
            for k in range(len(B)):
                C[i][j] += A[i][k] * B[k][j]
                # 完成对应元素相乘，再求和
    
    return C


# 定义矩阵 A 和 B
A = [[1], [2], [3]]
B = [[1, 2, 3]]


print('A @ B = ')
C = matrix_multiplication(A,B) # 调用自定义函数
for row in C:
    print(row)


print('B @ A = ')
D = matrix_multiplication(B,A) # 调用自定义函数
for row in D:
    print(row)
