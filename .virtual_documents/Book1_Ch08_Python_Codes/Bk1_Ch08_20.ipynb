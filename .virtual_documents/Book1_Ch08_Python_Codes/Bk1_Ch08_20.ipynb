


def inverse_2x2(matrix):
    if len(matrix) != 2 or len(matrix[0]) != 2:
        raise ValueError("Matrix must be 2x2")
    
    a = matrix[0][0]
    b = matrix[0][1]
    c = matrix[1][0]
    d = matrix[1][1]
    
    det = a * d - b * c
    if det == 0:
        raise ValueError("Matrix is not invertible")
    
    inv_det = 1 / det
    inv_matrix = [[d * inv_det, -b * inv_det],[-c * inv_det, a * inv_det]]
    
    return inv_matrix


A = [[2, 3],
     [4, 5]]


inv_matrix = inverse_2x2(A)
inv_matrix
