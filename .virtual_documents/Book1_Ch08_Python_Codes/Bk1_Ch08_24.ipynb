


# 位置参数
def quadratic_f(a, b, c, x,/):
    f = a * x **2 + b * x + c
    return f


quadratic_f(1, 2, 3, 4)


quadratic_f(3, 2, 1, 4)


# 关键字参数
def quadratic_f_2(*, a, b, c, x):
    f = a * x **2 + b * x + c
    return f


quadratic_f_2(a = 1, b = 2, c = 3, x = 4)


quadratic_f_2(c = 3, x = 4, a = 1, b = 2)


# 关键字/位置参数
def quadratic_f_3(a, b, /, c, *, x):
    f = a * x **2 + b * x + c
    return f


quadratic_f_3(1, 2, 3, x = 4)


quadratic_f_3(1, 2, c = 3, x = 4)
