


def say_hello():
    # 自定义函数：打印问候
    # 输入：无
    # 输出：无
    print("Hello!")


# 调用自定义函数
say_hello()
