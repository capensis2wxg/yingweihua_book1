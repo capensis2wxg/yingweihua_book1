


# 自定义函数
def matrix_multiplication(A,B):
    
    # 检查两个矩阵形状是否匹配
    if len(A[0]) != len(B):
        raise ValueError("Error: check matrix sizes")

    else:
        # 定义全 0 矩阵 C 用来存放结果
        C = [[0] * len(B[0]) for i in range(len(A))]

        # 遍历 A 的行
        for i in range(len(A)): # len(A) 给出 A 的行数

            # 遍历 B 的列
            for j in range(len(B[0])):  
            # len(B[0]) 给出 B 的列数

                # 这一层相当于消去 p 所在的维度，即压缩
                for k in range(len(B)):
                    C[i][j] += A[i][k] * B[k][j]
                    # 完成对应元素相乘，再求和

        return C


# 定义矩阵 A 和 B
A = [[1], [2], [3], [4]]  # 4*1
B = [[1, 2, 3]]           # 1*3


print('A @ B = ')
C = matrix_multiplication(A,B) # 调用自定义函数
for row in C:
    print(row)


print('B @ A = ')
D = matrix_multiplication(B,A) # 会报错
