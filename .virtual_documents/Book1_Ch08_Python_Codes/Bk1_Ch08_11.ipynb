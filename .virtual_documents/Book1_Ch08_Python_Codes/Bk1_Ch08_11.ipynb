


# 计算向量内积
def inner_prod(a,b):
    
    '''
    自定义函数计算两个向量内积
    输入：
    a：向量，类型为数据列表
    b：向量，类型为数据列表
    输出：
    c：标量
    参考：
    https://mathworld.wolfram.com/InnerProduct.html
    '''

    # 检查两个向量元素数量是否相同
    if len(a) != len(b):
        raise ValueError("Error: check a/b lengths")
        
    # 初始化内积为0
    dot_product = 0
    # 使用for循环计算内积
    for i in range(len(a)):
        dot_product += a[i] * b[i]
        
    return dot_product


# 查询自定义函数文档，两种办法
help(inner_prod)


print(inner_prod.__doc__)


# 定义向量a和b
a = [1, 2, 3, 4, 5, 6, 7, 8, 9]
b = a[::-1]
b


# 调用函数
c = inner_prod(a,b)


# 打印内积
print("向量内积为：", c)
