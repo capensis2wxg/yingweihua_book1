


def extract_main_diagonal(matrix):
    rows = len(matrix); 
    cols = len(matrix[0])
    size = min(rows, cols)
    diagonal = [matrix[i][i] for i in range(size)]
    return diagonal


matrix = [[1, 2, 3],
          [4, 5, 6]]


main_diagonal = extract_main_diagonal(matrix)
main_diagonal
