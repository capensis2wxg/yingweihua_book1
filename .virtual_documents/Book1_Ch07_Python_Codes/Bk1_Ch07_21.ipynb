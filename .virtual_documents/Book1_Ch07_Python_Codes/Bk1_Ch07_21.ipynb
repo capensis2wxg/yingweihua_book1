


def transpose_2(matrix):
    transposed = []
    rows = len(matrix)
    cols = len(matrix[0])

    transposed = [[matrix[j][i] for j in range(rows)] for i in range(cols)]

    return transposed


# 示例用法
A = [[1, 2, 3],
     [4, 5, 6]]


# 调用自定义函数
B = transpose_2(A)
B
