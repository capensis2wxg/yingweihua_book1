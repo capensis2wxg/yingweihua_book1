


column1 = [1, 2, 3, 4]
column2 = ['a', 'b', 'c']


cartesian_product = [(x, y) for x in column1 for y in column2]
print(cartesian_product)


cartesian_product = [[(x, y) for x in column1] for y in column2]

for prod_idx in cartesian_product:
    print(prod_idx)


from itertools import product

cartesian_product = list(product(column1, column2))
print(cartesian_product)
