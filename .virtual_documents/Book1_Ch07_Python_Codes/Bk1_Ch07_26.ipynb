


import itertools
string = 'abc'

# 3个取2个的组合
combs_2 = itertools.combinations(string, 2)
# 返回一个包含所有长度为2的组合的可迭代对象combs_2

for combo_idx in combs_2:
    print(''.join(combo_idx))
