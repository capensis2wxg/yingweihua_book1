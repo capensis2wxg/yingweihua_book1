


import itertools
string = 'abc'

# 3个不放回取2个的排列
perms_2 = itertools.permutations(string, 2)
# 返回一个包含所有长度为2的排列的可迭代对象perms

for perm_idx in perms_2:
    print(''.join(perm_idx))
