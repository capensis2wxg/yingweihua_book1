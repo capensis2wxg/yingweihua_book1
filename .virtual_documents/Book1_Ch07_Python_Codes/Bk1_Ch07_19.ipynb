


# 自定义函数模仿 numpy.linspace()
def linspace(start, stop, num=50, endpoint=True):
    if num < 2:
        # 报错
        raise ValueError("Number of samples must be at least 2")
    # 是否包括右端点
    if endpoint:
        step = (stop - start) / (num - 1)
        return [start + i * step for i in range(num)]
    else:
        step = (stop - start) / num
        return [start + i * step for i in range(num)]


# 示例用法
start = 0   # 数列起点
stop  = 10  # 数列终点
num   = 21  # 数列元素
endpoint = True # 数列包含 stop


# 调用自定义函数生成等差数列
values = linspace(start, stop, num, endpoint)
