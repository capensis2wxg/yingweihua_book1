


for x in range(10):
    if x >= 8:
        break
    else:
        print(x)
else: 
    print("For loop finished")
