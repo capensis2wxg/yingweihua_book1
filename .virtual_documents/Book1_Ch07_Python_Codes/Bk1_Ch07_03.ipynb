


for x in range(10):
    print(x)
else: # for循环结束后会执行
    print("For loop finished")
