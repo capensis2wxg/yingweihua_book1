


import itertools

string = 'abc'
# 定义元素列表
elements = list(string)


# 指定组合长度
length = 2
# 生成有放回组合
combos = itertools.combinations_with_replacement(elements, length)


# 遍历并打印所有组合
for combination_idx in combos:
    print(''.join(combination_idx))
