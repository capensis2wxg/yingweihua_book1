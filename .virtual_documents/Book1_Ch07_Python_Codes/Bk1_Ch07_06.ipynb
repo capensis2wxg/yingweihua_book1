


try:
    x = 1 / 0
except ZeroDivisionError:
    print("除数不能为零")
