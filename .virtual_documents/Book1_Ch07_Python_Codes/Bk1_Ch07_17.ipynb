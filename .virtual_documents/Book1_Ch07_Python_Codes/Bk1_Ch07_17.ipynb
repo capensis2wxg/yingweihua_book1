


import numpy as np

# 定义矩阵 A 和 B
A = np.array([[1, 2, 10, 20],
              [3, 4, 30, 40]])
        
B = np.array([[1, 3],
              [2, 4],
              [10, 30],
              [20, 40]])


C = A @ B; print(C)


D = B @ A; print(D)
