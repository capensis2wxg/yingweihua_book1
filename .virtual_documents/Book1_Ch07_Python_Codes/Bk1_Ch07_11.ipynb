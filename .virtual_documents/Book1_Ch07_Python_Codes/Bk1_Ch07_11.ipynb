


fruits = ['apple', 'banana', 'cherry']


# 从0开始编号
for index, fruit in enumerate(fruits):
    print(index, fruit)


# 从1开始编号
for index, fruit in enumerate(fruits,1):
    print(index, fruit)
