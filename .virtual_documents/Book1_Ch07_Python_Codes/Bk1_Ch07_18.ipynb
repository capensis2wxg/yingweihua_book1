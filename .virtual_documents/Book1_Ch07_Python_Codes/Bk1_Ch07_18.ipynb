


# 使用列表生成式，获得1 ~ 10之间所有偶数列表
even_numbers = [num for num in range(1, 11)  
                if num % 2 == 0] # 一行放不下

print(even_numbers) # Output: [2, 4, 6, 8, 10]


# 嵌套列表生成式
matrix = [[i * j for j in range(1, 4)] 
                 for i in range(1, 4)]
print(matrix) 
# Output: [[1, 2, 3], [2, 4, 6], [3, 6, 9]]
