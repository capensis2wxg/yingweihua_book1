


value = input("请输入一个数值: ")

# 第一层
if value.isdigit():
    number = int(value)
    
    # 第二层
    if 0 <= number <= 100:
        
        # 第三层
        if number < 60:
            print("不及格")
        else:
            print("及格")
        # 第三层结束
    
    else:
        print("数值不在0~100之间")
    # 第二层结束
    
else:
    print("输入的不是一个数值")
# 第一层结束
