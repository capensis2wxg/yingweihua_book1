


import numpy as np

# 定义向量a和b；准确来说是一维数组
a = np.array([1, 2, 3, 4, 5])
b = np.array([6, 7, 8, 9, 0])


# 计算向量内积
dot_product = np.dot(a,b)

# 打印内积
print("向量内积为：", dot_product)
