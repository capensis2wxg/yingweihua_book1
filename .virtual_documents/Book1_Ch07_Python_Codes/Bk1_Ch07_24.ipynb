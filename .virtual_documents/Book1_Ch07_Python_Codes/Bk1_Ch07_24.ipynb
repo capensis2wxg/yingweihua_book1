


import itertools
string = 'abc'
perms_all = itertools.permutations(string)
# 返回一个可迭代对象perms，其中包含了string的所有排列方式


# 全排列
for perm_idx in perms_all:
    print(''.join(perm_idx))
