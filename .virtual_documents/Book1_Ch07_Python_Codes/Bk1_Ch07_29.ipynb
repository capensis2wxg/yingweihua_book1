


# 习题都没有固定答案，请大家多多思考；如果有好的逻辑，请邮件 jiang.visualize.ml@gmail.com。





num_list = [3, 5, 2, 7, 1]
max_num = num_list[0]
min_num = num_list[0]

for num in num_list:
    if num > max_num:
        max_num = num
    elif num < min_num:
        min_num = num

print(max_num + min_num)





num = 1
while num <= 10:
    if num % 2 != 0:
        print(num)
    num += 1





while True:
    try:
        num = int(input("请输入一个数字："))
        break
    except ValueError:
        print("输入有误，请重新输入！")

print("输入的整数是：", num)





prime_list = []

for num in range(2, 101):
    for i in range(2, num):
        if num % i == 0:
            break
    else:
        prime_list.append(num)

print(prime_list)





sum_odd_numbers = 0
for i in range(1, 101):
    if i % 2 != 0:
        sum_odd_numbers += i
print(sum_odd_numbers)


sum_odd_numbers = 0
i = 1
while i <= 100:
    if i % 2 != 0:
        sum_odd_numbers += i
    i += 1
print(sum_odd_numbers)


sum_odd_numbers = sum([i for i in range(1, 101) if i % 2 != 0])
print(sum_odd_numbers)


sum_odd_numbers = sum([i for i in range(1, 101, 2)])
print(sum_odd_numbers)


sum_odd_numbers = sum(list(range(1, 101, 2)))
sum_odd_numbers


sum_odd_numbers = 0
i = 1
while i <= 100:
    sum_odd_numbers += i
    i += 2
print(sum_odd_numbers)


numbers = list(range(1, 101))
sum_odd_numbers = sum(numbers[::2])
print(sum_odd_numbers)


import numpy as np

numbers = np.arange(1, 101)
sum_odd_numbers = np.sum(numbers[numbers % 2 != 0])
print(sum_odd_numbers)


sum_odd_numbers = 0
count = 1
while True:
    sum_odd_numbers = sum_odd_numbers + count
    count += 2
    if count >= 100:
        break

sum_odd_numbers


result=0
i=0
while i<=100:
    result+=(i % 2)*i
    i+=1
print(result)
# 答案由 yeqihai 提供，谢谢。也请大家提供更多有趣逻辑。


# Repo: https://github.com/Visualize-ML
# Book 1 Python for Beginners  |  From Basic Arithmetic to Machine Learning
# Published and copyrighted by Tsinghua University Press
# Beijing, China, 2023
