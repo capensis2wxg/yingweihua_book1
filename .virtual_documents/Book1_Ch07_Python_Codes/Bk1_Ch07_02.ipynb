


# 循环字符串内字符

str_for_loop = 'Matplotlib'

for str_idx in str_for_loop:
    print(str_idx)
    


# 循环list中元素
list_for_loop = ['Matplotlib', 'NumPy', 'Seaborn', 'Pandas', 'Plotly', 'SK-learn']
for item_idx in list_for_loop:
    print(item_idx)
    


# 循环中嵌入 if 判断
packages_visual = ['Matplotlib', 'Seaborn', 'Plotly']
for item_idx in list_for_loop:
    print('=================')
    print(item_idx)
    if item_idx in packages_visual:
        print('A visualization tool')


# 嵌套 for 循环
for item_idx in list_for_loop:
    print('===============')
    print(item_idx)
    
    for item_idx in item_idx:
        print(item_idx)
