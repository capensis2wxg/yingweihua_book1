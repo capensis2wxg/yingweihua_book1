


def hadamard_prod(M1, M2):
    if (len(M1) != len(M2) or 
        len(M1[0]) != len(M2[0])):
        raise ValueError("Matrices must have the same shape")

    result = [[M1[i][j] * M2[i][j] for j in range(len(M1[0]))] for i in range(len(M1))]
    return result


A = [[1, 2],
     [3, 4]]
B = [[2, 3],
     [4, 5]]


# 计算矩阵逐项积
C = hadamard_prod(A, B)
C
