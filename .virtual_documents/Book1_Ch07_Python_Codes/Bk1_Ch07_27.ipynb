


import itertools

string = 'abc'
# 定义元素列表
elements = list(string)
# 指定重复次数
repeat = 2


# 生成有放回排列
permutations = itertools.product(elements, repeat=repeat)


# 遍历并打印所有排列
for permutation_idx in permutations:
    print(''.join(permutation_idx))
