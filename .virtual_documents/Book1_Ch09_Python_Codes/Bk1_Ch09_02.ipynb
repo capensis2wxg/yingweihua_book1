


# 创建了一个名为 "Chicken" 的类
class Chicken:
    def __init__(self, name, age, color, weight):
    # 初始化对象的属性
        # 设置实例变量self.name来存储小鸡名字
        self.name = name
        # 设置实例变量self.age来存储小鸡年龄
        self.age = age
        # 设置实例变量self.color来存储小鸡体色
        self.color = color
        # 设置实例变量self.weight来存储小鸡体重          
        self.weight = weight


# 调用Chicken类
chicken_01 = Chicken("小红", 1, "黄色", 1.5)


chicken_02 = Chicken("小黄", 1.2, "红色", 2)


print('==小鸡的名字=='); print(chicken_01.name)
print('==小鸡的年龄，yr=='); print(chicken_01.age)
print('==小鸡的颜色=='); print(chicken_01.color)
print('==小鸡的体重，kg=='); print(chicken_01.weight)
