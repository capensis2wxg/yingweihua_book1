


# 创建 ListStatistics 类
class ListStatistics:
    # 构造函数，用于初始化属性
    def __init__(self, data):
        # ListStatistics包含一个data属性来存储浮点数列表
        self.data = data
    
    # 下面定义了4个方法
    # 方法1：计算列表的长度，即元素的数量
    def list_length(self):
        return len(self.data)
    # 方法2：计算列表元素之和
    def list_sum(self):
        return sum(self.data)
    # 方法3：计算列表元素平均值
    def list_mean(self):
        return sum(self.data)/self.list_length()
    # 方法4：计算列表元素方差
    def list_variance(self, ddof = 1):
        # Delta自由度 ddof 默认为 1；无偏样本方差
        sum_squares = sum((x_i - self.list_mean())**2 
                           for x_i in self.data)
        return sum_squares/(self.list_length() - ddof)


# 创建一个浮点数列表
data = [8.8, 1.8, 7.8, 3.8, 2.8, 5.6, 3.9, 6.9]


# 创建ListStatistics对象实例
float_list = ListStatistics(data)


# 使用float_list对象计算列表长度
print("列表长度：", float_list.list_length())


# 使用float_list对象计算列表和
print("列表和：", float_list.list_sum())


# 使用float_list对象计算列表平均值
print("列表平均值：", float_list.list_mean())


# 使用float_list对象计算列表方差
print("列表方差：", float_list.list_variance())
print("列表方差 (ddof = 0)：", 
      float_list.list_variance(0))
