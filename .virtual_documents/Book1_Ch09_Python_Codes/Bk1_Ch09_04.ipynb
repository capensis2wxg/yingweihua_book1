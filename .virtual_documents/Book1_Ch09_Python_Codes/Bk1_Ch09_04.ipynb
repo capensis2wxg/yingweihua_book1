


# 创建了一个名为 "Chicken" 的类
class Chicken:
    def __init__(self):
    # 初始化对象的属性
        # 设置实例变量self.name来存储小鸡名字的参数
        self.name = ''
        # 设置实例变量self.age来存储小鸡名字的年龄
        self.age = ''
        # 设置实例变量self.color来存储小鸡名字的颜色
        self.color = ''
        # 设置实例变量self.weight来存储小鸡名字的体重
        self.weight = ''


# 调用Chicken类，然后赋值
chicken_01 = Chicken()


chicken_01.name = '小红'
chicken_01.age = 1
chicken_01.color = '黄色'
chicken_01.weight = 1.5
