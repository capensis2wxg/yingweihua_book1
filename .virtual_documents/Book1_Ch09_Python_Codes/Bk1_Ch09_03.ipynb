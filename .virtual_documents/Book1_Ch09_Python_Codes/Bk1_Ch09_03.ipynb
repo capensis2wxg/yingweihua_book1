


# 创建了一个名为 "Chicken" 的类
class Chicken:
    def __init__(self, name, age, color = '黄色', weight = '2'):
    # 初始化对象的属性；毛色默认 '黄色'，体重默认 2 (kg)
        # 设置实例变量self.name来存储小鸡名字的参数
        self.name = name
        # 设置实例变量self.age来存储小鸡名字的年龄
        self.age = age
        # 设置实例变量self.color来存储小鸡名字的颜色
        self.color = color
        # 设置实例变量self.weight来存储小鸡名字的体重
        self.weight = weight


# 调用Chicken类
chicken_01 = Chicken(name = "小红", age = 1, color = '白色') # 覆盖默认 color


print('==小鸡的名字=='); print(chicken_01.name)
print('==小鸡的年龄，yr=='); print(chicken_01.age)
print('==小鸡的颜色=='); print(chicken_01.color)
print('==小鸡的体重，kg=='); print(chicken_01.weight)
