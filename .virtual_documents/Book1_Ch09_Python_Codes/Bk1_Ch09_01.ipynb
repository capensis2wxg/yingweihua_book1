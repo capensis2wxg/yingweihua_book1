


# 定义一个名为Rectangle的类
class Rectangle:
    # 创建Rectangle对象时执行一些初始化工作
    def __init__(self, width, height):
        # 设置实例变量self.width来存储传入的宽度参数
        self.width = width
        # 设置实例变量self.height来存储传入的高度参数
        self.height = height
        print('')
    
    # 定义一个名为circumference的方法，用于计算矩形的周长
    def circumference(self):
        # 返回矩形的周长，计算公式为2*(宽度 + 高度)
        return 2*(self.width + self.height)
    
    # 定义一个名为area的方法，用于计算矩形的面积
    def area(self):
        # 返回矩形的面积，计算公式为宽度 * 高度
        return self.width * self.height


# 使用Rectangle类
# 定义矩形，宽5，高10
rect_width_5_height_10 = Rectangle(5, 10)


print('矩形周长')
print(rect_width_5_height_10.circumference())


print('矩形面积')
print(rect_width_5_height_10.area())


# Repo: https://github.com/Visualize-ML
# Book 1 Python for Beginners  |  From Basic Arithmetic to Machine Learning
# Published and copyrighted by Tsinghua University Press
# Beijing, China, 2023
