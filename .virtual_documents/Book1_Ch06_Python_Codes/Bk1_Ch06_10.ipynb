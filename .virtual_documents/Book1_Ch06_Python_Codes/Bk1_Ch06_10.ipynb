


import random
import statistics
import matplotlib.pyplot as plt


# 抛硬币实验的次数
num_flips = 1000

# 模拟抛硬币实验，硬币头重脚轻
# 用于存储每次抛硬币的结果
results = [random.choices([0, 1], [0.4, 0.6])[0] for _ in range(num_flips)]
# 用于存储每次抛硬币后的均值
running_means = [statistics.mean(results[0:idx+1]) for idx in range(num_flips)]


# 可视化前100次结果均值随次数变化
visual_num = 100
plt.scatter(range(1, visual_num + 1), results[0:visual_num],c=results[0:visual_num],marker="o", cmap = 'cool')
plt.plot(range(1, visual_num + 1), results[0:visual_num])
plt.xlabel("Number of coin flips")
plt.ylabel("Result")
plt.grid(True)
plt.show()


# 可视化均值随次数变化
plt.plot(range(1, num_flips + 1), running_means)
plt.axhline(0.6, color = 'r')
plt.xlabel("Number of coin flips")
plt.ylabel("Running Mean")
plt.grid(True)
plt.ylim(0,1)
plt.show()
