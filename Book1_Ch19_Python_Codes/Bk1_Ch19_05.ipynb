{
 "cells": [
  {
   "cell_type": "markdown",
   "id": "86f92339-4dbe-480d-8abf-d969dbb3b64b",
   "metadata": {},
   "source": [
    "Chapter 19\n",
    "# 利用pandas_datareader从FRED下载数据\n",
    "Book_1《编程不难》 | 鸢尾花书：从加减乘除到机器学习  "
   ]
  },
  {
   "cell_type": "code",
   "id": "cb8b0334-cd54-4ba3-8958-617258a67a39",
   "metadata": {
    "ExecuteTime": {
     "end_time": "2024-12-06T19:23:31.920115Z",
     "start_time": "2024-12-06T19:23:31.206084Z"
    }
   },
   "source": [
    "# 导入包\n",
    "import pandas_datareader as pdr\n",
    "# 需要安装 pip install pandas-datareader\n",
    "import pandas as pd\n",
    "import datetime"
   ],
   "outputs": [],
   "execution_count": 1
  },
  {
   "cell_type": "code",
   "id": "970555c4-65ce-4e3a-b5b3-319392a1a0ff",
   "metadata": {
    "ExecuteTime": {
     "end_time": "2024-12-06T19:23:33.567460Z",
     "start_time": "2024-12-06T19:23:33.562227Z"
    }
   },
   "source": [
    "# 从FRED下载标普500 (S&P 500)\n",
    "start_date = datetime.datetime(2014, 1, 1)\n",
    "end_date   = datetime.datetime(2022, 12, 31)"
   ],
   "outputs": [],
   "execution_count": 2
  },
  {
   "cell_type": "code",
   "id": "f44ead76-7599-45e0-a3ed-e0282917e40d",
   "metadata": {
    "ExecuteTime": {
     "end_time": "2024-12-06T19:23:41.537679Z",
     "start_time": "2024-12-06T19:23:40.744317Z"
    }
   },
   "source": [
    "# 下载数据\n",
    "ticker_list = ['SP500']\n",
    "df = pdr.DataReader(ticker_list, 'fred', start_date, end_date)"
   ],
   "outputs": [],
   "execution_count": 3
  },
  {
   "cell_type": "code",
   "id": "d273e83e-672b-474e-b334-74651df065df",
   "metadata": {
    "ExecuteTime": {
     "end_time": "2024-12-06T19:23:44.428349Z",
     "start_time": "2024-12-06T19:23:44.408061Z"
    }
   },
   "source": [
    "df.head()"
   ],
   "outputs": [
    {
     "data": {
      "text/plain": [
       "              SP500\n",
       "DATE               \n",
       "2014-12-08  2060.31\n",
       "2014-12-09  2059.82\n",
       "2014-12-10  2026.14\n",
       "2014-12-11  2035.33\n",
       "2014-12-12  2002.33"
      ],
      "text/html": [
       "<div>\n",
       "<style scoped>\n",
       "    .dataframe tbody tr th:only-of-type {\n",
       "        vertical-align: middle;\n",
       "    }\n",
       "\n",
       "    .dataframe tbody tr th {\n",
       "        vertical-align: top;\n",
       "    }\n",
       "\n",
       "    .dataframe thead th {\n",
       "        text-align: right;\n",
       "    }\n",
       "</style>\n",
       "<table border=\"1\" class=\"dataframe\">\n",
       "  <thead>\n",
       "    <tr style=\"text-align: right;\">\n",
       "      <th></th>\n",
       "      <th>SP500</th>\n",
       "    </tr>\n",
       "    <tr>\n",
       "      <th>DATE</th>\n",
       "      <th></th>\n",
       "    </tr>\n",
       "  </thead>\n",
       "  <tbody>\n",
       "    <tr>\n",
       "      <th>2014-12-08</th>\n",
       "      <td>2060.31</td>\n",
       "    </tr>\n",
       "    <tr>\n",
       "      <th>2014-12-09</th>\n",
       "      <td>2059.82</td>\n",
       "    </tr>\n",
       "    <tr>\n",
       "      <th>2014-12-10</th>\n",
       "      <td>2026.14</td>\n",
       "    </tr>\n",
       "    <tr>\n",
       "      <th>2014-12-11</th>\n",
       "      <td>2035.33</td>\n",
       "    </tr>\n",
       "    <tr>\n",
       "      <th>2014-12-12</th>\n",
       "      <td>2002.33</td>\n",
       "    </tr>\n",
       "  </tbody>\n",
       "</table>\n",
       "</div>"
      ]
     },
     "execution_count": 4,
     "metadata": {},
     "output_type": "execute_result"
    }
   ],
   "execution_count": 4
  }
 ],
 "metadata": {
  "kernelspec": {
   "display_name": "Python 3 (ipykernel)",
   "language": "python",
   "name": "python3"
  },
  "language_info": {
   "codemirror_mode": {
    "name": "ipython",
    "version": 3
   },
   "file_extension": ".py",
   "mimetype": "text/x-python",
   "name": "python",
   "nbconvert_exporter": "python",
   "pygments_lexer": "ipython3",
   "version": "3.10.9"
  }
 },
 "nbformat": 4,
 "nbformat_minor": 5
}
