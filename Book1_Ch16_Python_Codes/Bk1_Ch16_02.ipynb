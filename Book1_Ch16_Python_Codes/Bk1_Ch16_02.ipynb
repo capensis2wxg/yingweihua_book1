{
 "cells": [
  {
   "cell_type": "markdown",
   "id": "c2b7da21-f761-4b32-9b9e-f8985e2f8dc9",
   "metadata": {},
   "source": [
    "Chapter 16\n",
    "# NumPy数组规整\n",
    "Book_1《编程不难》 | 鸢尾花书：从加减乘除到机器学习  "
   ]
  },
  {
   "cell_type": "code",
   "id": "a963642f-ed29-4266-85fc-2e3815b08edc",
   "metadata": {
    "ExecuteTime": {
     "end_time": "2024-12-05T16:25:43.888106Z",
     "start_time": "2024-12-05T16:25:43.880672Z"
    }
   },
   "source": [
    "# 导入包\n",
    "import numpy as np\n",
    "import seaborn as sns\n",
    "import matplotlib.pyplot as plt\n",
    "import math\n",
    "import os\n",
    "\n",
    "# 如果文件夹不存在，创建文件夹\n",
    "if not os.path.isdir(\"Figures\"):\n",
    "    os.makedirs(\"Figures\")"
   ],
   "outputs": [],
   "execution_count": 1
  },
  {
   "cell_type": "markdown",
   "id": "8a127334-ef1a-4830-ba85-aa725c4c0e4b",
   "metadata": {},
   "source": [
    "## 定义可视化函数"
   ]
  },
  {
   "cell_type": "code",
   "id": "14ac1471-23c1-4f10-af2d-fb89b126430e",
   "metadata": {
    "ExecuteTime": {
     "end_time": "2024-12-05T16:26:22.045776Z",
     "start_time": "2024-12-05T16:26:22.030544Z"
    }
   },
   "source": [
    "def visualize_2D(array, title, vmax, vmin):\n",
    "    fig_width  = math.ceil(array.shape[1] * 0.5)\n",
    "    fig_length = math.ceil(array.shape[0] * 0.5)\n",
    "    fig, ax = plt.subplots(figsize=(fig_width, fig_length))\n",
    "    # 注意，seaborn.heatmap() 目前只能接受2D数组\n",
    "    # 本书中，一维数组可视化时用圆圈\n",
    "    # 可视化时，只有二维、三维数组用方块\n",
    "    sns.heatmap(array, \n",
    "                vmax = vmax,\n",
    "                vmin = vmin,\n",
    "                annot = True,      # 增加注释\n",
    "                fmt = \".0f\",       # 注释数值的格式\n",
    "                square = True,     # 热图方格为正方形\n",
    "                cmap = 'RdYlBu_r', # 指定色谱\n",
    "                linewidths = .5,   # 方格线宽\n",
    "                cbar = False,      # 不显示色谱条\n",
    "                yticklabels=False, # 不显示纵轴标签\n",
    "                xticklabels=False, # 不显示横轴标签\n",
    "                ax = ax)           # 指定绘制热图的轴\n",
    "    fig.savefig('Figures/' + title + '.svg', format='svg')\n",
    "\n",
    "# 定义绘制一元数组可视化函数\n",
    "def visualize_1D(array, title, vmax, vmin):\n",
    "    fig, ax = plt.subplots()\n",
    "    cmap = plt.colormaps.get_cmap(\"RdYlBu_r\")\n",
    "    array_norm = (array - vmin) / (vmax - vmin)\n",
    "    colors = cmap(array_norm)\n",
    "    for idx in range(len(array)):\n",
    "        circle_idx = plt.Circle((idx, 0), 0.5, facecolor=colors[idx], edgecolor = 'w')\n",
    "        ax.add_patch(circle_idx)\n",
    "        ax.text(idx, 0, s = \"{:.1f}\".format(array[idx]),horizontalalignment = 'center',verticalalignment = 'center')\n",
    "    ax.set_xlim(-0.6, 0.6 + len(array))\n",
    "    ax.set_ylim(-0.6, 0.6)\n",
    "    ax.set_aspect('equal', adjustable='box')\n",
    "    ax.axis('off')\n",
    "    fig.savefig('Figures/' + title + '.svg', format='svg')"
   ],
   "outputs": [],
   "execution_count": 3
  },
  {
   "cell_type": "markdown",
   "id": "cb1204b2-1f67-47e5-8b6b-890e797d193d",
   "metadata": {},
   "source": [
    "## 堆叠"
   ]
  },
  {
   "cell_type": "code",
   "id": "51ab495d-f96b-4f57-807a-e0145fa142de",
   "metadata": {
    "ExecuteTime": {
     "end_time": "2024-12-05T16:26:56.837011Z",
     "start_time": "2024-12-05T16:26:56.825864Z"
    }
   },
   "source": [
    "a1 = np.arange(1, 5 + 1)\n",
    "a1"
   ],
   "outputs": [
    {
     "data": {
      "text/plain": [
       "array([1, 2, 3, 4, 5])"
      ]
     },
     "execution_count": 5,
     "metadata": {},
     "output_type": "execute_result"
    }
   ],
   "execution_count": 5
  },
  {
   "cell_type": "code",
   "id": "fcbb647c-82cc-42b6-9a85-4180976ee445",
   "metadata": {
    "ExecuteTime": {
     "end_time": "2024-12-05T16:27:01.474846Z",
     "start_time": "2024-12-05T16:27:01.387837Z"
    }
   },
   "source": [
    "visualize_1D(a1, 'a1，一维', 5, -5)"
   ],
   "outputs": [
    {
     "data": {
      "text/plain": [
       "<Figure size 640x480 with 1 Axes>"
      ],
      "image/png": "[encoded data removed]"
     },
     "metadata": {},
     "output_type": "display_data"
    }
   ],
   "execution_count": 6
  },
  {
   "cell_type": "code",
   "id": "8fa6e56c-ea2f-4aa7-ba3c-1586f1397adc",
   "metadata": {
    "ExecuteTime": {
     "end_time": "2024-12-05T16:27:09.889167Z",
     "start_time": "2024-12-05T16:27:09.882541Z"
    }
   },
   "source": [
    "a2 = np.arange(-5, 0)\n",
    "a2"
   ],
   "outputs": [
    {
     "data": {
      "text/plain": [
       "array([-5, -4, -3, -2, -1])"
      ]
     },
     "execution_count": 7,
     "metadata": {},
     "output_type": "execute_result"
    }
   ],
   "execution_count": 7
  },
  {
   "cell_type": "code",
   "id": "d27cd90d-cc98-4a0b-9c92-edfa2716ec3b",
   "metadata": {
    "ExecuteTime": {
     "end_time": "2024-12-05T16:27:13.400800Z",
     "start_time": "2024-12-05T16:27:12.940690Z"
    }
   },
   "source": [
    "visualize_1D(a2, 'a2，一维', 5, -5)"
   ],
   "outputs": [
    {
     "data": {
      "text/plain": [
       "<Figure size 640x480 with 1 Axes>"
      ],
      "image/png": "[encoded data removed]"
     },
     "metadata": {},
     "output_type": "display_data"
    }
   ],
   "execution_count": 8
  },
  {
   "cell_type": "markdown",
   "id": "0c1884bd-53ed-4a8e-9dca-cfee0cdc7086",
   "metadata": {},
   "source": [
    "### 沿行堆叠"
   ]
  },
  {
   "cell_type": "code",
   "id": "7253dfa7-bf19-4c16-a204-3b9fdcc3b5bd",
   "metadata": {
    "ExecuteTime": {
     "end_time": "2024-12-05T16:27:27.678240Z",
     "start_time": "2024-12-05T16:27:27.663423Z"
    }
   },
   "source": [
    "np.stack((a1, a2))\n",
    "# 默认， axis = 0"
   ],
   "outputs": [
    {
     "data": {
      "text/plain": [
       "array([[ 1,  2,  3,  4,  5],\n",
       "       [-5, -4, -3, -2, -1]])"
      ]
     },
     "execution_count": 9,
     "metadata": {},
     "output_type": "execute_result"
    }
   ],
   "execution_count": 9
  },
  {
   "cell_type": "code",
   "id": "62d25e24-adfe-4b21-9760-213f94cf335f",
   "metadata": {
    "ExecuteTime": {
     "end_time": "2024-12-05T16:27:51.872983Z",
     "start_time": "2024-12-05T16:27:51.794064Z"
    }
   },
   "source": [
    "visualize_2D(np.stack((a1, a2)), '沿行叠加，np.stack', 5, -5)"
   ],
   "outputs": [
    {
     "data": {
      "text/plain": [
       "<Figure size 300x100 with 1 Axes>"
      ],
      "image/png": "[encoded data removed]"
     },
     "metadata": {},
     "output_type": "display_data"
    }
   ],
   "execution_count": 10
  },
  {
   "cell_type": "code",
   "id": "23edbfff-06dc-40c2-9ecc-f9e6303690bd",
   "metadata": {
    "ExecuteTime": {
     "end_time": "2024-12-05T16:27:56.466606Z",
     "start_time": "2024-12-05T16:27:56.453372Z"
    }
   },
   "source": [
    "# 多个数组拼接\n",
    "np.stack((a1, a2, a1, a2, a1, a2))"
   ],
   "outputs": [
    {
     "data": {
      "text/plain": [
       "array([[ 1,  2,  3,  4,  5],\n",
       "       [-5, -4, -3, -2, -1],\n",
       "       [ 1,  2,  3,  4,  5],\n",
       "       [-5, -4, -3, -2, -1],\n",
       "       [ 1,  2,  3,  4,  5],\n",
       "       [-5, -4, -3, -2, -1]])"
      ]
     },
     "execution_count": 11,
     "metadata": {},
     "output_type": "execute_result"
    }
   ],
   "execution_count": 11
  },
  {
   "cell_type": "code",
   "id": "f5520250-2043-4a16-b539-362183719410",
   "metadata": {
    "ExecuteTime": {
     "end_time": "2024-12-05T16:28:02.007093Z",
     "start_time": "2024-12-05T16:28:01.990407Z"
    }
   },
   "source": [
    "np.row_stack((a1, a2))"
   ],
   "outputs": [
    {
     "name": "stderr",
     "output_type": "stream",
     "text": [
      "C:\\Users\\capen\\AppData\\Local\\Temp\\ipykernel_41904\\421862838.py:1: DeprecationWarning: `row_stack` alias is deprecated. Use `np.vstack` directly.\n",
      "  np.row_stack((a1, a2))\n"
     ]
    },
    {
     "data": {
      "text/plain": [
       "array([[ 1,  2,  3,  4,  5],\n",
       "       [-5, -4, -3, -2, -1]])"
      ]
     },
     "execution_count": 12,
     "metadata": {},
     "output_type": "execute_result"
    }
   ],
   "execution_count": 12
  },
  {
   "cell_type": "code",
   "id": "10afb6a1-ae1d-4005-bf2d-7c7edd5c3492",
   "metadata": {
    "ExecuteTime": {
     "end_time": "2024-12-05T16:28:15.491861Z",
     "start_time": "2024-12-05T16:28:15.480937Z"
    }
   },
   "source": [
    "np.vstack((a1, a2))"
   ],
   "outputs": [
    {
     "data": {
      "text/plain": [
       "array([[ 1,  2,  3,  4,  5],\n",
       "       [-5, -4, -3, -2, -1]])"
      ]
     },
     "execution_count": 13,
     "metadata": {},
     "output_type": "execute_result"
    }
   ],
   "execution_count": 13
  },
  {
   "cell_type": "code",
   "id": "4d2bf2dc-ce59-4f27-aafe-6284dabd48b3",
   "metadata": {
    "ExecuteTime": {
     "end_time": "2024-12-05T16:28:19.919451Z",
     "start_time": "2024-12-05T16:28:19.910687Z"
    }
   },
   "source": [
    "np.vstack((a1.reshape(-1,1), a2.reshape(-1,1)))"
   ],
   "outputs": [
    {
     "data": {
      "text/plain": [
       "array([[ 1],\n",
       "       [ 2],\n",
       "       [ 3],\n",
       "       [ 4],\n",
       "       [ 5],\n",
       "       [-5],\n",
       "       [-4],\n",
       "       [-3],\n",
       "       [-2],\n",
       "       [-1]])"
      ]
     },
     "execution_count": 14,
     "metadata": {},
     "output_type": "execute_result"
    }
   ],
   "execution_count": 14
  },
  {
   "cell_type": "code",
   "id": "6506de51-4ffc-4e88-9dc1-61f688ed2094",
   "metadata": {
    "ExecuteTime": {
     "end_time": "2024-12-05T16:31:26.752237Z",
     "start_time": "2024-12-05T16:31:26.740206Z"
    }
   },
   "source": [
    "# 创建一个空数组\n",
    "arr = np.empty((0, 3), dtype=int)\n",
    "# 通过for循环向数组中添加元素\n",
    "for i in range(5):\n",
    "    row = [i, i+1, i+2]\n",
    "    arr = np.vstack([arr, row])\n",
    "print(arr)\n",
    "\n",
    "# 在这个示例中，首先使用np.empty()函数创建了一个空数组，\n",
    "# 其形状为(0, 3)，表示该数组有0行3列。\n",
    "# 接着通过for循环，生成一个包含5行3列的数组，\n",
    "# 每一行的值都是从i开始的三个连续整数。\n",
    "\n",
    "# 在for循环中，使用np.vstack()函数将每一行添加到数组中。\n",
    "# np.vstack()函数可以将多个数组沿着垂直方向堆叠起来，\n",
    "# 因此可以将每一行当作一个数组，\n",
    "# 然后将它们依次添加到原来的数组中。"
   ],
   "outputs": [
    {
     "name": "stdout",
     "output_type": "stream",
     "text": [
      "[[0 1 2]\n",
      " [1 2 3]\n",
      " [2 3 4]\n",
      " [3 4 5]\n",
      " [4 5 6]]\n"
     ]
    }
   ],
   "execution_count": 16
  },
  {
   "cell_type": "markdown",
   "id": "4da0c9b6-7ac4-4732-9d4f-c7a03007ed6d",
   "metadata": {},
   "source": [
    "### 沿列堆叠"
   ]
  },
  {
   "cell_type": "code",
   "id": "76c56a99-ceb0-41e9-b20f-f7352d854c62",
   "metadata": {
    "ExecuteTime": {
     "end_time": "2024-12-05T16:31:31.875693Z",
     "start_time": "2024-12-05T16:31:31.862826Z"
    }
   },
   "source": [
    "np.stack((a1, a2), axis = 1)"
   ],
   "outputs": [
    {
     "data": {
      "text/plain": [
       "array([[ 1, -5],\n",
       "       [ 2, -4],\n",
       "       [ 3, -3],\n",
       "       [ 4, -2],\n",
       "       [ 5, -1]])"
      ]
     },
     "execution_count": 17,
     "metadata": {},
     "output_type": "execute_result"
    }
   ],
   "execution_count": 17
  },
  {
   "cell_type": "code",
   "id": "f4a184cc-cc07-40c0-8587-ab12a0f5c410",
   "metadata": {
    "ExecuteTime": {
     "end_time": "2024-12-05T16:31:38.035781Z",
     "start_time": "2024-12-05T16:31:37.972044Z"
    }
   },
   "source": [
    "visualize_2D(np.stack((a1, a2), axis = 1), '沿列叠加，np.stack', 5, -5)"
   ],
   "outputs": [
    {
     "data": {
      "text/plain": [
       "<Figure size 100x300 with 1 Axes>"
      ],
      "image/png": "[encoded data removed]"
     },
     "metadata": {},
     "output_type": "display_data"
    }
   ],
   "execution_count": 18
  },
  {
   "cell_type": "code",
   "id": "75364932-0f9a-4a16-aa87-9f49980ac3fe",
   "metadata": {
    "ExecuteTime": {
     "end_time": "2024-12-05T16:31:42.045Z",
     "start_time": "2024-12-05T16:31:42.020790Z"
    }
   },
   "source": [
    "np.column_stack((a1, a2))"
   ],
   "outputs": [
    {
     "data": {
      "text/plain": [
       "array([[ 1, -5],\n",
       "       [ 2, -4],\n",
       "       [ 3, -3],\n",
       "       [ 4, -2],\n",
       "       [ 5, -1]])"
      ]
     },
     "execution_count": 19,
     "metadata": {},
     "output_type": "execute_result"
    }
   ],
   "execution_count": 19
  },
  {
   "cell_type": "code",
   "id": "6dd7193f-21f7-4905-a47e-33bcbec6feb6",
   "metadata": {
    "ExecuteTime": {
     "end_time": "2024-12-05T16:31:54.950332Z",
     "start_time": "2024-12-05T16:31:54.940709Z"
    }
   },
   "source": [
    "np.hstack((a1, a2))\n",
    "# numpy.hstack 函数可以用来沿着水平方向将多个数组堆叠在一起，形成一个新的数组"
   ],
   "outputs": [
    {
     "data": {
      "text/plain": [
       "array([ 1,  2,  3,  4,  5, -5, -4, -3, -2, -1])"
      ]
     },
     "execution_count": 20,
     "metadata": {},
     "output_type": "execute_result"
    }
   ],
   "execution_count": 20
  },
  {
   "cell_type": "code",
   "id": "b1700f23-b2d4-44df-9597-220118b5f7b0",
   "metadata": {
    "ExecuteTime": {
     "end_time": "2024-12-05T16:31:59.740424Z",
     "start_time": "2024-12-05T16:31:59.620277Z"
    }
   },
   "source": [
    "visualize_1D(np.hstack((a1, a2)), 'a1，a2，一维堆叠', 5, -5)"
   ],
   "outputs": [
    {
     "data": {
      "text/plain": [
       "<Figure size 640x480 with 1 Axes>"
      ],
      "image/png": "[encoded data removed]"
     },
     "metadata": {},
     "output_type": "display_data"
    }
   ],
   "execution_count": 21
  },
  {
   "cell_type": "code",
   "id": "5cd178cd-4c6d-48bd-aa53-cdd041196a00",
   "metadata": {
    "ExecuteTime": {
     "end_time": "2024-12-05T16:32:04.618903Z",
     "start_time": "2024-12-05T16:32:04.533347Z"
    }
   },
   "source": [
    "visualize_1D(np.hstack((a2, a1)), 'a1，a2，一维堆叠，反向', 5, -5)"
   ],
   "outputs": [
    {
     "data": {
      "text/plain": [
       "<Figure size 640x480 with 1 Axes>"
      ],
      "image/png": "[encoded data removed]"
     },
     "metadata": {},
     "output_type": "display_data"
    }
   ],
   "execution_count": 22
  },
  {
   "cell_type": "code",
   "id": "742dd9a1-dcc9-438a-958a-17a60cdc38f1",
   "metadata": {
    "ExecuteTime": {
     "end_time": "2024-12-05T16:32:11.815461Z",
     "start_time": "2024-12-05T16:32:11.805693Z"
    }
   },
   "source": [
    "np.hstack((a1.reshape(-1,1), a2.reshape(-1,1)))"
   ],
   "outputs": [
    {
     "data": {
      "text/plain": [
       "array([[ 1, -5],\n",
       "       [ 2, -4],\n",
       "       [ 3, -3],\n",
       "       [ 4, -2],\n",
       "       [ 5, -1]])"
      ]
     },
     "execution_count": 23,
     "metadata": {},
     "output_type": "execute_result"
    }
   ],
   "execution_count": 23
  },
  {
   "cell_type": "markdown",
   "id": "adbfa562-2150-467a-92d6-7b8cc288aacf",
   "metadata": {},
   "source": [
    "### 拼接numpy.concatenate()"
   ]
  },
  {
   "cell_type": "code",
   "id": "771f7d16-da59-4960-8f04-e5fafb2c1608",
   "metadata": {
    "ExecuteTime": {
     "end_time": "2024-12-05T16:32:21.828536Z",
     "start_time": "2024-12-05T16:32:21.819308Z"
    }
   },
   "source": [
    "A_3_by_3 = np.arange(-4,4+1).reshape(3,3)\n",
    "A_3_by_3"
   ],
   "outputs": [
    {
     "data": {
      "text/plain": [
       "array([[-4, -3, -2],\n",
       "       [-1,  0,  1],\n",
       "       [ 2,  3,  4]])"
      ]
     },
     "execution_count": 24,
     "metadata": {},
     "output_type": "execute_result"
    }
   ],
   "execution_count": 24
  },
  {
   "cell_type": "code",
   "id": "8939a9fa-ea55-4cd7-988d-6078f9764ed2",
   "metadata": {
    "ExecuteTime": {
     "end_time": "2024-12-05T16:32:35.558465Z",
     "start_time": "2024-12-05T16:32:35.497585Z"
    }
   },
   "source": [
    "visualize_2D(A_3_by_3, 'A_3_by_3', 5, -5)"
   ],
   "outputs": [
    {
     "data": {
      "text/plain": [
       "<Figure size 200x200 with 1 Axes>"
      ],
      "image/png": "[encoded data removed]"
     },
     "metadata": {},
     "output_type": "display_data"
    }
   ],
   "execution_count": 25
  },
  {
   "cell_type": "code",
   "id": "51e0337b-fac7-48c0-a0be-87f63536b1c4",
   "metadata": {
    "ExecuteTime": {
     "end_time": "2024-12-05T16:40:22.780485Z",
     "start_time": "2024-12-05T16:40:22.771191Z"
    }
   },
   "source": [
    "B_3_by_1 = np.array([[4, 0, 4]])\n",
    "B_3_by_1"
   ],
   "outputs": [
    {
     "data": {
      "text/plain": [
       "array([[4, 0, 4]])"
      ]
     },
     "execution_count": 29,
     "metadata": {},
     "output_type": "execute_result"
    }
   ],
   "execution_count": 29
  },
  {
   "cell_type": "code",
   "id": "f8b5c848-d837-4527-9568-d36b3f822931",
   "metadata": {
    "ExecuteTime": {
     "end_time": "2024-12-05T16:40:06.464205Z",
     "start_time": "2024-12-05T16:40:06.398618Z"
    }
   },
   "source": [
    "visualize_2D(B_3_by_1, 'B_3_by_1', 5, -5)"
   ],
   "outputs": [
    {
     "data": {
      "text/plain": [
       "<Figure size 200x100 with 1 Axes>"
      ],
      "image/png": "[encoded data removed]"
     },
     "metadata": {},
     "output_type": "display_data"
    }
   ],
   "execution_count": 28
  },
  {
   "cell_type": "code",
   "id": "bfa9c59c-1174-4858-a2bb-ea2555dc1d41",
   "metadata": {
    "ExecuteTime": {
     "end_time": "2024-12-05T16:40:29.965747Z",
     "start_time": "2024-12-05T16:40:29.954167Z"
    }
   },
   "source": [
    "B_3_by_1.T\n",
    "# 转置"
   ],
   "outputs": [
    {
     "data": {
      "text/plain": [
       "array([[4],\n",
       "       [0],\n",
       "       [4]])"
      ]
     },
     "execution_count": 30,
     "metadata": {},
     "output_type": "execute_result"
    }
   ],
   "execution_count": 30
  },
  {
   "cell_type": "code",
   "id": "d904aa08-10a9-4542-ab85-90267d44ef18",
   "metadata": {
    "ExecuteTime": {
     "end_time": "2024-12-05T16:40:34.687243Z",
     "start_time": "2024-12-05T16:40:34.631004Z"
    }
   },
   "source": [
    "visualize_2D(B_3_by_1.T, 'B_3_by_1.T', 5, -5)"
   ],
   "outputs": [
    {
     "data": {
      "text/plain": [
       "<Figure size 100x200 with 1 Axes>"
      ],
      "image/png": "[encoded data removed]"
     },
     "metadata": {},
     "output_type": "display_data"
    }
   ],
   "execution_count": 31
  },
  {
   "cell_type": "markdown",
   "id": "bc033434-e96a-4971-840a-2d9d90df0c9e",
   "metadata": {},
   "source": [
    "#### 沿行"
   ]
  },
  {
   "cell_type": "code",
   "id": "b65545a5-e6aa-4a5e-8a5a-8006d2788161",
   "metadata": {
    "ExecuteTime": {
     "end_time": "2024-12-05T16:40:42.283242Z",
     "start_time": "2024-12-05T16:40:42.280154Z"
    }
   },
   "source": [
    "np.concatenate((A_3_by_3, B_3_by_1), axis=0)"
   ],
   "outputs": [
    {
     "data": {
      "text/plain": [
       "array([[-4, -3, -2],\n",
       "       [-1,  0,  1],\n",
       "       [ 2,  3,  4],\n",
       "       [ 4,  0,  4]])"
      ]
     },
     "execution_count": 32,
     "metadata": {},
     "output_type": "execute_result"
    }
   ],
   "execution_count": 32
  },
  {
   "cell_type": "code",
   "id": "e217a2b9-1481-4442-b537-cad32a449f79",
   "metadata": {
    "ExecuteTime": {
     "end_time": "2024-12-05T16:40:46.859065Z",
     "start_time": "2024-12-05T16:40:46.800257Z"
    }
   },
   "source": [
    "visualize_2D(np.concatenate((A_3_by_3, B_3_by_1), axis=0), '拼接，沿行', 5, -5)"
   ],
   "outputs": [
    {
     "data": {
      "text/plain": [
       "<Figure size 200x200 with 1 Axes>"
      ],
      "image/png": "[encoded data removed]"
     },
     "metadata": {},
     "output_type": "display_data"
    }
   ],
   "execution_count": 33
  },
  {
   "cell_type": "code",
   "id": "1fe8d6b1-32e4-4ec3-8abe-969ff937d218",
   "metadata": {
    "ExecuteTime": {
     "end_time": "2024-12-05T16:40:51.000512Z",
     "start_time": "2024-12-05T16:40:50.981743Z"
    }
   },
   "source": [
    "np.vstack((A_3_by_3, B_3_by_1))"
   ],
   "outputs": [
    {
     "data": {
      "text/plain": [
       "array([[-4, -3, -2],\n",
       "       [-1,  0,  1],\n",
       "       [ 2,  3,  4],\n",
       "       [ 4,  0,  4]])"
      ]
     },
     "execution_count": 34,
     "metadata": {},
     "output_type": "execute_result"
    }
   ],
   "execution_count": 34
  },
  {
   "cell_type": "markdown",
   "id": "4f4a6c81-3f41-4b0a-88b2-4767a55916ee",
   "metadata": {},
   "source": [
    "#### 沿列"
   ]
  },
  {
   "cell_type": "code",
   "id": "7b3b83b0-8d0f-4da4-876b-39a167f3f0fe",
   "metadata": {
    "ExecuteTime": {
     "end_time": "2024-12-05T16:40:55.158819Z",
     "start_time": "2024-12-05T16:40:55.141976Z"
    }
   },
   "source": [
    "np.concatenate((A_3_by_3, B_3_by_1.T), axis=1)"
   ],
   "outputs": [
    {
     "data": {
      "text/plain": [
       "array([[-4, -3, -2,  4],\n",
       "       [-1,  0,  1,  0],\n",
       "       [ 2,  3,  4,  4]])"
      ]
     },
     "execution_count": 35,
     "metadata": {},
     "output_type": "execute_result"
    }
   ],
   "execution_count": 35
  },
  {
   "cell_type": "code",
   "id": "685f9752-73bf-4d3e-a80a-e28ef089efe8",
   "metadata": {
    "ExecuteTime": {
     "end_time": "2024-12-05T16:40:59.372710Z",
     "start_time": "2024-12-05T16:40:59.304456Z"
    }
   },
   "source": [
    "visualize_2D(np.concatenate((A_3_by_3, B_3_by_1.T), axis=1), '拼接，沿列', 5, -5)"
   ],
   "outputs": [
    {
     "data": {
      "text/plain": [
       "<Figure size 200x200 with 1 Axes>"
      ],
      "image/png": "[encoded data removed]"
     },
     "metadata": {},
     "output_type": "display_data"
    }
   ],
   "execution_count": 36
  },
  {
   "cell_type": "code",
   "id": "cdd3d26d-0d73-4ab6-a356-75afc6c04433",
   "metadata": {
    "ExecuteTime": {
     "end_time": "2024-12-05T16:41:04.290135Z",
     "start_time": "2024-12-05T16:41:04.280207Z"
    }
   },
   "source": [
    "np.hstack((A_3_by_3, B_3_by_1.T))"
   ],
   "outputs": [
    {
     "data": {
      "text/plain": [
       "array([[-4, -3, -2,  4],\n",
       "       [-1,  0,  1,  0],\n",
       "       [ 2,  3,  4,  4]])"
      ]
     },
     "execution_count": 37,
     "metadata": {},
     "output_type": "execute_result"
    }
   ],
   "execution_count": 37
  },
  {
   "cell_type": "code",
   "id": "4c4d71bd-32f6-4182-a0de-d3eda663a098",
   "metadata": {
    "ExecuteTime": {
     "end_time": "2024-12-05T16:41:08.467166Z",
     "start_time": "2024-12-05T16:41:08.458283Z"
    }
   },
   "source": [
    "np.concatenate((A_3_by_3, B_3_by_1), axis=None)"
   ],
   "outputs": [
    {
     "data": {
      "text/plain": [
       "array([-4, -3, -2, -1,  0,  1,  2,  3,  4,  4,  0,  4])"
      ]
     },
     "execution_count": 38,
     "metadata": {},
     "output_type": "execute_result"
    }
   ],
   "execution_count": 38
  },
  {
   "cell_type": "markdown",
   "id": "3da7accb-6159-4f6c-a498-a1d1b1055b22",
   "metadata": {},
   "source": [
    "### 堆叠结果为三维数组"
   ]
  },
  {
   "cell_type": "code",
   "id": "53445c1f-1987-4a64-aa36-8ce61723f790",
   "metadata": {
    "ExecuteTime": {
     "end_time": "2024-12-05T16:41:19.712319Z",
     "start_time": "2024-12-05T16:41:19.700067Z"
    }
   },
   "source": [
    "A = np.arange(1, 24 + 1).reshape(4, -1) \n",
    "A"
   ],
   "outputs": [
    {
     "data": {
      "text/plain": [
       "array([[ 1,  2,  3,  4,  5,  6],\n",
       "       [ 7,  8,  9, 10, 11, 12],\n",
       "       [13, 14, 15, 16, 17, 18],\n",
       "       [19, 20, 21, 22, 23, 24]])"
      ]
     },
     "execution_count": 39,
     "metadata": {},
     "output_type": "execute_result"
    }
   ],
   "execution_count": 39
  },
  {
   "cell_type": "code",
   "id": "6c6741bd-eabe-45fe-b961-56ac61f865e6",
   "metadata": {
    "ExecuteTime": {
     "end_time": "2024-12-05T16:41:29.817988Z",
     "start_time": "2024-12-05T16:41:29.751865Z"
    }
   },
   "source": [
    "visualize_2D(A, '二维数组A', 24, -24)"
   ],
   "outputs": [
    {
     "data": {
      "text/plain": [
       "<Figure size 300x200 with 1 Axes>"
      ],
      "image/png": "[encoded data removed]"
     },
     "metadata": {},
     "output_type": "display_data"
    }
   ],
   "execution_count": 40
  },
  {
   "cell_type": "code",
   "id": "3ea7933c-bcfb-43c3-a6db-2878c9c026eb",
   "metadata": {
    "ExecuteTime": {
     "end_time": "2024-12-05T16:41:34.344736Z",
     "start_time": "2024-12-05T16:41:34.331434Z"
    }
   },
   "source": [
    "B = np.arange(-24, 0).reshape(4, -1)\n",
    "B"
   ],
   "outputs": [
    {
     "data": {
      "text/plain": [
       "array([[-24, -23, -22, -21, -20, -19],\n",
       "       [-18, -17, -16, -15, -14, -13],\n",
       "       [-12, -11, -10,  -9,  -8,  -7],\n",
       "       [ -6,  -5,  -4,  -3,  -2,  -1]])"
      ]
     },
     "execution_count": 41,
     "metadata": {},
     "output_type": "execute_result"
    }
   ],
   "execution_count": 41
  },
  {
   "cell_type": "code",
   "id": "09bb57d5-58db-42e0-821f-d334e68ac65b",
   "metadata": {
    "ExecuteTime": {
     "end_time": "2024-12-05T16:41:39.395600Z",
     "start_time": "2024-12-05T16:41:39.183585Z"
    }
   },
   "source": [
    "visualize_2D(B, '二维数组B', 24, -24)"
   ],
   "outputs": [
    {
     "data": {
      "text/plain": [
       "<Figure size 300x200 with 1 Axes>"
      ],
      "image/png": "[encoded data removed]"
     },
     "metadata": {},
     "output_type": "display_data"
    }
   ],
   "execution_count": 42
  },
  {
   "cell_type": "markdown",
   "id": "3e601483-d6fa-44e0-9517-b7e47bfd967f",
   "metadata": {},
   "source": [
    "#### axis = 0，前后堆叠"
   ]
  },
  {
   "cell_type": "code",
   "id": "a407bb9a-51db-4384-bb55-a596eeaebb75",
   "metadata": {
    "ExecuteTime": {
     "end_time": "2024-12-05T16:41:43.273613Z",
     "start_time": "2024-12-05T16:41:43.267708Z"
    }
   },
   "source": [
    "A_B_0 = np.stack((A, B))\n",
    "# 默认叠合方向 axis = 0\n",
    "A_B_0"
   ],
   "outputs": [
    {
     "data": {
      "text/plain": [
       "array([[[  1,   2,   3,   4,   5,   6],\n",
       "        [  7,   8,   9,  10,  11,  12],\n",
       "        [ 13,  14,  15,  16,  17,  18],\n",
       "        [ 19,  20,  21,  22,  23,  24]],\n",
       "\n",
       "       [[-24, -23, -22, -21, -20, -19],\n",
       "        [-18, -17, -16, -15, -14, -13],\n",
       "        [-12, -11, -10,  -9,  -8,  -7],\n",
       "        [ -6,  -5,  -4,  -3,  -2,  -1]]])"
      ]
     },
     "execution_count": 43,
     "metadata": {},
     "output_type": "execute_result"
    }
   ],
   "execution_count": 43
  },
  {
   "cell_type": "code",
   "id": "3f935c85-0e85-47f7-a10c-cd01e1146721",
   "metadata": {
    "ExecuteTime": {
     "end_time": "2024-12-05T16:41:47.370484Z",
     "start_time": "2024-12-05T16:41:47.363966Z"
    }
   },
   "source": [
    "A_B_0.shape"
   ],
   "outputs": [
    {
     "data": {
      "text/plain": [
       "(2, 4, 6)"
      ]
     },
     "execution_count": 44,
     "metadata": {},
     "output_type": "execute_result"
    }
   ],
   "execution_count": 44
  },
  {
   "cell_type": "code",
   "id": "4ace7520-a822-4998-8114-caff6019be45",
   "metadata": {
    "ExecuteTime": {
     "end_time": "2024-12-05T16:41:52.654685Z",
     "start_time": "2024-12-05T16:41:52.641706Z"
    }
   },
   "source": [
    "# 取出第一页A\n",
    "A_B_0[0, :, :]"
   ],
   "outputs": [
    {
     "data": {
      "text/plain": [
       "array([[ 1,  2,  3,  4,  5,  6],\n",
       "       [ 7,  8,  9, 10, 11, 12],\n",
       "       [13, 14, 15, 16, 17, 18],\n",
       "       [19, 20, 21, 22, 23, 24]])"
      ]
     },
     "execution_count": 45,
     "metadata": {},
     "output_type": "execute_result"
    }
   ],
   "execution_count": 45
  },
  {
   "cell_type": "code",
   "id": "01c193de-475a-476f-a183-f532b7d5c380",
   "metadata": {
    "ExecuteTime": {
     "end_time": "2024-12-05T16:41:57.138018Z",
     "start_time": "2024-12-05T16:41:57.129958Z"
    }
   },
   "source": [
    "A_B_0[0, ...]"
   ],
   "outputs": [
    {
     "data": {
      "text/plain": [
       "array([[ 1,  2,  3,  4,  5,  6],\n",
       "       [ 7,  8,  9, 10, 11, 12],\n",
       "       [13, 14, 15, 16, 17, 18],\n",
       "       [19, 20, 21, 22, 23, 24]])"
      ]
     },
     "execution_count": 46,
     "metadata": {},
     "output_type": "execute_result"
    }
   ],
   "execution_count": 46
  },
  {
   "cell_type": "code",
   "id": "7f237640-3ee3-481a-b9e3-ac50570281e8",
   "metadata": {
    "ExecuteTime": {
     "end_time": "2024-12-05T16:42:01.547295Z",
     "start_time": "2024-12-05T16:42:01.456505Z"
    }
   },
   "source": [
    "visualize_2D(A_B_0[0, ...], '沿深度堆叠，axis = 0，第0页', 12, -12)"
   ],
   "outputs": [
    {
     "data": {
      "text/plain": [
       "<Figure size 300x200 with 1 Axes>"
      ],
      "image/png": "[encoded data removed]"
     },
     "metadata": {},
     "output_type": "display_data"
    }
   ],
   "execution_count": 47
  },
  {
   "cell_type": "code",
   "id": "e0f765a4-0d36-49f2-86f5-aa81a722e370",
   "metadata": {
    "ExecuteTime": {
     "end_time": "2024-12-05T16:42:05.317567Z",
     "start_time": "2024-12-05T16:42:05.123285Z"
    }
   },
   "source": [
    "visualize_2D(A_B_0[1, ...], '沿深度堆叠，axis = 0，第1页', 12, -12)"
   ],
   "outputs": [
    {
     "data": {
      "text/plain": [
       "<Figure size 300x200 with 1 Axes>"
      ],
      "image/png": "[encoded data removed]"
     },
     "metadata": {},
     "output_type": "display_data"
    }
   ],
   "execution_count": 48
  },
  {
   "cell_type": "code",
   "id": "df2c862c-cbed-43b6-9797-df80a82f39cb",
   "metadata": {
    "ExecuteTime": {
     "end_time": "2024-12-05T16:42:12.770638Z",
     "start_time": "2024-12-05T16:42:12.760242Z"
    }
   },
   "source": [
    "A_B_0[0]"
   ],
   "outputs": [
    {
     "data": {
      "text/plain": [
       "array([[ 1,  2,  3,  4,  5,  6],\n",
       "       [ 7,  8,  9, 10, 11, 12],\n",
       "       [13, 14, 15, 16, 17, 18],\n",
       "       [19, 20, 21, 22, 23, 24]])"
      ]
     },
     "execution_count": 49,
     "metadata": {},
     "output_type": "execute_result"
    }
   ],
   "execution_count": 49
  },
  {
   "cell_type": "markdown",
   "id": "e73b8804-35dc-4712-b44e-a8070a3d229c",
   "metadata": {},
   "source": [
    "#### axis = 1，上下堆叠"
   ]
  },
  {
   "cell_type": "code",
   "id": "a5766ed4-1ed5-4476-8a79-a96b9ed2cd4e",
   "metadata": {
    "ExecuteTime": {
     "end_time": "2024-12-05T16:42:18.547621Z",
     "start_time": "2024-12-05T16:42:18.542243Z"
    }
   },
   "source": [
    "A_B_1 = np.stack((A, B), axis=1)  \n",
    "# dimension 1\n",
    "A_B_1"
   ],
   "outputs": [
    {
     "data": {
      "text/plain": [
       "array([[[  1,   2,   3,   4,   5,   6],\n",
       "        [-24, -23, -22, -21, -20, -19]],\n",
       "\n",
       "       [[  7,   8,   9,  10,  11,  12],\n",
       "        [-18, -17, -16, -15, -14, -13]],\n",
       "\n",
       "       [[ 13,  14,  15,  16,  17,  18],\n",
       "        [-12, -11, -10,  -9,  -8,  -7]],\n",
       "\n",
       "       [[ 19,  20,  21,  22,  23,  24],\n",
       "        [ -6,  -5,  -4,  -3,  -2,  -1]]])"
      ]
     },
     "execution_count": 50,
     "metadata": {},
     "output_type": "execute_result"
    }
   ],
   "execution_count": 50
  },
  {
   "cell_type": "code",
   "id": "1a88949d-b5e6-4ace-a101-498d4408cbad",
   "metadata": {
    "ExecuteTime": {
     "end_time": "2024-12-05T16:42:22.491407Z",
     "start_time": "2024-12-05T16:42:22.480699Z"
    }
   },
   "source": [
    "A_B_1.shape"
   ],
   "outputs": [
    {
     "data": {
      "text/plain": [
       "(4, 2, 6)"
      ]
     },
     "execution_count": 51,
     "metadata": {},
     "output_type": "execute_result"
    }
   ],
   "execution_count": 51
  },
  {
   "cell_type": "code",
   "id": "02fa1d52-14c6-49cd-86a2-683aa6b2a755",
   "metadata": {
    "ExecuteTime": {
     "end_time": "2024-12-05T16:42:26.525663Z",
     "start_time": "2024-12-05T16:42:26.454009Z"
    }
   },
   "source": [
    "visualize_2D(A_B_1[0, ...], '沿深度堆叠，axis = 1，第0页', 24, -24)"
   ],
   "outputs": [
    {
     "data": {
      "text/plain": [
       "<Figure size 300x100 with 1 Axes>"
      ],
      "image/png": "[encoded data removed]"
     },
     "metadata": {},
     "output_type": "display_data"
    }
   ],
   "execution_count": 52
  },
  {
   "cell_type": "code",
   "id": "51ab3af1-4fd6-4efe-a72b-201f34676d8f",
   "metadata": {
    "ExecuteTime": {
     "end_time": "2024-12-05T16:42:30.207373Z",
     "start_time": "2024-12-05T16:42:30.109957Z"
    }
   },
   "source": [
    "visualize_2D(A_B_1[1, ...], '沿深度堆叠，axis = 1，第1页', 24, -24)"
   ],
   "outputs": [
    {
     "data": {
      "text/plain": [
       "<Figure size 300x100 with 1 Axes>"
      ],
      "image/png": "[encoded data removed]"
     },
     "metadata": {},
     "output_type": "display_data"
    }
   ],
   "execution_count": 53
  },
  {
   "cell_type": "code",
   "id": "054226c7-1575-4525-94eb-2e606aa1067d",
   "metadata": {
    "ExecuteTime": {
     "end_time": "2024-12-05T16:42:34.536560Z",
     "start_time": "2024-12-05T16:42:34.469926Z"
    }
   },
   "source": [
    "visualize_2D(A_B_1[2, ...], '沿深度堆叠，axis = 1，第2页', 24, -24)"
   ],
   "outputs": [
    {
     "data": {
      "text/plain": [
       "<Figure size 300x100 with 1 Axes>"
      ],
      "image/png": "[encoded data removed]"
     },
     "metadata": {},
     "output_type": "display_data"
    }
   ],
   "execution_count": 54
  },
  {
   "cell_type": "code",
   "id": "c263a329-c014-4d63-a613-8ef9b63a21f6",
   "metadata": {
    "ExecuteTime": {
     "end_time": "2024-12-05T16:42:38.361435Z",
     "start_time": "2024-12-05T16:42:38.279894Z"
    }
   },
   "source": [
    "visualize_2D(A_B_1[3, ...], '沿深度堆叠，axis = 1，第3页', 24, -24)"
   ],
   "outputs": [
    {
     "data": {
      "text/plain": [
       "<Figure size 300x100 with 1 Axes>"
      ],
      "image/png": "[encoded data removed]"
     },
     "metadata": {},
     "output_type": "display_data"
    }
   ],
   "execution_count": 55
  },
  {
   "cell_type": "code",
   "id": "ad48afc4-717a-446a-8f59-74078e81c3e2",
   "metadata": {
    "ExecuteTime": {
     "end_time": "2024-12-05T16:42:42.238384Z",
     "start_time": "2024-12-05T16:42:42.220184Z"
    }
   },
   "source": [
    "# 取出A\n",
    "A_B_1[:, 0, :]"
   ],
   "outputs": [
    {
     "data": {
      "text/plain": [
       "array([[ 1,  2,  3,  4,  5,  6],\n",
       "       [ 7,  8,  9, 10, 11, 12],\n",
       "       [13, 14, 15, 16, 17, 18],\n",
       "       [19, 20, 21, 22, 23, 24]])"
      ]
     },
     "execution_count": 56,
     "metadata": {},
     "output_type": "execute_result"
    }
   ],
   "execution_count": 56
  },
  {
   "cell_type": "markdown",
   "id": "97153f0a-1357-41d9-be59-a00eb47c15e9",
   "metadata": {},
   "source": [
    "#### axis = 2，左右堆叠"
   ]
  },
  {
   "cell_type": "code",
   "id": "308c9102-72ee-4787-a972-7a0ae3f5c4c3",
   "metadata": {
    "ExecuteTime": {
     "end_time": "2024-12-05T16:42:46.625700Z",
     "start_time": "2024-12-05T16:42:46.620043Z"
    }
   },
   "source": [
    "A_B_2 = np.stack((A, B), axis=2)  \n",
    "# dimension 2\n",
    "A_B_2"
   ],
   "outputs": [
    {
     "data": {
      "text/plain": [
       "array([[[  1, -24],\n",
       "        [  2, -23],\n",
       "        [  3, -22],\n",
       "        [  4, -21],\n",
       "        [  5, -20],\n",
       "        [  6, -19]],\n",
       "\n",
       "       [[  7, -18],\n",
       "        [  8, -17],\n",
       "        [  9, -16],\n",
       "        [ 10, -15],\n",
       "        [ 11, -14],\n",
       "        [ 12, -13]],\n",
       "\n",
       "       [[ 13, -12],\n",
       "        [ 14, -11],\n",
       "        [ 15, -10],\n",
       "        [ 16,  -9],\n",
       "        [ 17,  -8],\n",
       "        [ 18,  -7]],\n",
       "\n",
       "       [[ 19,  -6],\n",
       "        [ 20,  -5],\n",
       "        [ 21,  -4],\n",
       "        [ 22,  -3],\n",
       "        [ 23,  -2],\n",
       "        [ 24,  -1]]])"
      ]
     },
     "execution_count": 57,
     "metadata": {},
     "output_type": "execute_result"
    }
   ],
   "execution_count": 57
  },
  {
   "cell_type": "code",
   "id": "2636adc9-137f-43b5-9ad7-4f7a8e60b854",
   "metadata": {
    "ExecuteTime": {
     "end_time": "2024-12-05T16:42:50.898175Z",
     "start_time": "2024-12-05T16:42:50.889987Z"
    }
   },
   "source": [
    "A_B_2.shape"
   ],
   "outputs": [
    {
     "data": {
      "text/plain": [
       "(4, 6, 2)"
      ]
     },
     "execution_count": 58,
     "metadata": {},
     "output_type": "execute_result"
    }
   ],
   "execution_count": 58
  },
  {
   "cell_type": "code",
   "id": "bf2c5f43-25bc-4423-9daf-3ad68899398d",
   "metadata": {
    "ExecuteTime": {
     "end_time": "2024-12-05T16:42:54.623294Z",
     "start_time": "2024-12-05T16:42:54.570023Z"
    }
   },
   "source": [
    "visualize_2D(A_B_2[0, ...], '沿深度堆叠，axis = 2，第0页', 24, -24)"
   ],
   "outputs": [
    {
     "data": {
      "text/plain": [
       "<Figure size 100x300 with 1 Axes>"
      ],
      "image/png": "[encoded data removed]"
     },
     "metadata": {},
     "output_type": "display_data"
    }
   ],
   "execution_count": 59
  },
  {
   "cell_type": "code",
   "id": "8879e8c2-2dc2-4888-ba52-02b45b387acb",
   "metadata": {
    "ExecuteTime": {
     "end_time": "2024-12-05T16:42:58.875559Z",
     "start_time": "2024-12-05T16:42:58.824302Z"
    }
   },
   "source": [
    "visualize_2D(A_B_2[1, ...], '沿深度堆叠，axis = 2，第1页', 24, -24)"
   ],
   "outputs": [
    {
     "data": {
      "text/plain": [
       "<Figure size 100x300 with 1 Axes>"
      ],
      "image/png": "[encoded data removed]"
     },
     "metadata": {},
     "output_type": "display_data"
    }
   ],
   "execution_count": 60
  },
  {
   "cell_type": "code",
   "id": "7a7e2b21-5cc6-4e55-bbbb-8882681343e5",
   "metadata": {
    "ExecuteTime": {
     "end_time": "2024-12-05T16:43:02.420871Z",
     "start_time": "2024-12-05T16:43:02.350416Z"
    }
   },
   "source": [
    "visualize_2D(A_B_2[2, ...], '沿深度堆叠，axis = 2，第2页', 24, -24)"
   ],
   "outputs": [
    {
     "data": {
      "text/plain": [
       "<Figure size 100x300 with 1 Axes>"
      ],
      "image/png": "[encoded data removed]"
     },
     "metadata": {},
     "output_type": "display_data"
    }
   ],
   "execution_count": 61
  },
  {
   "cell_type": "code",
   "id": "6a09519b-c448-4d5a-b5dc-700a9f218a53",
   "metadata": {
    "ExecuteTime": {
     "end_time": "2024-12-05T16:43:07.143584Z",
     "start_time": "2024-12-05T16:43:07.080030Z"
    }
   },
   "source": [
    "visualize_2D(A_B_2[3, ...], '沿深度堆叠，axis = 2，第3页', 24, -24)"
   ],
   "outputs": [
    {
     "data": {
      "text/plain": [
       "<Figure size 100x300 with 1 Axes>"
      ],
      "image/png": "[encoded data removed]"
     },
     "metadata": {},
     "output_type": "display_data"
    }
   ],
   "execution_count": 62
  },
  {
   "cell_type": "code",
   "id": "46e002d1-0a4d-4757-b262-191e39c5c540",
   "metadata": {
    "ExecuteTime": {
     "end_time": "2024-12-05T16:43:10.694723Z",
     "start_time": "2024-12-05T16:43:10.681410Z"
    }
   },
   "source": [
    "# 取出A\n",
    "A_B_2[...,0]"
   ],
   "outputs": [
    {
     "data": {
      "text/plain": [
       "array([[ 1,  2,  3,  4,  5,  6],\n",
       "       [ 7,  8,  9, 10, 11, 12],\n",
       "       [13, 14, 15, 16, 17, 18],\n",
       "       [19, 20, 21, 22, 23, 24]])"
      ]
     },
     "execution_count": 63,
     "metadata": {},
     "output_type": "execute_result"
    }
   ],
   "execution_count": 63
  },
  {
   "cell_type": "markdown",
   "id": "c799b8bc-2452-4384-a2a8-8856892ac250",
   "metadata": {},
   "source": [
    "## 重复"
   ]
  },
  {
   "cell_type": "markdown",
   "id": "4aa8408f-b95f-44da-b24e-b064e58d6545",
   "metadata": {},
   "source": [
    "### 重复numpy.repeat()"
   ]
  },
  {
   "cell_type": "code",
   "id": "583c6031-aff1-461a-9fc8-b708ef268f80",
   "metadata": {
    "ExecuteTime": {
     "end_time": "2024-12-05T16:43:16.947588Z",
     "start_time": "2024-12-05T16:43:16.945130Z"
    }
   },
   "source": [
    "a_1D = np.arange(-2,2+1)"
   ],
   "outputs": [],
   "execution_count": 64
  },
  {
   "cell_type": "code",
   "id": "fd6d5abe-0996-41d9-a476-b7dcbaba54e8",
   "metadata": {
    "ExecuteTime": {
     "end_time": "2024-12-05T16:43:20.150792Z",
     "start_time": "2024-12-05T16:43:20.071134Z"
    }
   },
   "source": [
    "visualize_1D(a_1D, 'a_1D，一维', 3, -3)"
   ],
   "outputs": [
    {
     "data": {
      "text/plain": [
       "<Figure size 640x480 with 1 Axes>"
      ],
      "image/png": "[encoded data removed]"
     },
     "metadata": {},
     "output_type": "display_data"
    }
   ],
   "execution_count": 65
  },
  {
   "cell_type": "code",
   "id": "ab48e1bd-2548-47b0-9b7b-a7da56c6d89b",
   "metadata": {
    "ExecuteTime": {
     "end_time": "2024-12-05T16:43:24.046945Z",
     "start_time": "2024-12-05T16:43:24.042068Z"
    }
   },
   "source": [
    "np.repeat(a_1D, 2)"
   ],
   "outputs": [
    {
     "data": {
      "text/plain": [
       "array([-2, -2, -1, -1,  0,  0,  1,  1,  2,  2])"
      ]
     },
     "execution_count": 66,
     "metadata": {},
     "output_type": "execute_result"
    }
   ],
   "execution_count": 66
  },
  {
   "cell_type": "code",
   "id": "1d4a2337-15be-452e-a55b-e4239ccf29be",
   "metadata": {
    "ExecuteTime": {
     "end_time": "2024-12-05T16:43:27.824023Z",
     "start_time": "2024-12-05T16:43:27.724038Z"
    }
   },
   "source": [
    "visualize_1D(np.repeat(a_1D, 2), 'a_1D，一维，重复两次', 3, -3)"
   ],
   "outputs": [
    {
     "data": {
      "text/plain": [
       "<Figure size 640x480 with 1 Axes>"
      ],
      "image/png": "[encoded data removed]"
     },
     "metadata": {},
     "output_type": "display_data"
    }
   ],
   "execution_count": 67
  },
  {
   "cell_type": "code",
   "id": "9911d42c-073a-40af-91f5-f8f7f2121de9",
   "metadata": {
    "ExecuteTime": {
     "end_time": "2024-12-05T16:43:32.374096Z",
     "start_time": "2024-12-05T16:43:32.274862Z"
    }
   },
   "source": [
    "visualize_1D(np.repeat(a_1D, 3), 'a_1D，一维，重复三次', 3, -3)"
   ],
   "outputs": [
    {
     "data": {
      "text/plain": [
       "<Figure size 640x480 with 1 Axes>"
      ],
      "image/png": "[encoded data removed]"
     },
     "metadata": {},
     "output_type": "display_data"
    }
   ],
   "execution_count": 68
  },
  {
   "cell_type": "markdown",
   "id": "d2d890f8-6aa1-4aa9-bc48-d737af98f4a0",
   "metadata": {},
   "source": [
    "### 瓷砖numpy.tile()"
   ]
  },
  {
   "cell_type": "code",
   "id": "62ca591c-b317-40b2-aa81-98f85fbd3463",
   "metadata": {
    "ExecuteTime": {
     "end_time": "2024-12-05T16:43:51.602938Z",
     "start_time": "2024-12-05T16:43:51.592593Z"
    }
   },
   "source": [
    "np.tile(a_1D, 2)"
   ],
   "outputs": [
    {
     "data": {
      "text/plain": [
       "array([-2, -1,  0,  1,  2, -2, -1,  0,  1,  2])"
      ]
     },
     "execution_count": 69,
     "metadata": {},
     "output_type": "execute_result"
    }
   ],
   "execution_count": 69
  },
  {
   "cell_type": "code",
   "id": "7aca2cac-289e-4460-92f6-560b0e6050db",
   "metadata": {
    "ExecuteTime": {
     "end_time": "2024-12-05T16:47:45.058186Z",
     "start_time": "2024-12-05T16:47:44.966480Z"
    }
   },
   "source": [
    "visualize_1D(np.tile(a_1D, 2), 'a_1D，一维，瓷砖二次', 3, -3)"
   ],
   "outputs": [
    {
     "data": {
      "text/plain": [
       "<Figure size 640x480 with 1 Axes>"
      ],
      "image/png": "[encoded data removed]"
     },
     "metadata": {},
     "output_type": "display_data"
    }
   ],
   "execution_count": 70
  },
  {
   "cell_type": "code",
   "id": "9dc65c1c-b289-4e5c-8813-781214116708",
   "metadata": {
    "ExecuteTime": {
     "end_time": "2024-12-05T16:47:49.097087Z",
     "start_time": "2024-12-05T16:47:48.982699Z"
    }
   },
   "source": [
    "visualize_1D(np.tile(a_1D, 3), 'a_1D，一维，瓷砖三次', 3, -3)"
   ],
   "outputs": [
    {
     "data": {
      "text/plain": [
       "<Figure size 640x480 with 1 Axes>"
      ],
      "image/png": "[encoded data removed]"
     },
     "metadata": {},
     "output_type": "display_data"
    }
   ],
   "execution_count": 71
  },
  {
   "cell_type": "code",
   "id": "3403dff6-39f4-4744-9bc7-bf4167085922",
   "metadata": {
    "ExecuteTime": {
     "end_time": "2024-12-05T16:47:53.467164Z",
     "start_time": "2024-12-05T16:47:53.449800Z"
    }
   },
   "source": [
    "np.tile(a_1D, (2,1))"
   ],
   "outputs": [
    {
     "data": {
      "text/plain": [
       "array([[-2, -1,  0,  1,  2],\n",
       "       [-2, -1,  0,  1,  2]])"
      ]
     },
     "execution_count": 72,
     "metadata": {},
     "output_type": "execute_result"
    }
   ],
   "execution_count": 72
  },
  {
   "cell_type": "code",
   "id": "9efeedc2-8bd1-4f7d-94d5-6b2d8f0360ce",
   "metadata": {
    "ExecuteTime": {
     "end_time": "2024-12-05T16:47:58.337658Z",
     "start_time": "2024-12-05T16:47:58.272495Z"
    }
   },
   "source": [
    "visualize_2D(np.tile(a_1D, (2,1)), 'a_1D，一维，瓷砖(2,1)', 3, -3)"
   ],
   "outputs": [
    {
     "data": {
      "text/plain": [
       "<Figure size 300x100 with 1 Axes>"
      ],
      "image/png": "[encoded data removed]"
     },
     "metadata": {},
     "output_type": "display_data"
    }
   ],
   "execution_count": 73
  },
  {
   "cell_type": "code",
   "id": "0d35667d-1379-4822-ba5d-14ca5c94b9f5",
   "metadata": {
    "ExecuteTime": {
     "end_time": "2024-12-05T16:48:02.344252Z",
     "start_time": "2024-12-05T16:48:02.339938Z"
    }
   },
   "source": [
    "np.tile(a_1D, (2,2))"
   ],
   "outputs": [
    {
     "data": {
      "text/plain": [
       "array([[-2, -1,  0,  1,  2, -2, -1,  0,  1,  2],\n",
       "       [-2, -1,  0,  1,  2, -2, -1,  0,  1,  2]])"
      ]
     },
     "execution_count": 74,
     "metadata": {},
     "output_type": "execute_result"
    }
   ],
   "execution_count": 74
  },
  {
   "cell_type": "code",
   "id": "872e7c25-b131-4422-9696-0c8b5ce0ee5c",
   "metadata": {
    "ExecuteTime": {
     "end_time": "2024-12-05T16:48:20.884347Z",
     "start_time": "2024-12-05T16:48:20.809760Z"
    }
   },
   "source": [
    "visualize_2D(np.tile(a_1D, (2,2)), 'a_1D，一维，瓷砖(2,2)', 3, -3)"
   ],
   "outputs": [
    {
     "data": {
      "text/plain": [
       "<Figure size 500x100 with 1 Axes>"
      ],
      "image/png": "[encoded data removed]"
     },
     "metadata": {},
     "output_type": "display_data"
    }
   ],
   "execution_count": 75
  },
  {
   "cell_type": "code",
   "id": "2c28bec3-4e0e-456b-b8df-1fe6b36212ff",
   "metadata": {
    "ExecuteTime": {
     "end_time": "2024-12-05T16:48:29.885026Z",
     "start_time": "2024-12-05T16:48:29.872186Z"
    }
   },
   "source": [
    "A = a_1D.reshape(2,3)\n",
    "A"
   ],
   "outputs": [
    {
     "ename": "ValueError",
     "evalue": "cannot reshape array of size 5 into shape (2,3)",
     "output_type": "error",
     "traceback": [
      "\u001B[1;31m---------------------------------------------------------------------------\u001B[0m",
      "\u001B[1;31mValueError\u001B[0m                                Traceback (most recent call last)",
      "Cell \u001B[1;32mIn[77], line 1\u001B[0m\n\u001B[1;32m----> 1\u001B[0m A \u001B[38;5;241m=\u001B[39m \u001B[43ma_1D\u001B[49m\u001B[38;5;241;43m.\u001B[39;49m\u001B[43mreshape\u001B[49m\u001B[43m(\u001B[49m\u001B[38;5;241;43m2\u001B[39;49m\u001B[43m,\u001B[49m\u001B[38;5;241;43m3\u001B[39;49m\u001B[43m)\u001B[49m\n\u001B[0;32m      2\u001B[0m A\n",
      "\u001B[1;31mValueError\u001B[0m: cannot reshape array of size 5 into shape (2,3)"
     ]
    }
   ],
   "execution_count": 77
  },
  {
   "cell_type": "code",
   "id": "37a7dc0e-e892-48c1-807b-5679e32a345c",
   "metadata": {
    "ExecuteTime": {
     "end_time": "2024-12-05T16:48:33.398090Z",
     "start_time": "2024-12-05T16:48:33.390655Z"
    }
   },
   "source": [
    "np.tile(A, 2)"
   ],
   "outputs": [
    {
     "data": {
      "text/plain": [
       "array([[ 1,  2,  3,  4,  5,  6,  1,  2,  3,  4,  5,  6],\n",
       "       [ 7,  8,  9, 10, 11, 12,  7,  8,  9, 10, 11, 12],\n",
       "       [13, 14, 15, 16, 17, 18, 13, 14, 15, 16, 17, 18],\n",
       "       [19, 20, 21, 22, 23, 24, 19, 20, 21, 22, 23, 24]])"
      ]
     },
     "execution_count": 78,
     "metadata": {},
     "output_type": "execute_result"
    }
   ],
   "execution_count": 78
  },
  {
   "cell_type": "code",
   "id": "51d5b20a-367c-429b-9da0-0fc56ab85201",
   "metadata": {
    "ExecuteTime": {
     "end_time": "2024-12-05T16:48:39.129835Z",
     "start_time": "2024-12-05T16:48:39.119768Z"
    }
   },
   "source": [
    "np.tile(A, (2,1))"
   ],
   "outputs": [
    {
     "data": {
      "text/plain": [
       "array([[ 1,  2,  3,  4,  5,  6],\n",
       "       [ 7,  8,  9, 10, 11, 12],\n",
       "       [13, 14, 15, 16, 17, 18],\n",
       "       [19, 20, 21, 22, 23, 24],\n",
       "       [ 1,  2,  3,  4,  5,  6],\n",
       "       [ 7,  8,  9, 10, 11, 12],\n",
       "       [13, 14, 15, 16, 17, 18],\n",
       "       [19, 20, 21, 22, 23, 24]])"
      ]
     },
     "execution_count": 79,
     "metadata": {},
     "output_type": "execute_result"
    }
   ],
   "execution_count": 79
  },
  {
   "cell_type": "code",
   "id": "fca1ccbc-2c11-4cc4-adc5-00182f12b226",
   "metadata": {
    "ExecuteTime": {
     "end_time": "2024-12-05T16:48:43.450783Z",
     "start_time": "2024-12-05T16:48:43.442982Z"
    }
   },
   "source": [
    "np.tile(A, (2,2))"
   ],
   "outputs": [
    {
     "data": {
      "text/plain": [
       "array([[ 1,  2,  3,  4,  5,  6,  1,  2,  3,  4,  5,  6],\n",
       "       [ 7,  8,  9, 10, 11, 12,  7,  8,  9, 10, 11, 12],\n",
       "       [13, 14, 15, 16, 17, 18, 13, 14, 15, 16, 17, 18],\n",
       "       [19, 20, 21, 22, 23, 24, 19, 20, 21, 22, 23, 24],\n",
       "       [ 1,  2,  3,  4,  5,  6,  1,  2,  3,  4,  5,  6],\n",
       "       [ 7,  8,  9, 10, 11, 12,  7,  8,  9, 10, 11, 12],\n",
       "       [13, 14, 15, 16, 17, 18, 13, 14, 15, 16, 17, 18],\n",
       "       [19, 20, 21, 22, 23, 24, 19, 20, 21, 22, 23, 24]])"
      ]
     },
     "execution_count": 80,
     "metadata": {},
     "output_type": "execute_result"
    }
   ],
   "execution_count": 80
  },
  {
   "cell_type": "markdown",
   "id": "20a15f06-0785-45df-a8b5-9f21baf27f2f",
   "metadata": {},
   "source": [
    "## 分块矩阵"
   ]
  },
  {
   "cell_type": "markdown",
   "id": "b60e3f05-2304-4d60-8b7e-03127adf0711",
   "metadata": {},
   "source": [
    "### 合成"
   ]
  },
  {
   "cell_type": "code",
   "id": "0c40053e-b136-47b5-a967-c3b01f6c3ead",
   "metadata": {
    "ExecuteTime": {
     "end_time": "2024-12-05T16:48:58.330563Z",
     "start_time": "2024-12-05T16:48:58.321108Z"
    }
   },
   "source": [
    "A = np.eye(2)\n",
    "A"
   ],
   "outputs": [
    {
     "data": {
      "text/plain": [
       "array([[1., 0.],\n",
       "       [0., 1.]])"
      ]
     },
     "execution_count": 81,
     "metadata": {},
     "output_type": "execute_result"
    }
   ],
   "execution_count": 81
  },
  {
   "cell_type": "code",
   "id": "61ce091f-5d61-4143-8e23-522dfd350dab",
   "metadata": {
    "ExecuteTime": {
     "end_time": "2024-12-05T16:49:02.836735Z",
     "start_time": "2024-12-05T16:49:02.830072Z"
    }
   },
   "source": [
    "B = np.arange(-4,4+1).reshape(3,3)\n",
    "B"
   ],
   "outputs": [
    {
     "data": {
      "text/plain": [
       "array([[-4, -3, -2],\n",
       "       [-1,  0,  1],\n",
       "       [ 2,  3,  4]])"
      ]
     },
     "execution_count": 82,
     "metadata": {},
     "output_type": "execute_result"
    }
   ],
   "execution_count": 82
  },
  {
   "cell_type": "code",
   "id": "6afdcb7e-c238-43f7-a887-688b5f222154",
   "metadata": {
    "ExecuteTime": {
     "end_time": "2024-12-05T16:49:06.825888Z",
     "start_time": "2024-12-05T16:49:06.819736Z"
    }
   },
   "source": [
    "M = np.block([[A,                np.zeros((2, 3))],\n",
    "              [np.zeros((3, 2)), B               ]])\n",
    "M"
   ],
   "outputs": [
    {
     "data": {
      "text/plain": [
       "array([[ 1.,  0.,  0.,  0.,  0.],\n",
       "       [ 0.,  1.,  0.,  0.,  0.],\n",
       "       [ 0.,  0., -4., -3., -2.],\n",
       "       [ 0.,  0., -1.,  0.,  1.],\n",
       "       [ 0.,  0.,  2.,  3.,  4.]])"
      ]
     },
     "execution_count": 83,
     "metadata": {},
     "output_type": "execute_result"
    }
   ],
   "execution_count": 83
  },
  {
   "cell_type": "code",
   "id": "ebe283f2-b48a-499e-bd4b-32de43ca9b79",
   "metadata": {
    "ExecuteTime": {
     "end_time": "2024-12-05T16:49:17.770676Z",
     "start_time": "2024-12-05T16:49:17.700141Z"
    }
   },
   "source": [
    "visualize_2D(M, '合成矩阵M', 5, -5)"
   ],
   "outputs": [
    {
     "data": {
      "text/plain": [
       "<Figure size 300x300 with 1 Axes>"
      ],
      "image/png": "[encoded data removed]"
     },
     "metadata": {},
     "output_type": "display_data"
    }
   ],
   "execution_count": 84
  },
  {
   "cell_type": "markdown",
   "id": "50ec4456-93d0-4ee1-9c09-c5efe91ab8ed",
   "metadata": {},
   "source": [
    "### 切割"
   ]
  },
  {
   "cell_type": "markdown",
   "id": "b75c2dd2-61e8-4a0d-84ed-d31caa2ac986",
   "metadata": {},
   "source": [
    "#### 沿指定轴numpy.split()"
   ]
  },
  {
   "cell_type": "code",
   "id": "5a144990-e84b-44ee-98dd-928b8c3a3686",
   "metadata": {
    "ExecuteTime": {
     "end_time": "2024-12-05T16:49:23.234607Z",
     "start_time": "2024-12-05T16:49:23.219816Z"
    }
   },
   "source": [
    "a_1D = np.arange(-9,9)\n",
    "a_1D"
   ],
   "outputs": [
    {
     "data": {
      "text/plain": [
       "array([-9, -8, -7, -6, -5, -4, -3, -2, -1,  0,  1,  2,  3,  4,  5,  6,  7,\n",
       "        8])"
      ]
     },
     "execution_count": 85,
     "metadata": {},
     "output_type": "execute_result"
    }
   ],
   "execution_count": 85
  },
  {
   "cell_type": "code",
   "id": "e8fbd44a-f966-4b92-ae18-d432dec913b6",
   "metadata": {
    "ExecuteTime": {
     "end_time": "2024-12-05T16:49:29.009374Z",
     "start_time": "2024-12-05T16:49:29.002731Z"
    }
   },
   "source": [
    "len(a_1D)"
   ],
   "outputs": [
    {
     "data": {
      "text/plain": [
       "18"
      ]
     },
     "execution_count": 86,
     "metadata": {},
     "output_type": "execute_result"
    }
   ],
   "execution_count": 86
  },
  {
   "cell_type": "code",
   "id": "79c4e5dd-c3a8-4cb6-be01-3229a57f879d",
   "metadata": {
    "ExecuteTime": {
     "end_time": "2024-12-05T16:49:33.376641Z",
     "start_time": "2024-12-05T16:49:33.269426Z"
    }
   },
   "source": [
    "visualize_1D(a_1D, 'a_1D，一维', 10, -10)"
   ],
   "outputs": [
    {
     "data": {
      "text/plain": [
       "<Figure size 640x480 with 1 Axes>"
      ],
      "image/png": "[encoded data removed]"
     },
     "metadata": {},
     "output_type": "display_data"
    }
   ],
   "execution_count": 87
  },
  {
   "cell_type": "code",
   "id": "a6778e1e-ee40-40fb-b1d7-84b088eea01e",
   "metadata": {
    "ExecuteTime": {
     "end_time": "2024-12-05T16:49:38.490393Z",
     "start_time": "2024-12-05T16:49:38.479622Z"
    }
   },
   "source": [
    "a_3_splits = np.split(a_1D, 3)\n",
    "a_3_splits"
   ],
   "outputs": [
    {
     "data": {
      "text/plain": [
       "[array([-9, -8, -7, -6, -5, -4]),\n",
       " array([-3, -2, -1,  0,  1,  2]),\n",
       " array([3, 4, 5, 6, 7, 8])]"
      ]
     },
     "execution_count": 88,
     "metadata": {},
     "output_type": "execute_result"
    }
   ],
   "execution_count": 88
  },
  {
   "cell_type": "code",
   "id": "a1c159c4-9825-444c-9a0d-0b393bf72aa2",
   "metadata": {
    "ExecuteTime": {
     "end_time": "2024-12-05T16:49:43.470949Z",
     "start_time": "2024-12-05T16:49:43.461039Z"
    }
   },
   "source": [
    "a_3_splits[0]"
   ],
   "outputs": [
    {
     "data": {
      "text/plain": [
       "array([-9, -8, -7, -6, -5, -4])"
      ]
     },
     "execution_count": 89,
     "metadata": {},
     "output_type": "execute_result"
    }
   ],
   "execution_count": 89
  },
  {
   "cell_type": "code",
   "id": "6e28ada4-94ff-4d4c-8282-a7efb665f718",
   "metadata": {
    "ExecuteTime": {
     "end_time": "2024-12-05T16:49:46.441968Z",
     "start_time": "2024-12-05T16:49:46.419452Z"
    }
   },
   "source": [
    "a_3_splits[1]"
   ],
   "outputs": [
    {
     "data": {
      "text/plain": [
       "array([-3, -2, -1,  0,  1,  2])"
      ]
     },
     "execution_count": 90,
     "metadata": {},
     "output_type": "execute_result"
    }
   ],
   "execution_count": 90
  },
  {
   "cell_type": "code",
   "id": "3e4ec99d-0b9c-4c9b-b5cf-b24b36e09c21",
   "metadata": {
    "ExecuteTime": {
     "end_time": "2024-12-05T16:49:50.955068Z",
     "start_time": "2024-12-05T16:49:50.945825Z"
    }
   },
   "source": [
    "a_3_splits[2]"
   ],
   "outputs": [
    {
     "data": {
      "text/plain": [
       "array([3, 4, 5, 6, 7, 8])"
      ]
     },
     "execution_count": 91,
     "metadata": {},
     "output_type": "execute_result"
    }
   ],
   "execution_count": 91
  },
  {
   "cell_type": "code",
   "id": "6b113e71-01eb-4202-ae74-b809a2d528f3",
   "metadata": {
    "ExecuteTime": {
     "end_time": "2024-12-05T16:49:54.942896Z",
     "start_time": "2024-12-05T16:49:54.929970Z"
    }
   },
   "source": [
    "np.split(a_1D, [3, 5, 6, 10, 16])\n",
    "# 指定切割indexes "
   ],
   "outputs": [
    {
     "data": {
      "text/plain": [
       "[array([-9, -8, -7]),\n",
       " array([-6, -5]),\n",
       " array([-4]),\n",
       " array([-3, -2, -1,  0]),\n",
       " array([1, 2, 3, 4, 5, 6]),\n",
       " array([7, 8])]"
      ]
     },
     "execution_count": 92,
     "metadata": {},
     "output_type": "execute_result"
    }
   ],
   "execution_count": 92
  },
  {
   "cell_type": "code",
   "id": "d9868922-7ebd-4011-94f3-e8c582d030dd",
   "metadata": {
    "ExecuteTime": {
     "end_time": "2024-12-05T16:49:59.217543Z",
     "start_time": "2024-12-05T16:49:59.209515Z"
    }
   },
   "source": [
    "A_9_by_9 = np.arange(-40,40+1).reshape(9,9)\n",
    "A_9_by_9"
   ],
   "outputs": [
    {
     "data": {
      "text/plain": [
       "array([[-40, -39, -38, -37, -36, -35, -34, -33, -32],\n",
       "       [-31, -30, -29, -28, -27, -26, -25, -24, -23],\n",
       "       [-22, -21, -20, -19, -18, -17, -16, -15, -14],\n",
       "       [-13, -12, -11, -10,  -9,  -8,  -7,  -6,  -5],\n",
       "       [ -4,  -3,  -2,  -1,   0,   1,   2,   3,   4],\n",
       "       [  5,   6,   7,   8,   9,  10,  11,  12,  13],\n",
       "       [ 14,  15,  16,  17,  18,  19,  20,  21,  22],\n",
       "       [ 23,  24,  25,  26,  27,  28,  29,  30,  31],\n",
       "       [ 32,  33,  34,  35,  36,  37,  38,  39,  40]])"
      ]
     },
     "execution_count": 93,
     "metadata": {},
     "output_type": "execute_result"
    }
   ],
   "execution_count": 93
  },
  {
   "cell_type": "code",
   "id": "b23e5f60-c70d-4b92-b7e8-ab59e56a625b",
   "metadata": {
    "ExecuteTime": {
     "end_time": "2024-12-05T16:50:04.844861Z",
     "start_time": "2024-12-05T16:50:04.710638Z"
    }
   },
   "source": [
    "visualize_2D(A_9_by_9, 'A_9_by_9', 40, -40)"
   ],
   "outputs": [
    {
     "data": {
      "text/plain": [
       "<Figure size 500x500 with 1 Axes>"
      ],
      "image/png": "[encoded data removed]"
     },
     "metadata": {},
     "output_type": "display_data"
    }
   ],
   "execution_count": 94
  },
  {
   "cell_type": "code",
   "id": "7fb8c8ae-63be-4c51-b0c6-d58c60e3957d",
   "metadata": {
    "ExecuteTime": {
     "end_time": "2024-12-05T16:50:08.607121Z",
     "start_time": "2024-12-05T16:50:08.599539Z"
    }
   },
   "source": [
    "A_3_splits_axis_0 = np.split(A_9_by_9, 3)\n",
    "A_3_splits_axis_0"
   ],
   "outputs": [
    {
     "data": {
      "text/plain": [
       "[array([[-40, -39, -38, -37, -36, -35, -34, -33, -32],\n",
       "        [-31, -30, -29, -28, -27, -26, -25, -24, -23],\n",
       "        [-22, -21, -20, -19, -18, -17, -16, -15, -14]]),\n",
       " array([[-13, -12, -11, -10,  -9,  -8,  -7,  -6,  -5],\n",
       "        [ -4,  -3,  -2,  -1,   0,   1,   2,   3,   4],\n",
       "        [  5,   6,   7,   8,   9,  10,  11,  12,  13]]),\n",
       " array([[14, 15, 16, 17, 18, 19, 20, 21, 22],\n",
       "        [23, 24, 25, 26, 27, 28, 29, 30, 31],\n",
       "        [32, 33, 34, 35, 36, 37, 38, 39, 40]])]"
      ]
     },
     "execution_count": 95,
     "metadata": {},
     "output_type": "execute_result"
    }
   ],
   "execution_count": 95
  },
  {
   "cell_type": "code",
   "id": "2f9ee19a-b330-4463-b9b8-e9c923eaf67a",
   "metadata": {
    "ExecuteTime": {
     "end_time": "2024-12-05T16:50:12.270169Z",
     "start_time": "2024-12-05T16:50:12.259724Z"
    }
   },
   "source": [
    "A_3_splits_axis_1 = np.split(A_9_by_9, 3, axis = 1)\n",
    "A_3_splits_axis_1"
   ],
   "outputs": [
    {
     "data": {
      "text/plain": [
       "[array([[-40, -39, -38],\n",
       "        [-31, -30, -29],\n",
       "        [-22, -21, -20],\n",
       "        [-13, -12, -11],\n",
       "        [ -4,  -3,  -2],\n",
       "        [  5,   6,   7],\n",
       "        [ 14,  15,  16],\n",
       "        [ 23,  24,  25],\n",
       "        [ 32,  33,  34]]),\n",
       " array([[-37, -36, -35],\n",
       "        [-28, -27, -26],\n",
       "        [-19, -18, -17],\n",
       "        [-10,  -9,  -8],\n",
       "        [ -1,   0,   1],\n",
       "        [  8,   9,  10],\n",
       "        [ 17,  18,  19],\n",
       "        [ 26,  27,  28],\n",
       "        [ 35,  36,  37]]),\n",
       " array([[-34, -33, -32],\n",
       "        [-25, -24, -23],\n",
       "        [-16, -15, -14],\n",
       "        [ -7,  -6,  -5],\n",
       "        [  2,   3,   4],\n",
       "        [ 11,  12,  13],\n",
       "        [ 20,  21,  22],\n",
       "        [ 29,  30,  31],\n",
       "        [ 38,  39,  40]])]"
      ]
     },
     "execution_count": 96,
     "metadata": {},
     "output_type": "execute_result"
    }
   ],
   "execution_count": 96
  },
  {
   "cell_type": "markdown",
   "id": "eec58985-a153-49c7-8027-8c86cdc524b7",
   "metadata": {},
   "source": [
    "#### 沿着水平方向切割"
   ]
  },
  {
   "cell_type": "code",
   "id": "db825f3f-3563-4c0a-8612-a49f22b26ae9",
   "metadata": {
    "ExecuteTime": {
     "end_time": "2024-12-05T16:50:22.425701Z",
     "start_time": "2024-12-05T16:50:22.413692Z"
    }
   },
   "source": [
    "np.hsplit(A_9_by_9, 3)"
   ],
   "outputs": [
    {
     "data": {
      "text/plain": [
       "[array([[-40, -39, -38],\n",
       "        [-31, -30, -29],\n",
       "        [-22, -21, -20],\n",
       "        [-13, -12, -11],\n",
       "        [ -4,  -3,  -2],\n",
       "        [  5,   6,   7],\n",
       "        [ 14,  15,  16],\n",
       "        [ 23,  24,  25],\n",
       "        [ 32,  33,  34]]),\n",
       " array([[-37, -36, -35],\n",
       "        [-28, -27, -26],\n",
       "        [-19, -18, -17],\n",
       "        [-10,  -9,  -8],\n",
       "        [ -1,   0,   1],\n",
       "        [  8,   9,  10],\n",
       "        [ 17,  18,  19],\n",
       "        [ 26,  27,  28],\n",
       "        [ 35,  36,  37]]),\n",
       " array([[-34, -33, -32],\n",
       "        [-25, -24, -23],\n",
       "        [-16, -15, -14],\n",
       "        [ -7,  -6,  -5],\n",
       "        [  2,   3,   4],\n",
       "        [ 11,  12,  13],\n",
       "        [ 20,  21,  22],\n",
       "        [ 29,  30,  31],\n",
       "        [ 38,  39,  40]])]"
      ]
     },
     "execution_count": 97,
     "metadata": {},
     "output_type": "execute_result"
    }
   ],
   "execution_count": 97
  },
  {
   "cell_type": "markdown",
   "id": "70792002-c157-402b-a63e-502d59433b60",
   "metadata": {},
   "source": [
    "#### 沿着竖直方向切割"
   ]
  },
  {
   "cell_type": "code",
   "id": "d1b4e212-ccfc-4d76-bc99-7d6f5c0b0d9f",
   "metadata": {
    "ExecuteTime": {
     "end_time": "2024-12-05T16:50:26.516917Z",
     "start_time": "2024-12-05T16:50:26.499495Z"
    }
   },
   "source": [
    "np.vsplit(A_9_by_9, 3)"
   ],
   "outputs": [
    {
     "data": {
      "text/plain": [
       "[array([[-40, -39, -38, -37, -36, -35, -34, -33, -32],\n",
       "        [-31, -30, -29, -28, -27, -26, -25, -24, -23],\n",
       "        [-22, -21, -20, -19, -18, -17, -16, -15, -14]]),\n",
       " array([[-13, -12, -11, -10,  -9,  -8,  -7,  -6,  -5],\n",
       "        [ -4,  -3,  -2,  -1,   0,   1,   2,   3,   4],\n",
       "        [  5,   6,   7,   8,   9,  10,  11,  12,  13]]),\n",
       " array([[14, 15, 16, 17, 18, 19, 20, 21, 22],\n",
       "        [23, 24, 25, 26, 27, 28, 29, 30, 31],\n",
       "        [32, 33, 34, 35, 36, 37, 38, 39, 40]])]"
      ]
     },
     "execution_count": 98,
     "metadata": {},
     "output_type": "execute_result"
    }
   ],
   "execution_count": 98
  },
  {
   "cell_type": "markdown",
   "id": "37fd918a-9b2f-42ed-b348-d9005f1f13c3",
   "metadata": {},
   "source": [
    "## 插入、删除"
   ]
  },
  {
   "cell_type": "markdown",
   "id": "c2790b8b-71d4-4046-812c-741c9b78acf5",
   "metadata": {},
   "source": [
    "### 附加numpy.append()"
   ]
  },
  {
   "cell_type": "code",
   "id": "b5d4c78d-4957-42ec-8180-04f6753f8e7e",
   "metadata": {
    "ExecuteTime": {
     "end_time": "2024-12-05T16:50:33.676407Z",
     "start_time": "2024-12-05T16:50:33.662568Z"
    }
   },
   "source": [
    "np.append([1, 2, 3], [[4, 5, 6], [7, 8, 9]])"
   ],
   "outputs": [
    {
     "data": {
      "text/plain": [
       "array([1, 2, 3, 4, 5, 6, 7, 8, 9])"
      ]
     },
     "execution_count": 99,
     "metadata": {},
     "output_type": "execute_result"
    }
   ],
   "execution_count": 99
  },
  {
   "cell_type": "code",
   "id": "a85b465c-1672-41d2-8174-e398f5807cc8",
   "metadata": {
    "ExecuteTime": {
     "end_time": "2024-12-05T16:50:42.151550Z",
     "start_time": "2024-12-05T16:50:42.139289Z"
    }
   },
   "source": [
    "np.append([[1, 2, 3], [4, 5, 6]], [[7, 8, 9]], axis=0)"
   ],
   "outputs": [
    {
     "data": {
      "text/plain": [
       "array([[1, 2, 3],\n",
       "       [4, 5, 6],\n",
       "       [7, 8, 9]])"
      ]
     },
     "execution_count": 100,
     "metadata": {},
     "output_type": "execute_result"
    }
   ],
   "execution_count": 100
  },
  {
   "cell_type": "markdown",
   "id": "1720c046-6105-450a-8d80-c3f0e19ef611",
   "metadata": {},
   "source": [
    "### 插入"
   ]
  },
  {
   "cell_type": "code",
   "id": "08bbdfc0-7104-4b1f-9a48-dacae92e4120",
   "metadata": {
    "ExecuteTime": {
     "end_time": "2024-12-05T16:50:47.595094Z",
     "start_time": "2024-12-05T16:50:47.583772Z"
    }
   },
   "source": [
    "a = np.array([[1, 1], [2, 2], [3, 3]])\n",
    "np.insert(a, [1], [[1],[2],[3]], axis=1)"
   ],
   "outputs": [
    {
     "data": {
      "text/plain": [
       "array([[1, 1, 1],\n",
       "       [2, 2, 2],\n",
       "       [3, 3, 3]])"
      ]
     },
     "execution_count": 101,
     "metadata": {},
     "output_type": "execute_result"
    }
   ],
   "execution_count": 101
  },
  {
   "cell_type": "code",
   "id": "3ef471c6-1ac9-4afe-9e9c-7ef88dd7aa8a",
   "metadata": {
    "ExecuteTime": {
     "end_time": "2024-12-06T08:34:28.785099Z",
     "start_time": "2024-12-06T08:34:28.637869Z"
    }
   },
   "source": [
    "np.insert(a, 1, [1, 2, 3], axis=1)"
   ],
   "outputs": [
    {
     "ename": "NameError",
     "evalue": "name 'np' is not defined",
     "output_type": "error",
     "traceback": [
      "\u001B[1;31m---------------------------------------------------------------------------\u001B[0m",
      "\u001B[1;31mNameError\u001B[0m                                 Traceback (most recent call last)",
      "Cell \u001B[1;32mIn[1], line 1\u001B[0m\n\u001B[1;32m----> 1\u001B[0m \u001B[43mnp\u001B[49m\u001B[38;5;241m.\u001B[39minsert(a, \u001B[38;5;241m1\u001B[39m, [\u001B[38;5;241m1\u001B[39m, \u001B[38;5;241m2\u001B[39m, \u001B[38;5;241m3\u001B[39m], axis\u001B[38;5;241m=\u001B[39m\u001B[38;5;241m1\u001B[39m)\n",
      "\u001B[1;31mNameError\u001B[0m: name 'np' is not defined"
     ]
    }
   ],
   "execution_count": 1
  },
  {
   "cell_type": "markdown",
   "id": "a7bc3652-bb6d-4fbe-94f2-b252a6dcc556",
   "metadata": {},
   "source": [
    "### 删除"
   ]
  },
  {
   "cell_type": "code",
   "id": "57e76903-ed35-4f68-8eca-c4e9c4ef6c88",
   "metadata": {
    "ExecuteTime": {
     "end_time": "2024-12-05T16:51:00.050429Z",
     "start_time": "2024-12-05T16:51:00.039434Z"
    }
   },
   "source": [
    "arr = np.array([[1,2,3,4], [5,6,7,8], [9,10,11,12]])\n",
    "np.delete(arr, 1, 0)"
   ],
   "outputs": [
    {
     "data": {
      "text/plain": [
       "array([[ 1,  2,  3,  4],\n",
       "       [ 9, 10, 11, 12]])"
      ]
     },
     "execution_count": 103,
     "metadata": {},
     "output_type": "execute_result"
    }
   ],
   "execution_count": 103
  },
  {
   "cell_type": "code",
   "execution_count": 72,
   "id": "2a76d332-aee9-4e69-b1d7-20b5eac340a5",
   "metadata": {},
   "outputs": [],
   "source": [
    "# Repo: https://github.com/Visualize-ML\n",
    "# Book 1 Python for Beginners  |  From Basic Arithmetic to Machine Learning\n",
    "# Published and copyrighted by Tsinghua University Press\n",
    "# Beijing, China, 2023"
   ]
  }
 ],
 "metadata": {
  "kernelspec": {
   "display_name": "Python 3 (ipykernel)",
   "language": "python",
   "name": "python3"
  },
  "language_info": {
   "codemirror_mode": {
    "name": "ipython",
    "version": 3
   },
   "file_extension": ".py",
   "mimetype": "text/x-python",
   "name": "python",
   "nbconvert_exporter": "python",
   "pygments_lexer": "ipython3",
   "version": "3.10.9"
  }
 },
 "nbformat": 4,
 "nbformat_minor": 5
}
