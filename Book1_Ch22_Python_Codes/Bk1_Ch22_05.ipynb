{
 "cells": [
  {
   "cell_type": "markdown",
   "id": "381c71ec-741f-417a-bf07-f34e3785170e",
   "metadata": {},
   "source": [
    "Chapter 22\n",
    "# 利用merge() 完成左侧独有、右侧独有、全外独有\n",
    "Book_1《编程不难》 | 鸢尾花书：从加减乘除到机器学习  "
   ]
  },
  {
   "cell_type": "code",
   "id": "e674549c-e3e6-489e-852a-904edc55d27c",
   "metadata": {
    "ExecuteTime": {
     "end_time": "2024-12-07T21:40:46.658494Z",
     "start_time": "2024-12-07T21:40:46.415655Z"
    }
   },
   "source": [
    "import pandas as pd"
   ],
   "outputs": [],
   "execution_count": 2
  },
  {
   "cell_type": "code",
   "id": "ce10a357-5c46-40ee-9404-db0f8034f1eb",
   "metadata": {
    "ExecuteTime": {
     "end_time": "2024-12-07T21:41:52.982115Z",
     "start_time": "2024-12-07T21:41:52.977481Z"
    }
   },
   "source": [
    "# 创建两个数据帧\n",
    "left_data = {'M': [1, 2, 3], 'X': ['a', 'b', 'c']}\n",
    "left_df = pd.DataFrame(left_data)\n",
    "left_df"
   ],
   "outputs": [
    {
     "data": {
      "text/plain": [
       "   M  X\n",
       "0  1  a\n",
       "1  2  b\n",
       "2  3  c"
      ],
      "text/html": [
       "<div>\n",
       "<style scoped>\n",
       "    .dataframe tbody tr th:only-of-type {\n",
       "        vertical-align: middle;\n",
       "    }\n",
       "\n",
       "    .dataframe tbody tr th {\n",
       "        vertical-align: top;\n",
       "    }\n",
       "\n",
       "    .dataframe thead th {\n",
       "        text-align: right;\n",
       "    }\n",
       "</style>\n",
       "<table border=\"1\" class=\"dataframe\">\n",
       "  <thead>\n",
       "    <tr style=\"text-align: right;\">\n",
       "      <th></th>\n",
       "      <th>M</th>\n",
       "      <th>X</th>\n",
       "    </tr>\n",
       "  </thead>\n",
       "  <tbody>\n",
       "    <tr>\n",
       "      <th>0</th>\n",
       "      <td>1</td>\n",
       "      <td>a</td>\n",
       "    </tr>\n",
       "    <tr>\n",
       "      <th>1</th>\n",
       "      <td>2</td>\n",
       "      <td>b</td>\n",
       "    </tr>\n",
       "    <tr>\n",
       "      <th>2</th>\n",
       "      <td>3</td>\n",
       "      <td>c</td>\n",
       "    </tr>\n",
       "  </tbody>\n",
       "</table>\n",
       "</div>"
      ]
     },
     "execution_count": 6,
     "metadata": {},
     "output_type": "execute_result"
    }
   ],
   "execution_count": 6
  },
  {
   "cell_type": "code",
   "id": "0447d30b-af45-4c1c-8d37-d65877a1ecf9",
   "metadata": {
    "ExecuteTime": {
     "end_time": "2024-12-07T21:42:12.225484Z",
     "start_time": "2024-12-07T21:42:12.220931Z"
    }
   },
   "source": [
    "right_data = {'X': ['b', 'c', 'd'],'N': [ 22,  33,  44]}\n",
    "right_df = pd.DataFrame(right_data)\n",
    "right_df"
   ],
   "outputs": [
    {
     "data": {
      "text/plain": [
       "   X   N\n",
       "0  b  22\n",
       "1  c  33\n",
       "2  d  44"
      ],
      "text/html": [
       "<div>\n",
       "<style scoped>\n",
       "    .dataframe tbody tr th:only-of-type {\n",
       "        vertical-align: middle;\n",
       "    }\n",
       "\n",
       "    .dataframe tbody tr th {\n",
       "        vertical-align: top;\n",
       "    }\n",
       "\n",
       "    .dataframe thead th {\n",
       "        text-align: right;\n",
       "    }\n",
       "</style>\n",
       "<table border=\"1\" class=\"dataframe\">\n",
       "  <thead>\n",
       "    <tr style=\"text-align: right;\">\n",
       "      <th></th>\n",
       "      <th>X</th>\n",
       "      <th>N</th>\n",
       "    </tr>\n",
       "  </thead>\n",
       "  <tbody>\n",
       "    <tr>\n",
       "      <th>0</th>\n",
       "      <td>b</td>\n",
       "      <td>22</td>\n",
       "    </tr>\n",
       "    <tr>\n",
       "      <th>1</th>\n",
       "      <td>c</td>\n",
       "      <td>33</td>\n",
       "    </tr>\n",
       "    <tr>\n",
       "      <th>2</th>\n",
       "      <td>d</td>\n",
       "      <td>44</td>\n",
       "    </tr>\n",
       "  </tbody>\n",
       "</table>\n",
       "</div>"
      ]
     },
     "execution_count": 7,
     "metadata": {},
     "output_type": "execute_result"
    }
   ],
   "execution_count": 7
  },
  {
   "cell_type": "code",
   "id": "b0e8af9e-372c-42ce-ba15-eae6257193c9",
   "metadata": {
    "ExecuteTime": {
     "end_time": "2024-12-07T21:42:30.618523Z",
     "start_time": "2024-12-07T21:42:30.613055Z"
    }
   },
   "source": [
    "# LEFT EXCLUSIVE\n",
    "left_exl = left_df.merge(right_df, on='X', how='left', indicator=True)"
   ],
   "outputs": [],
   "execution_count": 8
  },
  {
   "cell_type": "code",
   "id": "972e87d9-33ca-4e0f-845a-e3630e1ad7dd",
   "metadata": {
    "ExecuteTime": {
     "end_time": "2024-12-07T21:42:44.368831Z",
     "start_time": "2024-12-07T21:42:44.363804Z"
    }
   },
   "source": [
    "left_exl = left_exl[left_exl['_merge'] == 'left_only'].drop(columns=['_merge'])\n",
    "left_exl"
   ],
   "outputs": [
    {
     "data": {
      "text/plain": [
       "   M  X   N\n",
       "0  1  a NaN"
      ],
      "text/html": [
       "<div>\n",
       "<style scoped>\n",
       "    .dataframe tbody tr th:only-of-type {\n",
       "        vertical-align: middle;\n",
       "    }\n",
       "\n",
       "    .dataframe tbody tr th {\n",
       "        vertical-align: top;\n",
       "    }\n",
       "\n",
       "    .dataframe thead th {\n",
       "        text-align: right;\n",
       "    }\n",
       "</style>\n",
       "<table border=\"1\" class=\"dataframe\">\n",
       "  <thead>\n",
       "    <tr style=\"text-align: right;\">\n",
       "      <th></th>\n",
       "      <th>M</th>\n",
       "      <th>X</th>\n",
       "      <th>N</th>\n",
       "    </tr>\n",
       "  </thead>\n",
       "  <tbody>\n",
       "    <tr>\n",
       "      <th>0</th>\n",
       "      <td>1</td>\n",
       "      <td>a</td>\n",
       "      <td>NaN</td>\n",
       "    </tr>\n",
       "  </tbody>\n",
       "</table>\n",
       "</div>"
      ]
     },
     "execution_count": 9,
     "metadata": {},
     "output_type": "execute_result"
    }
   ],
   "execution_count": 9
  },
  {
   "cell_type": "code",
   "id": "4b06fdd6-8db0-4c04-875e-a08ddd79b226",
   "metadata": {
    "ExecuteTime": {
     "end_time": "2024-12-07T21:43:06.376407Z",
     "start_time": "2024-12-07T21:43:06.370904Z"
    }
   },
   "source": [
    "# RIGHT EXCLUSIVE\n",
    "right_exl = left_df.merge(right_df, on='X', how='right', indicator=True)"
   ],
   "outputs": [],
   "execution_count": 10
  },
  {
   "cell_type": "code",
   "id": "b2ff7d47-2e6f-4581-b926-0607e5037089",
   "metadata": {
    "ExecuteTime": {
     "end_time": "2024-12-07T21:43:15.026138Z",
     "start_time": "2024-12-07T21:43:15.021080Z"
    }
   },
   "source": [
    "right_exl = right_exl[right_exl['_merge'] == 'right_only'].drop(columns=['_merge'])\n",
    "right_exl"
   ],
   "outputs": [
    {
     "data": {
      "text/plain": [
       "    M  X   N\n",
       "2 NaN  d  44"
      ],
      "text/html": [
       "<div>\n",
       "<style scoped>\n",
       "    .dataframe tbody tr th:only-of-type {\n",
       "        vertical-align: middle;\n",
       "    }\n",
       "\n",
       "    .dataframe tbody tr th {\n",
       "        vertical-align: top;\n",
       "    }\n",
       "\n",
       "    .dataframe thead th {\n",
       "        text-align: right;\n",
       "    }\n",
       "</style>\n",
       "<table border=\"1\" class=\"dataframe\">\n",
       "  <thead>\n",
       "    <tr style=\"text-align: right;\">\n",
       "      <th></th>\n",
       "      <th>M</th>\n",
       "      <th>X</th>\n",
       "      <th>N</th>\n",
       "    </tr>\n",
       "  </thead>\n",
       "  <tbody>\n",
       "    <tr>\n",
       "      <th>2</th>\n",
       "      <td>NaN</td>\n",
       "      <td>d</td>\n",
       "      <td>44</td>\n",
       "    </tr>\n",
       "  </tbody>\n",
       "</table>\n",
       "</div>"
      ]
     },
     "execution_count": 11,
     "metadata": {},
     "output_type": "execute_result"
    }
   ],
   "execution_count": 11
  },
  {
   "cell_type": "code",
   "id": "8f76e5b8-e016-4eb3-aafb-a71bb3750544",
   "metadata": {
    "ExecuteTime": {
     "end_time": "2024-12-07T21:43:30.455133Z",
     "start_time": "2024-12-07T21:43:30.448380Z"
    }
   },
   "source": [
    "# FULL OUTER EXCLUSIVE\n",
    "outer_exl = left_df.merge(right_df, on='X', how='outer', indicator=True)"
   ],
   "outputs": [],
   "execution_count": 12
  },
  {
   "cell_type": "code",
   "id": "5a19b431-bb17-4d2f-8c51-174c22980c43",
   "metadata": {
    "ExecuteTime": {
     "end_time": "2024-12-07T21:43:36.806969Z",
     "start_time": "2024-12-07T21:43:36.801139Z"
    }
   },
   "source": [
    "outer_exl = outer_exl[outer_exl['_merge'] != 'both'].drop(columns=['_merge'])\n",
    "outer_exl"
   ],
   "outputs": [
    {
     "data": {
      "text/plain": [
       "     M  X     N\n",
       "0  1.0  a   NaN\n",
       "3  NaN  d  44.0"
      ],
      "text/html": [
       "<div>\n",
       "<style scoped>\n",
       "    .dataframe tbody tr th:only-of-type {\n",
       "        vertical-align: middle;\n",
       "    }\n",
       "\n",
       "    .dataframe tbody tr th {\n",
       "        vertical-align: top;\n",
       "    }\n",
       "\n",
       "    .dataframe thead th {\n",
       "        text-align: right;\n",
       "    }\n",
       "</style>\n",
       "<table border=\"1\" class=\"dataframe\">\n",
       "  <thead>\n",
       "    <tr style=\"text-align: right;\">\n",
       "      <th></th>\n",
       "      <th>M</th>\n",
       "      <th>X</th>\n",
       "      <th>N</th>\n",
       "    </tr>\n",
       "  </thead>\n",
       "  <tbody>\n",
       "    <tr>\n",
       "      <th>0</th>\n",
       "      <td>1.0</td>\n",
       "      <td>a</td>\n",
       "      <td>NaN</td>\n",
       "    </tr>\n",
       "    <tr>\n",
       "      <th>3</th>\n",
       "      <td>NaN</td>\n",
       "      <td>d</td>\n",
       "      <td>44.0</td>\n",
       "    </tr>\n",
       "  </tbody>\n",
       "</table>\n",
       "</div>"
      ]
     },
     "execution_count": 13,
     "metadata": {},
     "output_type": "execute_result"
    }
   ],
   "execution_count": 13
  }
 ],
 "metadata": {
  "kernelspec": {
   "display_name": "Python 3 (ipykernel)",
   "language": "python",
   "name": "python3"
  },
  "language_info": {
   "codemirror_mode": {
    "name": "ipython",
    "version": 3
   },
   "file_extension": ".py",
   "mimetype": "text/x-python",
   "name": "python",
   "nbconvert_exporter": "python",
   "pygments_lexer": "ipython3",
   "version": "3.10.9"
  }
 },
 "nbformat": 4,
 "nbformat_minor": 5
}
