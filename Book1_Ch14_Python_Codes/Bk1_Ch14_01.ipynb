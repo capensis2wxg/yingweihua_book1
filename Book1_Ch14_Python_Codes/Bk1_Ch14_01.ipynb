{
 "cells": [
  {
   "cell_type": "markdown",
   "id": "8ab0317f-2fff-4bc9-b16d-d9b652578ac1",
   "metadata": {},
   "source": [
    "Chapter 14\n",
    "# NumPy索引和切片\n",
    "Book_1《编程不难》 | 鸢尾花书：从加减乘除到机器学习  "
   ]
  },
  {
   "cell_type": "code",
   "id": "b7fd0dce-2785-492d-8c71-40feddea5500",
   "metadata": {
    "ExecuteTime": {
     "end_time": "2024-12-05T05:47:29.856171Z",
     "start_time": "2024-12-05T05:47:29.851405Z"
    }
   },
   "source": [
    "# 导入包\n",
    "import numpy as np\n",
    "import seaborn as sns\n",
    "import matplotlib.pyplot as plt\n",
    "import math\n",
    "from matplotlib import cm \n",
    "# 导入色谱\n",
    "\n",
    "import os\n",
    "\n",
    "# 如果文件夹不存在，创建文件夹\n",
    "if not os.path.isdir(\"Figures\"):\n",
    "    os.makedirs(\"Figures\")"
   ],
   "outputs": [],
   "execution_count": 2
  },
  {
   "cell_type": "markdown",
   "id": "0aa8b740-7ff9-48da-8773-7b97f3076b6e",
   "metadata": {},
   "source": [
    "## 定义可视化函数"
   ]
  },
  {
   "cell_type": "code",
   "id": "3987d0a0-9880-4bea-a3b4-22c7d040acb2",
   "metadata": {
    "ExecuteTime": {
     "end_time": "2024-12-05T06:07:30.764115Z",
     "start_time": "2024-12-05T06:07:30.757275Z"
    }
   },
   "source": [
    "def visualize_2D(array, title, vmax, vmin):\n",
    "    \n",
    "    fig_width  = math.ceil(array.shape[1] * 0.5)\n",
    "    fig_length = math.ceil(array.shape[0] * 0.5)\n",
    "    \n",
    "    fig, ax = plt.subplots(figsize=(fig_width, fig_length))\n",
    "    # 注意，seaborn.heatmap() 目前只能接受2D数组\n",
    "    # 本书中，一维数组可视化时用圆圈\n",
    "    # 可视化时，只有二维、三维数组用方块\n",
    "    \n",
    "    sns.heatmap(array, \n",
    "                vmax = vmax,\n",
    "                vmin = vmin,\n",
    "                annot = True,      # 增加注释\n",
    "                fmt = \".0f\",       # 注释数值的格式\n",
    "                square = True,     # 热图方格为正方形\n",
    "                cmap = 'RdYlBu_r', # 指定色谱\n",
    "                linewidths = .5,   # 方格线宽\n",
    "                cbar = False,      # 不显示色谱条\n",
    "                yticklabels=False, # 不显示纵轴标签\n",
    "                xticklabels=False, # 不显示横轴标签\n",
    "                ax = ax)           # 指定绘制热图的轴\n",
    "    \n",
    "    fig.savefig('Figures/' + title + '.svg', format='svg')\n",
    "\n",
    "# 定义绘制一元数组可视化函数\n",
    "\n",
    "def visualize_1D(array, title):\n",
    "    fig, ax = plt.subplots()\n",
    "\n",
    "    colors = cm.RdYlBu_r(np.linspace(0,1,len(array)))\n",
    "\n",
    "    for idx in range(len(array)):\n",
    "\n",
    "        circle_idx = plt.Circle((idx, 0), 0.5, facecolor=colors[idx], edgecolor = 'w')\n",
    "        ax.add_patch(circle_idx)\n",
    "        ax.text(idx, 0, s = str(array[idx]),\n",
    "                horizontalalignment = 'center',\n",
    "                verticalalignment = 'center')\n",
    "\n",
    "    ax.set_xlim(-0.6, 0.6 + len(array))\n",
    "    ax.set_ylim(-0.6, 0.6)\n",
    "    ax.set_aspect('equal', adjustable='box')\n",
    "    ax.axis('off')\n",
    "    fig.savefig('Figures/' + title + '.svg', format='svg')"
   ],
   "outputs": [],
   "execution_count": 10
  },
  {
   "cell_type": "markdown",
   "id": "29bf4f1a-003d-48bf-b5b1-49d03456ca31",
   "metadata": {},
   "source": [
    "## 一维数组"
   ]
  },
  {
   "cell_type": "markdown",
   "id": "cb1204b2-1f67-47e5-8b6b-890e797d193d",
   "metadata": {},
   "source": [
    "### 定义一维数组"
   ]
  },
  {
   "cell_type": "code",
   "execution_count": 3,
   "id": "4c9059fe-5088-4073-906c-efed902bceee",
   "metadata": {},
   "outputs": [],
   "source": [
    "a_1D_array = np.arange(-5, 5 + 1)"
   ]
  },
  {
   "cell_type": "code",
   "execution_count": 4,
   "id": "6d1ea1c3-8818-454d-a5a3-fc7f634d8907",
   "metadata": {},
   "outputs": [
    {
     "data": {
      "text/plain": [
       "(11,)"
      ]
     },
     "execution_count": 4,
     "metadata": {},
     "output_type": "execute_result"
    }
   ],
   "source": [
    "a_1D_array.shape"
   ]
  },
  {
   "cell_type": "code",
   "execution_count": 5,
   "id": "5eec0f37-9075-4eb5-b56b-d7250b44fa13",
   "metadata": {},
   "outputs": [
    {
     "data": {
      "text/plain": [
       "1"
      ]
     },
     "execution_count": 5,
     "metadata": {},
     "output_type": "execute_result"
    }
   ],
   "source": [
    "a_1D_array.ndim"
   ]
  },
  {
   "cell_type": "code",
   "execution_count": 6,
   "id": "e09b71c9-3360-4977-8b9d-1af18e1b7039",
   "metadata": {},
   "outputs": [
    {
     "data": {
      "text/plain": [
       "11"
      ]
     },
     "execution_count": 6,
     "metadata": {},
     "output_type": "execute_result"
    }
   ],
   "source": [
    "len(a_1D_array)"
   ]
  },
  {
   "cell_type": "code",
   "execution_count": 7,
   "id": "c7b3785f-89ce-4da9-87ae-40ec5eb9f0c2",
   "metadata": {},
   "outputs": [
    {
     "data": {
      "image/png": "[encoded data removed]",
      "text/plain": [
       "<Figure size 640x480 with 1 Axes>"
      ]
     },
     "metadata": {},
     "output_type": "display_data"
    }
   ],
   "source": [
    "visualize_1D(a_1D_array, '一维数组')"
   ]
  },
  {
   "cell_type": "markdown",
   "id": "b135100b-ce88-42cf-af5f-9f9a774191d5",
   "metadata": {},
   "source": [
    "### 索引"
   ]
  },
  {
   "cell_type": "code",
   "execution_count": 8,
   "id": "83620aa7-4a71-4a04-beab-d123ad34256f",
   "metadata": {},
   "outputs": [
    {
     "data": {
      "text/plain": [
       "-5"
      ]
     },
     "execution_count": 8,
     "metadata": {},
     "output_type": "execute_result"
    }
   ],
   "source": [
    "# 第一个元素，索引为0\n",
    "a_1D_array[0]"
   ]
  },
  {
   "cell_type": "code",
   "execution_count": 9,
   "id": "2069c661-71b7-4a9f-916c-2441375e9d51",
   "metadata": {},
   "outputs": [
    {
     "data": {
      "text/plain": [
       "-5"
      ]
     },
     "execution_count": 9,
     "metadata": {},
     "output_type": "execute_result"
    }
   ],
   "source": [
    "a_1D_array[-11]"
   ]
  },
  {
   "cell_type": "code",
   "execution_count": 10,
   "id": "dfcda765-e2ce-4a41-bb33-f414a5d780df",
   "metadata": {},
   "outputs": [
    {
     "data": {
      "text/plain": [
       "5"
      ]
     },
     "execution_count": 10,
     "metadata": {},
     "output_type": "execute_result"
    }
   ],
   "source": [
    "# 最后一个元素，索引为-1 或 len(a_1D_array) - 1\n",
    "a_1D_array[-1]"
   ]
  },
  {
   "cell_type": "code",
   "execution_count": 11,
   "id": "2efce5c6-e1f4-45c8-8299-c50242a093fe",
   "metadata": {},
   "outputs": [
    {
     "data": {
      "text/plain": [
       "5"
      ]
     },
     "execution_count": 11,
     "metadata": {},
     "output_type": "execute_result"
    }
   ],
   "source": [
    "a_1D_array[len(a_1D_array) - 1]"
   ]
  },
  {
   "cell_type": "code",
   "execution_count": 12,
   "id": "a4261eba-3b64-4895-8d7f-6836513b4e21",
   "metadata": {},
   "outputs": [
    {
     "data": {
      "text/plain": [
       "5"
      ]
     },
     "execution_count": 12,
     "metadata": {},
     "output_type": "execute_result"
    }
   ],
   "source": [
    "a_1D_array[10]"
   ]
  },
  {
   "cell_type": "code",
   "execution_count": 13,
   "id": "cf275b2c-2c37-4ff9-80cd-56dfa2e2cd60",
   "metadata": {},
   "outputs": [
    {
     "data": {
      "text/plain": [
       "4"
      ]
     },
     "execution_count": 13,
     "metadata": {},
     "output_type": "execute_result"
    }
   ],
   "source": [
    "# 倒数第二个元素，索引为-2 或len(a_1D_array) - 2\n",
    "a_1D_array[-2]"
   ]
  },
  {
   "cell_type": "markdown",
   "id": "47a8ce99-bfae-4d99-b3a2-79d8eb7bc4de",
   "metadata": {},
   "source": [
    "### 行向量、列向量"
   ]
  },
  {
   "cell_type": "code",
   "execution_count": 14,
   "id": "4c4239ca-1fd9-46ba-b8e7-ee44651c4b19",
   "metadata": {},
   "outputs": [
    {
     "data": {
      "text/plain": [
       "array([[-5],\n",
       "       [-4],\n",
       "       [-3],\n",
       "       [-2],\n",
       "       [-1],\n",
       "       [ 0],\n",
       "       [ 1],\n",
       "       [ 2],\n",
       "       [ 3],\n",
       "       [ 4],\n",
       "       [ 5]])"
      ]
     },
     "execution_count": 14,
     "metadata": {},
     "output_type": "execute_result"
    }
   ],
   "source": [
    "# 转为列向量\n",
    "a_1D_array[:, np.newaxis]"
   ]
  },
  {
   "cell_type": "code",
   "execution_count": 15,
   "id": "c00bff43-83a6-43e1-9f73-5ccad021c857",
   "metadata": {},
   "outputs": [
    {
     "data": {
      "image/png": "[encoded data removed]",
      "text/plain": [
       "<Figure size 100x600 with 1 Axes>"
      ]
     },
     "metadata": {},
     "output_type": "display_data"
    }
   ],
   "source": [
    "visualize_2D(a_1D_array[:, np.newaxis], '列向量', 5, -5)"
   ]
  },
  {
   "cell_type": "code",
   "execution_count": 16,
   "id": "acc5b913-1640-41fc-a74c-c4fe89e1be4d",
   "metadata": {},
   "outputs": [
    {
     "data": {
      "text/plain": [
       "2"
      ]
     },
     "execution_count": 16,
     "metadata": {},
     "output_type": "execute_result"
    }
   ],
   "source": [
    "a_1D_array[:, np.newaxis].ndim"
   ]
  },
  {
   "cell_type": "code",
   "execution_count": 17,
   "id": "79f316fb-0ef7-404c-a4f4-ce5fddcbd295",
   "metadata": {},
   "outputs": [
    {
     "data": {
      "text/plain": [
       "array([[-5],\n",
       "       [-4],\n",
       "       [-3],\n",
       "       [-2],\n",
       "       [-1],\n",
       "       [ 0],\n",
       "       [ 1],\n",
       "       [ 2],\n",
       "       [ 3],\n",
       "       [ 4],\n",
       "       [ 5]])"
      ]
     },
     "execution_count": 17,
     "metadata": {},
     "output_type": "execute_result"
    }
   ],
   "source": [
    "a_1D_array[:, None]"
   ]
  },
  {
   "cell_type": "code",
   "execution_count": 18,
   "id": "88399755-f6b5-4ab0-bd16-b9e934a3d117",
   "metadata": {},
   "outputs": [
    {
     "data": {
      "text/plain": [
       "array([[-5],\n",
       "       [-4],\n",
       "       [-3],\n",
       "       [-2],\n",
       "       [-1],\n",
       "       [ 0],\n",
       "       [ 1],\n",
       "       [ 2],\n",
       "       [ 3],\n",
       "       [ 4],\n",
       "       [ 5]])"
      ]
     },
     "execution_count": 18,
     "metadata": {},
     "output_type": "execute_result"
    }
   ],
   "source": [
    "a_1D_array.reshape(-1,1)"
   ]
  },
  {
   "cell_type": "code",
   "execution_count": 19,
   "id": "915e76ce-2413-4c8f-8287-18d8dfdc40ba",
   "metadata": {},
   "outputs": [
    {
     "data": {
      "text/plain": [
       "array([-5, -4, -3, -2, -1,  0,  1,  2,  3,  4,  5])"
      ]
     },
     "execution_count": 19,
     "metadata": {},
     "output_type": "execute_result"
    }
   ],
   "source": [
    "a_1D_array[:, np.newaxis].squeeze()\n",
    "# 二维到一维"
   ]
  },
  {
   "cell_type": "code",
   "execution_count": 20,
   "id": "444d9c32-7f4c-4d67-92a4-7fa6bab2fbe4",
   "metadata": {},
   "outputs": [
    {
     "data": {
      "text/plain": [
       "array([[-5, -4, -3, -2, -1,  0,  1,  2,  3,  4,  5]])"
      ]
     },
     "execution_count": 20,
     "metadata": {},
     "output_type": "execute_result"
    }
   ],
   "source": [
    "# 转为行向量\n",
    "a_1D_array[np.newaxis, :]"
   ]
  },
  {
   "cell_type": "code",
   "execution_count": 21,
   "id": "563db4d9-8a94-4ea8-954a-8d907e7a8849",
   "metadata": {},
   "outputs": [
    {
     "data": {
      "image/png": "[encoded data removed]",
      "text/plain": [
       "<Figure size 600x100 with 1 Axes>"
      ]
     },
     "metadata": {},
     "output_type": "display_data"
    }
   ],
   "source": [
    "visualize_2D(a_1D_array[np.newaxis, :], '行向量', 5, -5)"
   ]
  },
  {
   "cell_type": "code",
   "execution_count": 22,
   "id": "ad20dbfa-6950-4fba-b190-46f331e5b8f3",
   "metadata": {},
   "outputs": [
    {
     "data": {
      "text/plain": [
       "array([[-5, -4, -3, -2, -1,  0,  1,  2,  3,  4,  5]])"
      ]
     },
     "execution_count": 22,
     "metadata": {},
     "output_type": "execute_result"
    }
   ],
   "source": [
    "a_1D_array[None, :]"
   ]
  },
  {
   "cell_type": "code",
   "execution_count": 23,
   "id": "464763cf-5ad6-4733-92a6-bb67f74cf42f",
   "metadata": {},
   "outputs": [
    {
     "data": {
      "text/plain": [
       "array([[-5, -4, -3, -2, -1,  0,  1,  2,  3,  4,  5]])"
      ]
     },
     "execution_count": 23,
     "metadata": {},
     "output_type": "execute_result"
    }
   ],
   "source": [
    "a_1D_array.reshape(1,-1)"
   ]
  },
  {
   "cell_type": "code",
   "execution_count": 24,
   "id": "e4f67f0e-af7c-485f-86d4-f56dd0c83f17",
   "metadata": {},
   "outputs": [
    {
     "data": {
      "text/plain": [
       "array([[110]])"
      ]
     },
     "execution_count": 24,
     "metadata": {},
     "output_type": "execute_result"
    }
   ],
   "source": [
    "a_1D_array[np.newaxis, :] @ a_1D_array[:, np.newaxis]"
   ]
  },
  {
   "cell_type": "code",
   "execution_count": 25,
   "id": "9b9362a2-0f39-4e0c-8703-574514f2ed73",
   "metadata": {},
   "outputs": [
    {
     "data": {
      "text/plain": [
       "array([[ 25,  20,  15,  10,   5,   0,  -5, -10, -15, -20, -25],\n",
       "       [ 20,  16,  12,   8,   4,   0,  -4,  -8, -12, -16, -20],\n",
       "       [ 15,  12,   9,   6,   3,   0,  -3,  -6,  -9, -12, -15],\n",
       "       [ 10,   8,   6,   4,   2,   0,  -2,  -4,  -6,  -8, -10],\n",
       "       [  5,   4,   3,   2,   1,   0,  -1,  -2,  -3,  -4,  -5],\n",
       "       [  0,   0,   0,   0,   0,   0,   0,   0,   0,   0,   0],\n",
       "       [ -5,  -4,  -3,  -2,  -1,   0,   1,   2,   3,   4,   5],\n",
       "       [-10,  -8,  -6,  -4,  -2,   0,   2,   4,   6,   8,  10],\n",
       "       [-15, -12,  -9,  -6,  -3,   0,   3,   6,   9,  12,  15],\n",
       "       [-20, -16, -12,  -8,  -4,   0,   4,   8,  12,  16,  20],\n",
       "       [-25, -20, -15, -10,  -5,   0,   5,  10,  15,  20,  25]])"
      ]
     },
     "execution_count": 25,
     "metadata": {},
     "output_type": "execute_result"
    }
   ],
   "source": [
    "a_1D_array[:, np.newaxis] @ a_1D_array[np.newaxis, :]"
   ]
  },
  {
   "cell_type": "code",
   "execution_count": 26,
   "id": "1152b829-bef5-45a6-9821-f1be7c68ef00",
   "metadata": {},
   "outputs": [
    {
     "data": {
      "text/plain": [
       "array([[[-5]],\n",
       "\n",
       "       [[-4]],\n",
       "\n",
       "       [[-3]],\n",
       "\n",
       "       [[-2]],\n",
       "\n",
       "       [[-1]],\n",
       "\n",
       "       [[ 0]],\n",
       "\n",
       "       [[ 1]],\n",
       "\n",
       "       [[ 2]],\n",
       "\n",
       "       [[ 3]],\n",
       "\n",
       "       [[ 4]],\n",
       "\n",
       "       [[ 5]]])"
      ]
     },
     "execution_count": 26,
     "metadata": {},
     "output_type": "execute_result"
    }
   ],
   "source": [
    "a_1D_array[:, np.newaxis, np.newaxis]\n",
    "# 三维"
   ]
  },
  {
   "cell_type": "code",
   "execution_count": 27,
   "id": "17a38281-fb60-4736-89d9-36d343e50c49",
   "metadata": {},
   "outputs": [
    {
     "data": {
      "text/plain": [
       "array([-5, -4, -3, -2, -1,  0,  1,  2,  3,  4,  5])"
      ]
     },
     "execution_count": 27,
     "metadata": {},
     "output_type": "execute_result"
    }
   ],
   "source": [
    "a_1D_array[:, np.newaxis, np.newaxis].squeeze()\n",
    "# 从三维到一维"
   ]
  },
  {
   "cell_type": "markdown",
   "id": "b8ff04c9-f7be-43af-bb83-5e432ba22978",
   "metadata": {},
   "source": [
    "### 切片"
   ]
  },
  {
   "cell_type": "markdown",
   "id": "5e71e92c-499f-4d35-adce-fd5f8eb834e0",
   "metadata": {},
   "source": [
    "#### 获取数组中的前三个元素"
   ]
  },
  {
   "cell_type": "code",
   "execution_count": 28,
   "id": "fdb1a1ff-a34b-4114-b71b-7aae79ef51af",
   "metadata": {},
   "outputs": [
    {
     "data": {
      "text/plain": [
       "array([-5, -4, -3])"
      ]
     },
     "execution_count": 28,
     "metadata": {},
     "output_type": "execute_result"
    }
   ],
   "source": [
    "a_1D_array[:3]"
   ]
  },
  {
   "cell_type": "code",
   "execution_count": 29,
   "id": "1a922903-51d3-4a0d-96a9-e50ff0e0de86",
   "metadata": {},
   "outputs": [
    {
     "data": {
      "text/plain": [
       "array([-5, -4, -3])"
      ]
     },
     "execution_count": 29,
     "metadata": {},
     "output_type": "execute_result"
    }
   ],
   "source": [
    "a_1D_array[0:3]"
   ]
  },
  {
   "cell_type": "code",
   "execution_count": 30,
   "id": "79184273-b17d-4310-8a9e-bd78846758b3",
   "metadata": {},
   "outputs": [
    {
     "data": {
      "text/plain": [
       "array([-5, -4, -3])"
      ]
     },
     "execution_count": 30,
     "metadata": {},
     "output_type": "execute_result"
    }
   ],
   "source": [
    "a_1D_array[[0, 1, 2]]"
   ]
  },
  {
   "cell_type": "markdown",
   "id": "2c138f46-ae8c-40e3-bf65-166a52abc70e",
   "metadata": {},
   "source": [
    "#### 获取数组中的第二个、三个元素"
   ]
  },
  {
   "cell_type": "code",
   "execution_count": 31,
   "id": "d46bd427-3b1c-451a-be1e-3e6f220b9da3",
   "metadata": {},
   "outputs": [
    {
     "data": {
      "text/plain": [
       "array([-4, -3])"
      ]
     },
     "execution_count": 31,
     "metadata": {},
     "output_type": "execute_result"
    }
   ],
   "source": [
    "a_1D_array[1:3]"
   ]
  },
  {
   "cell_type": "code",
   "execution_count": 32,
   "id": "85ce30d4-fa49-4a00-a53a-501cfe7542cd",
   "metadata": {},
   "outputs": [
    {
     "data": {
      "text/plain": [
       "array([-4, -3])"
      ]
     },
     "execution_count": 32,
     "metadata": {},
     "output_type": "execute_result"
    }
   ],
   "source": [
    "a_1D_array[[1, 2]]"
   ]
  },
  {
   "cell_type": "markdown",
   "id": "3cec9555-f2e8-42db-b914-843b43b01ee8",
   "metadata": {},
   "source": [
    "#### 获取数组中的最后三个元素"
   ]
  },
  {
   "cell_type": "code",
   "execution_count": 33,
   "id": "f0ca54fe-d0fa-482c-95f8-19ff13f0480d",
   "metadata": {},
   "outputs": [
    {
     "data": {
      "text/plain": [
       "array([3, 4, 5])"
      ]
     },
     "execution_count": 33,
     "metadata": {},
     "output_type": "execute_result"
    }
   ],
   "source": [
    "a_1D_array[-3:]"
   ]
  },
  {
   "cell_type": "code",
   "execution_count": 34,
   "id": "484bd3e7-5729-47ed-8970-3053f91a4bd7",
   "metadata": {},
   "outputs": [
    {
     "data": {
      "text/plain": [
       "array([3, 4, 5])"
      ]
     },
     "execution_count": 34,
     "metadata": {},
     "output_type": "execute_result"
    }
   ],
   "source": [
    "a_1D_array[8:]"
   ]
  },
  {
   "cell_type": "code",
   "execution_count": 35,
   "id": "2bcf1d49-cef6-43ab-9269-b4eaaef64fce",
   "metadata": {},
   "outputs": [
    {
     "data": {
      "text/plain": [
       "11"
      ]
     },
     "execution_count": 35,
     "metadata": {},
     "output_type": "execute_result"
    }
   ],
   "source": [
    "len(a_1D_array)"
   ]
  },
  {
   "cell_type": "code",
   "execution_count": 36,
   "id": "40376de6-6d01-475f-8571-882e9a74e180",
   "metadata": {},
   "outputs": [
    {
     "data": {
      "text/plain": [
       "array([3, 4, 5])"
      ]
     },
     "execution_count": 36,
     "metadata": {},
     "output_type": "execute_result"
    }
   ],
   "source": [
    "a_1D_array[len(a_1D_array)-3:]"
   ]
  },
  {
   "cell_type": "code",
   "execution_count": 37,
   "id": "244dc89d-03dd-45d1-bed0-6cce95d25f30",
   "metadata": {},
   "outputs": [
    {
     "data": {
      "text/plain": [
       "array([3, 4, 5])"
      ]
     },
     "execution_count": 37,
     "metadata": {},
     "output_type": "execute_result"
    }
   ],
   "source": [
    "a_1D_array[[-3, -2, -1]]"
   ]
  },
  {
   "cell_type": "markdown",
   "id": "f2ff92cc-ee66-466f-b2e2-735374285713",
   "metadata": {},
   "source": [
    "### 设定步长"
   ]
  },
  {
   "cell_type": "markdown",
   "id": "9920bbfd-7de1-48c7-a61c-0284a382bcd3",
   "metadata": {},
   "source": [
    "#### 取出所有奇数"
   ]
  },
  {
   "cell_type": "code",
   "execution_count": 38,
   "id": "29d71291-a59b-49ef-980d-314384d91d94",
   "metadata": {},
   "outputs": [
    {
     "data": {
      "text/plain": [
       "array([-5, -3, -1,  1,  3,  5])"
      ]
     },
     "execution_count": 38,
     "metadata": {},
     "output_type": "execute_result"
    }
   ],
   "source": [
    "a_1D_array[::2]"
   ]
  },
  {
   "cell_type": "code",
   "execution_count": 39,
   "id": "bdbec598-17ed-4bfb-aac2-1f3616242923",
   "metadata": {},
   "outputs": [
    {
     "data": {
      "text/plain": [
       "array([-5, -3, -1,  1,  3])"
      ]
     },
     "execution_count": 39,
     "metadata": {},
     "output_type": "execute_result"
    }
   ],
   "source": [
    "a_1D_array[0:-1:2]\n",
    "# 注意，这句代码取出的几个元素，包括第一个元素，但是不包括最后一个元素"
   ]
  },
  {
   "cell_type": "markdown",
   "id": "b72f17d5-fcd7-41ce-8ee1-a921a340e7c3",
   "metadata": {},
   "source": [
    "#### 取出所有偶数"
   ]
  },
  {
   "cell_type": "code",
   "execution_count": 40,
   "id": "f90abed7-3062-4015-bd68-5aa05ddbdab5",
   "metadata": {},
   "outputs": [
    {
     "data": {
      "text/plain": [
       "array([-4, -2,  0,  2,  4])"
      ]
     },
     "execution_count": 40,
     "metadata": {},
     "output_type": "execute_result"
    }
   ],
   "source": [
    "a_1D_array[1::2]"
   ]
  },
  {
   "cell_type": "markdown",
   "id": "be7e83bb-29df-4aa8-8986-d3db3a1bd870",
   "metadata": {},
   "source": [
    "#### 倒序"
   ]
  },
  {
   "cell_type": "code",
   "execution_count": 41,
   "id": "b9cc92da-3cd9-4659-b348-21bec1ff5212",
   "metadata": {},
   "outputs": [
    {
     "data": {
      "text/plain": [
       "array([ 5,  4,  3,  2,  1,  0, -1, -2, -3, -4, -5])"
      ]
     },
     "execution_count": 41,
     "metadata": {},
     "output_type": "execute_result"
    }
   ],
   "source": [
    "a_1D_array[::-1]"
   ]
  },
  {
   "cell_type": "code",
   "execution_count": 42,
   "id": "58ae06f2-f4cd-4032-a6bf-55245cab2e34",
   "metadata": {},
   "outputs": [
    {
     "data": {
      "text/plain": [
       "array([ 5,  3,  1, -1, -3, -5])"
      ]
     },
     "execution_count": 42,
     "metadata": {},
     "output_type": "execute_result"
    }
   ],
   "source": [
    "a_1D_array[::-2]"
   ]
  },
  {
   "cell_type": "code",
   "execution_count": 43,
   "id": "e13d5f2c-b8da-4cd4-833f-d7c8c59e5488",
   "metadata": {},
   "outputs": [
    {
     "data": {
      "text/plain": [
       "array([ 5,  4,  3,  2,  1,  0, -1, -2])"
      ]
     },
     "execution_count": 43,
     "metadata": {},
     "output_type": "execute_result"
    }
   ],
   "source": [
    "a_1D_array[-1:2:-1]"
   ]
  },
  {
   "cell_type": "code",
   "execution_count": 44,
   "id": "52e29253-c59e-4a76-bd97-66167cbc3f8c",
   "metadata": {},
   "outputs": [
    {
     "data": {
      "text/plain": [
       "array([ 5,  3,  1, -1])"
      ]
     },
     "execution_count": 44,
     "metadata": {},
     "output_type": "execute_result"
    }
   ],
   "source": [
    "a_1D_array[-1:2:-2]"
   ]
  },
  {
   "cell_type": "markdown",
   "id": "d72b0728-3583-4a3a-bf2c-a4b3ae67c3a0",
   "metadata": {},
   "source": [
    "#### 其他步长设置"
   ]
  },
  {
   "cell_type": "code",
   "execution_count": 45,
   "id": "64f06c3c-8c79-4adc-902e-5787655033e7",
   "metadata": {},
   "outputs": [
    {
     "data": {
      "text/plain": [
       "array([-5, -3, -1,  1])"
      ]
     },
     "execution_count": 45,
     "metadata": {},
     "output_type": "execute_result"
    }
   ],
   "source": [
    "a_1D_array[:-3:2]"
   ]
  },
  {
   "cell_type": "code",
   "execution_count": 46,
   "id": "e365a279-7807-4c49-ba64-863ca78c19f0",
   "metadata": {},
   "outputs": [
    {
     "data": {
      "text/plain": [
       "array([-4, -2,  0,  2,  4])"
      ]
     },
     "execution_count": 46,
     "metadata": {},
     "output_type": "execute_result"
    }
   ],
   "source": [
    "a_1D_array[1:-1:2]"
   ]
  },
  {
   "cell_type": "code",
   "execution_count": 47,
   "id": "7f2b98ed-1350-4bef-9ef2-b2d420557876",
   "metadata": {},
   "outputs": [
    {
     "data": {
      "text/plain": [
       "array([-5, -2,  1,  4])"
      ]
     },
     "execution_count": 47,
     "metadata": {},
     "output_type": "execute_result"
    }
   ],
   "source": [
    "a_1D_array[::3]"
   ]
  },
  {
   "cell_type": "code",
   "execution_count": 48,
   "id": "d7299624-2d8f-412a-af36-324ab9e6a63b",
   "metadata": {},
   "outputs": [
    {
     "data": {
      "text/plain": [
       "array([-4, -1,  2,  5])"
      ]
     },
     "execution_count": 48,
     "metadata": {},
     "output_type": "execute_result"
    }
   ],
   "source": [
    "a_1D_array[1::3]"
   ]
  },
  {
   "cell_type": "markdown",
   "id": "14acc8dc-2a1d-469c-9bcb-497182a6ff17",
   "metadata": {},
   "source": [
    "### 整数索引"
   ]
  },
  {
   "cell_type": "code",
   "execution_count": 49,
   "id": "07c1bed2-bf5f-47e8-bc35-775b192bded9",
   "metadata": {},
   "outputs": [
    {
     "data": {
      "text/plain": [
       "array([-5, -4, -3,  5])"
      ]
     },
     "execution_count": 49,
     "metadata": {},
     "output_type": "execute_result"
    }
   ],
   "source": [
    "# 获取，第一、二 三，和最后一个元素\n",
    "a_1D_array[[0, 1, 2, -1]]"
   ]
  },
  {
   "cell_type": "code",
   "execution_count": 50,
   "id": "3164c899-21d6-43ef-8983-0f9db4e6d732",
   "metadata": {},
   "outputs": [
    {
     "data": {
      "text/plain": [
       "array([-5, -4, -3,  5])"
      ]
     },
     "execution_count": 50,
     "metadata": {},
     "output_type": "execute_result"
    }
   ],
   "source": [
    "a_1D_array[np.r_[0:3, -1]]\n",
    "\n",
    "# numpy.r_ 是一个用于将切片对象转换为一个沿着第一个轴堆叠的 NumPy 数组的函数。\n",
    "# 它可以在数组创建和索引时使用。\n",
    "# 它的作用类似于 numpy.concatenate 和 numpy.vstack，\n",
    "# 但是使用切片对象作为索引来方便快捷地创建数组。"
   ]
  },
  {
   "cell_type": "code",
   "execution_count": 51,
   "id": "7eeb2587-4203-406b-b636-e1482b1c0492",
   "metadata": {},
   "outputs": [
    {
     "data": {
      "text/plain": [
       "array([-5, -4, -3,  5])"
      ]
     },
     "execution_count": 51,
     "metadata": {},
     "output_type": "execute_result"
    }
   ],
   "source": [
    "# 或者采用合并\n",
    "first_three = a_1D_array[:3]   # 获取前三个元素\n",
    "last_one    = a_1D_array[-1:]  # 获取最后一个元素\n",
    "np.concatenate((first_three[:3], last_one[-1:]))"
   ]
  },
  {
   "cell_type": "markdown",
   "id": "17b58d13-d52e-4dc9-a129-8cdfb0460462",
   "metadata": {},
   "source": [
    "### 布尔索引"
   ]
  },
  {
   "cell_type": "code",
   "execution_count": 52,
   "id": "8fc3df49-8c2d-4ae1-9269-ac508e06d81a",
   "metadata": {},
   "outputs": [
    {
     "data": {
      "text/plain": [
       "array([False, False, False, False, False, False, False,  True,  True,\n",
       "        True,  True])"
      ]
     },
     "execution_count": 52,
     "metadata": {},
     "output_type": "execute_result"
    }
   ],
   "source": [
    "# 大于 1 的元素\n",
    "bool_greater_than_1 = a_1D_array > 1\n",
    "bool_greater_than_1"
   ]
  },
  {
   "cell_type": "code",
   "execution_count": 53,
   "id": "63886bf8-5e24-4d31-aed5-fbec2949f20c",
   "metadata": {},
   "outputs": [
    {
     "data": {
      "text/plain": [
       "array([2, 3, 4, 5])"
      ]
     },
     "execution_count": 53,
     "metadata": {},
     "output_type": "execute_result"
    }
   ],
   "source": [
    "a_1D_array[bool_greater_than_1]"
   ]
  },
  {
   "cell_type": "code",
   "execution_count": 54,
   "id": "fc2fef85-eff1-44e8-9736-5e6fe9658155",
   "metadata": {},
   "outputs": [
    {
     "data": {
      "text/plain": [
       "array([2, 3, 4, 5])"
      ]
     },
     "execution_count": 54,
     "metadata": {},
     "output_type": "execute_result"
    }
   ],
   "source": [
    "a_1D_array[a_1D_array > 1]"
   ]
  },
  {
   "cell_type": "code",
   "execution_count": 55,
   "id": "103a629c-561c-4872-8d77-147023e7fc4a",
   "metadata": {},
   "outputs": [
    {
     "data": {
      "text/plain": [
       "array([False, False, False, False, False,  True,  True,  True,  True,\n",
       "        True,  True])"
      ]
     },
     "execution_count": 55,
     "metadata": {},
     "output_type": "execute_result"
    }
   ],
   "source": [
    "# 大于等于 0 的元素\n",
    "bool_greater_than_eq_0 = a_1D_array >= 0\n",
    "bool_greater_than_eq_0"
   ]
  },
  {
   "cell_type": "code",
   "execution_count": 56,
   "id": "27a3c1a8-40c5-449e-9a16-ff0244b11653",
   "metadata": {},
   "outputs": [
    {
     "data": {
      "text/plain": [
       "array([0, 1, 2, 3, 4, 5])"
      ]
     },
     "execution_count": 56,
     "metadata": {},
     "output_type": "execute_result"
    }
   ],
   "source": [
    "a_1D_array[bool_greater_than_eq_0]"
   ]
  },
  {
   "cell_type": "code",
   "execution_count": 57,
   "id": "91b3763e-7c51-405a-90c6-70d7977d2ef1",
   "metadata": {},
   "outputs": [
    {
     "data": {
      "text/plain": [
       "array([0, 1, 2, 3, 4, 5])"
      ]
     },
     "execution_count": 57,
     "metadata": {},
     "output_type": "execute_result"
    }
   ],
   "source": [
    "a_1D_array[a_1D_array >= 0]"
   ]
  },
  {
   "cell_type": "code",
   "execution_count": 58,
   "id": "9b854afb-6fbd-442e-8e92-1cf47a9d66e8",
   "metadata": {},
   "outputs": [
    {
     "data": {
      "text/plain": [
       "array([ True,  True,  True,  True,  True, False, False, False, False,\n",
       "       False, False])"
      ]
     },
     "execution_count": 58,
     "metadata": {},
     "output_type": "execute_result"
    }
   ],
   "source": [
    "# 小于 0 的元素\n",
    "bool_less_than_0 = a_1D_array < 0\n",
    "bool_less_than_0"
   ]
  },
  {
   "cell_type": "code",
   "execution_count": 59,
   "id": "fac5b10a-e9cd-4354-8fa1-9b2f73fc4b9c",
   "metadata": {},
   "outputs": [
    {
     "data": {
      "text/plain": [
       "array([-5, -4, -3, -2, -1])"
      ]
     },
     "execution_count": 59,
     "metadata": {},
     "output_type": "execute_result"
    }
   ],
   "source": [
    "a_1D_array[bool_less_than_0]"
   ]
  },
  {
   "cell_type": "code",
   "execution_count": 60,
   "id": "7946cb99-f75f-41d0-b55a-fc3ca86523d1",
   "metadata": {},
   "outputs": [
    {
     "data": {
      "text/plain": [
       "array([-5, -4, -3, -2, -1])"
      ]
     },
     "execution_count": 60,
     "metadata": {},
     "output_type": "execute_result"
    }
   ],
   "source": [
    "a_1D_array[a_1D_array < 0]"
   ]
  },
  {
   "cell_type": "code",
   "execution_count": 61,
   "id": "22ae208c-b173-4297-9330-583f3c9e46eb",
   "metadata": {},
   "outputs": [
    {
     "data": {
      "text/plain": [
       "array([ True,  True,  True,  True,  True,  True, False, False, False,\n",
       "       False, False])"
      ]
     },
     "execution_count": 61,
     "metadata": {},
     "output_type": "execute_result"
    }
   ],
   "source": [
    "bool_less_than_eq_0 = a_1D_array <= 0\n",
    "bool_less_than_eq_0"
   ]
  },
  {
   "cell_type": "code",
   "execution_count": 62,
   "id": "8d7a2145-dba3-437b-9049-6e59f90e2bb9",
   "metadata": {},
   "outputs": [
    {
     "data": {
      "text/plain": [
       "array([-5, -4, -3, -2, -1,  0])"
      ]
     },
     "execution_count": 62,
     "metadata": {},
     "output_type": "execute_result"
    }
   ],
   "source": [
    "a_1D_array[bool_less_than_eq_0]"
   ]
  },
  {
   "cell_type": "code",
   "execution_count": 63,
   "id": "6e2f416e-12c1-4092-b681-83d916cba86b",
   "metadata": {},
   "outputs": [
    {
     "data": {
      "text/plain": [
       "array([-5, -4, -3, -2, -1,  0])"
      ]
     },
     "execution_count": 63,
     "metadata": {},
     "output_type": "execute_result"
    }
   ],
   "source": [
    "a_1D_array[a_1D_array <= 0]"
   ]
  },
  {
   "cell_type": "code",
   "execution_count": 64,
   "id": "585f7b25-67c2-43d4-a24e-715c932e1885",
   "metadata": {},
   "outputs": [],
   "source": [
    "### 大于-3，小于3的元素"
   ]
  },
  {
   "cell_type": "code",
   "execution_count": 65,
   "id": "b9640ea7-a7e5-4116-b98d-821cee66e10b",
   "metadata": {},
   "outputs": [
    {
     "data": {
      "text/plain": [
       "array([-2, -1,  0,  1,  2])"
      ]
     },
     "execution_count": 65,
     "metadata": {},
     "output_type": "execute_result"
    }
   ],
   "source": [
    "a_1D_array[(a_1D_array < 3) & (a_1D_array > -3)]"
   ]
  },
  {
   "cell_type": "code",
   "execution_count": 66,
   "id": "2cbad4e8-f16f-4744-9549-e417211bcd04",
   "metadata": {},
   "outputs": [
    {
     "data": {
      "text/plain": [
       "array([100, 100, 100, 100, 100, 100,   1,   2,   3,   4,   5])"
      ]
     },
     "execution_count": 66,
     "metadata": {},
     "output_type": "execute_result"
    }
   ],
   "source": [
    "a_1D_array_copy_1 = np.copy(a_1D_array)\n",
    "\n",
    "a_1D_array_copy_1[a_1D_array_copy_1 <= 0] = 100\n",
    "a_1D_array_copy_1"
   ]
  },
  {
   "cell_type": "code",
   "execution_count": 67,
   "id": "60e1ac6d-3357-453b-843d-cc829c88371c",
   "metadata": {},
   "outputs": [
    {
     "data": {
      "text/plain": [
       "array([ -5,  -4,  -3, 100, 100, 100, 100, 100,   3,   4,   5])"
      ]
     },
     "execution_count": 67,
     "metadata": {},
     "output_type": "execute_result"
    }
   ],
   "source": [
    "a_1D_array_copy_2 = np.copy(a_1D_array)\n",
    "a_1D_array_copy_2[(a_1D_array_copy_2 < 3) & (a_1D_array_copy_2 > -3)] = 100\n",
    "a_1D_array_copy_2"
   ]
  },
  {
   "cell_type": "markdown",
   "id": "0c1884bd-53ed-4a8e-9dca-cfee0cdc7086",
   "metadata": {},
   "source": [
    "## 视图 vs 副本"
   ]
  },
  {
   "cell_type": "code",
   "id": "7253dfa7-bf19-4c16-a204-3b9fdcc3b5bd",
   "metadata": {
    "ExecuteTime": {
     "end_time": "2024-12-05T05:49:47.863298Z",
     "start_time": "2024-12-05T05:49:47.860034Z"
    }
   },
   "source": [
    "# 创建一个一维数组\n",
    "a = np.array([1, 2, 3, 4, 5])\n",
    "# 创建一个切片视图\n",
    "s = a[1:3]\n",
    "# 修改视图中的数据\n",
    "s[0] = 1000\n",
    "# 查看原始数组\n",
    "print(a) # 输出：[1000 0 3 4 5]\n",
    "\n",
    "# 创建一个整数数组索引副本\n",
    "c = a[[1, 3]].copy()\n",
    "# 修改副本中的数据\n",
    "c[0] = 888\n",
    "\n",
    "# 查看原始数组\n",
    "print(a) # 输出：[1000 0 3 4 5]\n",
    "print(c)"
   ],
   "outputs": [
    {
     "name": "stdout",
     "output_type": "stream",
     "text": [
      "[   1 1000    3    4    5]\n",
      "[   1 1000    3    4    5]\n",
      "[888   4]\n"
     ]
    }
   ],
   "execution_count": 4
  },
  {
   "cell_type": "code",
   "id": "41836ae2-121e-4912-8b04-9accb425596b",
   "metadata": {
    "ExecuteTime": {
     "end_time": "2024-12-05T06:06:00.445033Z",
     "start_time": "2024-12-05T06:06:00.441031Z"
    }
   },
   "source": [
    "# 创建一个3x3的数组\n",
    "a = np.array([[1, 2, 3], [4, 5, 6], [7, 8, 9]])\n",
    "# 使用a[:, np.newaxis]创建一个新的视图\n",
    "b = a[:, np.newaxis]\n",
    "# 修改b中的值\n",
    "b[0, 0, 0] = 1000\n",
    "# 打印原始数组a\n",
    "print(a)\n",
    "# a[:, numpy.newaxis] 返回的是原始数组的一个视图，而不是副本"
   ],
   "outputs": [
    {
     "name": "stdout",
     "output_type": "stream",
     "text": [
      "[[1000    2    3]\n",
      " [   4    5    6]\n",
      " [   7    8    9]]\n"
     ]
    }
   ],
   "execution_count": 7
  },
  {
   "cell_type": "markdown",
   "id": "134e99a5-8931-4dd0-8878-f401d952d7a0",
   "metadata": {},
   "source": [
    "## 二维数组"
   ]
  },
  {
   "cell_type": "markdown",
   "id": "4debd799-d8be-479c-818e-51f1d7eb1317",
   "metadata": {},
   "source": [
    "### 定义二维数组"
   ]
  },
  {
   "cell_type": "code",
   "id": "01a2fb66-3ccf-44a3-83f8-800e2d594a2b",
   "metadata": {
    "ExecuteTime": {
     "end_time": "2024-12-05T06:14:39.932333Z",
     "start_time": "2024-12-05T06:14:39.929133Z"
    }
   },
   "source": [
    "A_2D = np.array([[-7,-6,-5,-4,-3],\n",
    "                 [-2,-1, 0, 1, 2],\n",
    "                 [ 3, 4, 5, 6, 7]])"
   ],
   "outputs": [],
   "execution_count": 26
  },
  {
   "cell_type": "code",
   "id": "59e1ef1b-ec18-4f64-a229-7790c9550737",
   "metadata": {
    "ExecuteTime": {
     "end_time": "2024-12-05T06:07:39.669723Z",
     "start_time": "2024-12-05T06:07:39.535234Z"
    }
   },
   "source": [
    "visualize_2D(A_2D, '二维数组', 7, -7)"
   ],
   "outputs": [
    {
     "data": {
      "text/plain": [
       "<Figure size 300x200 with 1 Axes>"
      ],
      "image/png": "[encoded data removed]"
     },
     "metadata": {},
     "output_type": "display_data"
    }
   ],
   "execution_count": 11
  },
  {
   "cell_type": "markdown",
   "id": "1ca9e07c-b4ea-4959-aaa7-799e69e01e03",
   "metadata": {},
   "source": [
    "### 索引"
   ]
  },
  {
   "cell_type": "markdown",
   "id": "f056cf80-d1b2-41d8-ba0e-4c23040f5055",
   "metadata": {},
   "source": [
    "#### 取出单一元素"
   ]
  },
  {
   "cell_type": "code",
   "execution_count": 72,
   "id": "0de2fcad-26cf-4d86-90fe-03305540c110",
   "metadata": {},
   "outputs": [
    {
     "data": {
      "text/plain": [
       "-7"
      ]
     },
     "execution_count": 72,
     "metadata": {},
     "output_type": "execute_result"
    }
   ],
   "source": [
    "A_2D[0, 0]"
   ]
  },
  {
   "cell_type": "code",
   "id": "2631a0bc-5c17-4d26-a438-cd1c7e8fb6b6",
   "metadata": {
    "ExecuteTime": {
     "end_time": "2024-12-05T06:08:18.133515Z",
     "start_time": "2024-12-05T06:08:18.129787Z"
    }
   },
   "source": [
    "type(A_2D[0, 0])"
   ],
   "outputs": [
    {
     "data": {
      "text/plain": [
       "numpy.int64"
      ]
     },
     "execution_count": 12,
     "metadata": {},
     "output_type": "execute_result"
    }
   ],
   "execution_count": 12
  },
  {
   "cell_type": "code",
   "id": "bd8cd1b4-7e68-4596-922a-535f076aa486",
   "metadata": {
    "ExecuteTime": {
     "end_time": "2024-12-05T06:08:21.136933Z",
     "start_time": "2024-12-05T06:08:21.132286Z"
    }
   },
   "source": [
    "A_2D[[0], [0]]"
   ],
   "outputs": [
    {
     "data": {
      "text/plain": [
       "array([-7])"
      ]
     },
     "execution_count": 13,
     "metadata": {},
     "output_type": "execute_result"
    }
   ],
   "execution_count": 13
  },
  {
   "cell_type": "code",
   "id": "21a9a017-0604-4820-9331-74ff006d3766",
   "metadata": {
    "ExecuteTime": {
     "end_time": "2024-12-05T06:08:35.589574Z",
     "start_time": "2024-12-05T06:08:35.585497Z"
    }
   },
   "source": [
    "type(A_2D[[0], [0]])"
   ],
   "outputs": [
    {
     "data": {
      "text/plain": [
       "numpy.ndarray"
      ]
     },
     "execution_count": 14,
     "metadata": {},
     "output_type": "execute_result"
    }
   ],
   "execution_count": 14
  },
  {
   "cell_type": "code",
   "id": "7a7d56d4-42d7-4479-b518-0fb5f2b2cb67",
   "metadata": {
    "ExecuteTime": {
     "end_time": "2024-12-05T06:08:40.606151Z",
     "start_time": "2024-12-05T06:08:40.602902Z"
    }
   },
   "source": [
    "A_2D[1,2]"
   ],
   "outputs": [
    {
     "data": {
      "text/plain": [
       "np.int64(0)"
      ]
     },
     "execution_count": 15,
     "metadata": {},
     "output_type": "execute_result"
    }
   ],
   "execution_count": 15
  },
  {
   "cell_type": "code",
   "id": "b8c91005-30d0-4c60-ac5f-2555f80e8b45",
   "metadata": {
    "ExecuteTime": {
     "end_time": "2024-12-05T06:08:59.576069Z",
     "start_time": "2024-12-05T06:08:59.572498Z"
    }
   },
   "source": [
    "A_2D[[1], [2]]"
   ],
   "outputs": [
    {
     "data": {
      "text/plain": [
       "array([0])"
      ]
     },
     "execution_count": 16,
     "metadata": {},
     "output_type": "execute_result"
    }
   ],
   "execution_count": 16
  },
  {
   "cell_type": "code",
   "id": "9551adbd-37f4-4095-88ec-35e155cd6c73",
   "metadata": {
    "ExecuteTime": {
     "end_time": "2024-12-05T06:09:02.722157Z",
     "start_time": "2024-12-05T06:09:02.718099Z"
    }
   },
   "source": [
    "A_2D[1][2]"
   ],
   "outputs": [
    {
     "data": {
      "text/plain": [
       "np.int64(0)"
      ]
     },
     "execution_count": 17,
     "metadata": {},
     "output_type": "execute_result"
    }
   ],
   "execution_count": 17
  },
  {
   "cell_type": "markdown",
   "id": "5e6f698a-45e7-4671-8414-3efc6be45c20",
   "metadata": {},
   "source": [
    "#### 取出行"
   ]
  },
  {
   "cell_type": "code",
   "id": "c1027fa5-4f97-4420-80b4-c68a895e9da4",
   "metadata": {
    "ExecuteTime": {
     "end_time": "2024-12-05T06:13:49.445661Z",
     "start_time": "2024-12-05T06:13:49.440709Z"
    }
   },
   "source": [
    "# 取出第一行，结果为一维向量\n",
    "A_2D[0]"
   ],
   "outputs": [
    {
     "data": {
      "text/plain": [
       "array([-7, -6, -5, -4, -3])"
      ]
     },
     "execution_count": 18,
     "metadata": {},
     "output_type": "execute_result"
    }
   ],
   "execution_count": 18
  },
  {
   "cell_type": "code",
   "id": "838d065d-1745-4f34-9711-b2e4404dd8a3",
   "metadata": {
    "ExecuteTime": {
     "end_time": "2024-12-05T06:13:55.717774Z",
     "start_time": "2024-12-05T06:13:55.713137Z"
    }
   },
   "source": [
    "A_2D[0, :]"
   ],
   "outputs": [
    {
     "data": {
      "text/plain": [
       "array([-7, -6, -5, -4, -3])"
      ]
     },
     "execution_count": 19,
     "metadata": {},
     "output_type": "execute_result"
    }
   ],
   "execution_count": 19
  },
  {
   "cell_type": "code",
   "id": "2b497f5c-ad97-4d04-9046-75489a98c08b",
   "metadata": {
    "ExecuteTime": {
     "end_time": "2024-12-05T06:13:59.229555Z",
     "start_time": "2024-12-05T06:13:59.225494Z"
    }
   },
   "source": [
    "A_2D[1]"
   ],
   "outputs": [
    {
     "data": {
      "text/plain": [
       "array([-2, -1,  0,  1,  2])"
      ]
     },
     "execution_count": 20,
     "metadata": {},
     "output_type": "execute_result"
    }
   ],
   "execution_count": 20
  },
  {
   "cell_type": "code",
   "id": "934137ab-6eef-41af-b4eb-f21c3c081eb5",
   "metadata": {
    "ExecuteTime": {
     "end_time": "2024-12-05T06:14:01.681891Z",
     "start_time": "2024-12-05T06:14:01.678836Z"
    }
   },
   "source": [
    "A_2D[1, :]"
   ],
   "outputs": [
    {
     "data": {
      "text/plain": [
       "array([-2, -1,  0,  1,  2])"
      ]
     },
     "execution_count": 21,
     "metadata": {},
     "output_type": "execute_result"
    }
   ],
   "execution_count": 21
  },
  {
   "cell_type": "code",
   "id": "e2390f12-b026-412d-a522-e9d94d44882a",
   "metadata": {
    "ExecuteTime": {
     "end_time": "2024-12-05T06:14:07.321080Z",
     "start_time": "2024-12-05T06:14:07.317026Z"
    }
   },
   "source": [
    "# 取出第一行，结果为二维行向量\n",
    "A_2D[[0],:]"
   ],
   "outputs": [
    {
     "data": {
      "text/plain": [
       "array([[-7, -6, -5, -4, -3]])"
      ]
     },
     "execution_count": 22,
     "metadata": {},
     "output_type": "execute_result"
    }
   ],
   "execution_count": 22
  },
  {
   "cell_type": "code",
   "id": "815068be-7643-4f22-9d4b-faa0ea9b7e18",
   "metadata": {
    "ExecuteTime": {
     "end_time": "2024-12-05T06:14:16.394843Z",
     "start_time": "2024-12-05T06:14:16.391449Z"
    }
   },
   "source": [
    "A_2D[0, np.newaxis]"
   ],
   "outputs": [
    {
     "data": {
      "text/plain": [
       "array([[-7, -6, -5, -4, -3]])"
      ]
     },
     "execution_count": 23,
     "metadata": {},
     "output_type": "execute_result"
    }
   ],
   "execution_count": 23
  },
  {
   "cell_type": "code",
   "id": "b2dfe161-9ee1-43af-8dd5-696d09655c4d",
   "metadata": {
    "ExecuteTime": {
     "end_time": "2024-12-05T06:14:20.392092Z",
     "start_time": "2024-12-05T06:14:20.387524Z"
    }
   },
   "source": [
    "A_2D[[0, 2]]"
   ],
   "outputs": [
    {
     "data": {
      "text/plain": [
       "array([[-7, -6, -5, -4, -3],\n",
       "       [ 3,  4,  5,  6,  7]])"
      ]
     },
     "execution_count": 24,
     "metadata": {},
     "output_type": "execute_result"
    }
   ],
   "execution_count": 24
  },
  {
   "cell_type": "code",
   "id": "3c0d7d6a-dbbb-4c5e-973c-b76a5eae0f8c",
   "metadata": {
    "ExecuteTime": {
     "end_time": "2024-12-05T06:14:26.732452Z",
     "start_time": "2024-12-05T06:14:26.729098Z"
    }
   },
   "source": [
    "A_2D[[0, 2], :]"
   ],
   "outputs": [
    {
     "data": {
      "text/plain": [
       "array([[-7, -6, -5, -4, -3],\n",
       "       [ 3,  4,  5,  6,  7]])"
      ]
     },
     "execution_count": 25,
     "metadata": {},
     "output_type": "execute_result"
    }
   ],
   "execution_count": 25
  },
  {
   "cell_type": "markdown",
   "id": "e92f7c81-14dd-493a-9407-7e3c89f54a32",
   "metadata": {},
   "source": [
    "#### 取出列"
   ]
  },
  {
   "cell_type": "code",
   "id": "17ba046e-11aa-4fd6-abe2-56ae8d3f1768",
   "metadata": {
    "ExecuteTime": {
     "end_time": "2024-12-05T06:21:37.342498Z",
     "start_time": "2024-12-05T06:21:37.339329Z"
    }
   },
   "source": [
    "A_2D[:,0]"
   ],
   "outputs": [
    {
     "data": {
      "text/plain": [
       "array([-7, -2,  3])"
      ]
     },
     "execution_count": 27,
     "metadata": {},
     "output_type": "execute_result"
    }
   ],
   "execution_count": 27
  },
  {
   "cell_type": "code",
   "id": "49ad6591-8cbd-49f1-a5ce-056a2fc5232d",
   "metadata": {
    "ExecuteTime": {
     "end_time": "2024-12-05T06:21:52.814436Z",
     "start_time": "2024-12-05T06:21:52.810565Z"
    }
   },
   "source": [
    "A_2D[...,0]"
   ],
   "outputs": [
    {
     "data": {
      "text/plain": [
       "array([-7, -2,  3])"
      ]
     },
     "execution_count": 28,
     "metadata": {},
     "output_type": "execute_result"
    }
   ],
   "execution_count": 28
  },
  {
   "cell_type": "code",
   "id": "bd572c1d-72ef-47b6-b652-7a472f391a06",
   "metadata": {
    "ExecuteTime": {
     "end_time": "2024-12-05T06:22:04.060980Z",
     "start_time": "2024-12-05T06:22:04.057238Z"
    }
   },
   "source": [
    "A_2D[:,0, np.newaxis]"
   ],
   "outputs": [
    {
     "data": {
      "text/plain": [
       "array([[-7],\n",
       "       [-2],\n",
       "       [ 3]])"
      ]
     },
     "execution_count": 29,
     "metadata": {},
     "output_type": "execute_result"
    }
   ],
   "execution_count": 29
  },
  {
   "cell_type": "code",
   "id": "bbb94eda-aaa8-495d-ad3e-60ef6ba687dd",
   "metadata": {
    "ExecuteTime": {
     "end_time": "2024-12-05T06:22:27.445058Z",
     "start_time": "2024-12-05T06:22:27.442199Z"
    }
   },
   "source": [
    "A_2D[:,[0]]"
   ],
   "outputs": [
    {
     "data": {
      "text/plain": [
       "array([[-7],\n",
       "       [-2],\n",
       "       [ 3]])"
      ]
     },
     "execution_count": 30,
     "metadata": {},
     "output_type": "execute_result"
    }
   ],
   "execution_count": 30
  },
  {
   "cell_type": "code",
   "id": "ed2f7d08-336d-4d92-8496-0bd551ebc3ee",
   "metadata": {
    "ExecuteTime": {
     "end_time": "2024-12-05T06:22:34.967059Z",
     "start_time": "2024-12-05T06:22:34.962867Z"
    }
   },
   "source": [
    "A_2D[np.newaxis, :,0]"
   ],
   "outputs": [
    {
     "data": {
      "text/plain": [
       "array([[-7, -2,  3]])"
      ]
     },
     "execution_count": 31,
     "metadata": {},
     "output_type": "execute_result"
    }
   ],
   "execution_count": 31
  },
  {
   "cell_type": "code",
   "id": "f50d5e49-ce17-4fca-8384-a579d357791d",
   "metadata": {
    "ExecuteTime": {
     "end_time": "2024-12-05T06:23:00.889767Z",
     "start_time": "2024-12-05T06:23:00.885373Z"
    }
   },
   "source": [
    "A_2D[:,1]"
   ],
   "outputs": [
    {
     "data": {
      "text/plain": [
       "array([-6, -1,  4])"
      ]
     },
     "execution_count": 32,
     "metadata": {},
     "output_type": "execute_result"
    }
   ],
   "execution_count": 32
  },
  {
   "cell_type": "code",
   "id": "5da4c9e6-c533-4248-876f-8a6894e334c2",
   "metadata": {
    "ExecuteTime": {
     "end_time": "2024-12-05T06:23:04.582385Z",
     "start_time": "2024-12-05T06:23:04.578671Z"
    }
   },
   "source": [
    "A_2D[:,[0,2,4]]"
   ],
   "outputs": [
    {
     "data": {
      "text/plain": [
       "array([[-7, -5, -3],\n",
       "       [-2,  0,  2],\n",
       "       [ 3,  5,  7]])"
      ]
     },
     "execution_count": 33,
     "metadata": {},
     "output_type": "execute_result"
    }
   ],
   "execution_count": 33
  },
  {
   "cell_type": "code",
   "id": "fd7e7b74-89ba-4eae-b9fd-358f8f5ca4c7",
   "metadata": {
    "ExecuteTime": {
     "end_time": "2024-12-05T06:23:08.849570Z",
     "start_time": "2024-12-05T06:23:08.845038Z"
    }
   },
   "source": [
    "A_2D[:,0::2]"
   ],
   "outputs": [
    {
     "data": {
      "text/plain": [
       "array([[-7, -5, -3],\n",
       "       [-2,  0,  2],\n",
       "       [ 3,  5,  7]])"
      ]
     },
     "execution_count": 34,
     "metadata": {},
     "output_type": "execute_result"
    }
   ],
   "execution_count": 34
  },
  {
   "cell_type": "markdown",
   "id": "f18e7177-7025-4e3d-9f34-2393ef0740d6",
   "metadata": {},
   "source": [
    "#### 取出特定行列组合"
   ]
  },
  {
   "cell_type": "code",
   "id": "d4761317-f5a6-46c4-aefa-7071df5d6514",
   "metadata": {
    "ExecuteTime": {
     "end_time": "2024-12-05T06:23:49.568274Z",
     "start_time": "2024-12-05T06:23:49.564580Z"
    }
   },
   "source": [
    "A_2D[1,2::]"
   ],
   "outputs": [
    {
     "data": {
      "text/plain": [
       "array([0, 1, 2])"
      ]
     },
     "execution_count": 35,
     "metadata": {},
     "output_type": "execute_result"
    }
   ],
   "execution_count": 35
  },
  {
   "cell_type": "code",
   "id": "0f13b37c-2643-4cc4-bb15-7ed6c00371af",
   "metadata": {
    "ExecuteTime": {
     "end_time": "2024-12-05T06:24:12.892608Z",
     "start_time": "2024-12-05T06:24:12.889638Z"
    }
   },
   "source": [
    "A_2D[np.newaxis, 1,2::]"
   ],
   "outputs": [
    {
     "data": {
      "text/plain": [
       "array([[0, 1, 2]])"
      ]
     },
     "execution_count": 36,
     "metadata": {},
     "output_type": "execute_result"
    }
   ],
   "execution_count": 36
  },
  {
   "cell_type": "code",
   "id": "1fa43247-30cf-4468-98c3-9cb92c20411d",
   "metadata": {
    "ExecuteTime": {
     "end_time": "2024-12-05T06:24:22.859632Z",
     "start_time": "2024-12-05T06:24:22.856579Z"
    }
   },
   "source": [
    "A_2D[1,2::, np.newaxis]"
   ],
   "outputs": [
    {
     "data": {
      "text/plain": [
       "array([[0],\n",
       "       [1],\n",
       "       [2]])"
      ]
     },
     "execution_count": 37,
     "metadata": {},
     "output_type": "execute_result"
    }
   ],
   "execution_count": 37
  },
  {
   "cell_type": "code",
   "id": "875df8e3-d015-467b-b2bc-2d8ebf2f2dad",
   "metadata": {
    "ExecuteTime": {
     "end_time": "2024-12-05T06:24:49.044976Z",
     "start_time": "2024-12-05T06:24:49.041443Z"
    }
   },
   "source": [
    "A_2D[1::,[0,2,4]]"
   ],
   "outputs": [
    {
     "data": {
      "text/plain": [
       "array([[-2,  0,  2],\n",
       "       [ 3,  5,  7]])"
      ]
     },
     "execution_count": 38,
     "metadata": {},
     "output_type": "execute_result"
    }
   ],
   "execution_count": 38
  },
  {
   "cell_type": "code",
   "id": "7563650c-a1f2-4036-ab66-c53af3ebe46d",
   "metadata": {
    "ExecuteTime": {
     "end_time": "2024-12-05T06:24:55.349099Z",
     "start_time": "2024-12-05T06:24:55.344565Z"
    }
   },
   "source": [
    "A_2D[1::,0::2]"
   ],
   "outputs": [
    {
     "data": {
      "text/plain": [
       "array([[-2,  0,  2],\n",
       "       [ 3,  5,  7]])"
      ]
     },
     "execution_count": 39,
     "metadata": {},
     "output_type": "execute_result"
    }
   ],
   "execution_count": 39
  },
  {
   "cell_type": "code",
   "id": "c2c5cf27-3657-402e-b52f-176fa6b6fc47",
   "metadata": {
    "ExecuteTime": {
     "end_time": "2024-12-05T06:24:59.554462Z",
     "start_time": "2024-12-05T06:24:59.550465Z"
    }
   },
   "source": [
    "A_2D[::2,:-1:2]"
   ],
   "outputs": [
    {
     "data": {
      "text/plain": [
       "array([[-7, -5],\n",
       "       [ 3,  5]])"
      ]
     },
     "execution_count": 40,
     "metadata": {},
     "output_type": "execute_result"
    }
   ],
   "execution_count": 40
  },
  {
   "cell_type": "code",
   "execution_count": 93,
   "id": "76807339-7898-4d29-86d9-c5798f1eef57",
   "metadata": {},
   "outputs": [
    {
     "data": {
      "text/plain": [
       "array([[-7, -5],\n",
       "       [ 3,  5]])"
      ]
     },
     "execution_count": 93,
     "metadata": {},
     "output_type": "execute_result"
    }
   ],
   "source": [
    "# 二次切片\n",
    "A_2D[:,[0,2]][[0, 2], :]"
   ]
  },
  {
   "cell_type": "code",
   "id": "8433b3b5-a9a0-4b47-b6a4-add076909b9d",
   "metadata": {
    "ExecuteTime": {
     "end_time": "2024-12-05T06:32:24.479065Z",
     "start_time": "2024-12-05T06:32:24.474829Z"
    }
   },
   "source": [
    "A_2D[[0, 2], :][:,[0,2]]"
   ],
   "outputs": [
    {
     "data": {
      "text/plain": [
       "array([[-7, -5],\n",
       "       [ 3,  5]])"
      ]
     },
     "execution_count": 41,
     "metadata": {},
     "output_type": "execute_result"
    }
   ],
   "execution_count": 41
  },
  {
   "cell_type": "markdown",
   "id": "f413fde4-e19a-47e4-84b4-18b08e7d8873",
   "metadata": {},
   "source": [
    "#### 使用np.ix_()"
   ]
  },
  {
   "cell_type": "code",
   "id": "3055193d-09b5-4aa5-b915-8c3a6b820c07",
   "metadata": {
    "ExecuteTime": {
     "end_time": "2024-12-05T12:01:20.022940Z",
     "start_time": "2024-12-05T12:01:20.009621Z"
    }
   },
   "source": [
    "A_2D[np.ix_([0, 2], [0, 2])]"
   ],
   "outputs": [
    {
     "data": {
      "text/plain": [
       "array([[-7, -5],\n",
       "       [ 3,  5]])"
      ]
     },
     "execution_count": 43,
     "metadata": {},
     "output_type": "execute_result"
    }
   ],
   "execution_count": 43
  },
  {
   "cell_type": "markdown",
   "id": "6e2d7b90-cd10-4a1f-9412-9da6ef27c65c",
   "metadata": {},
   "source": [
    "### 布尔索引"
   ]
  },
  {
   "cell_type": "code",
   "id": "b863a4f3-35b4-4600-8f71-45b4e817f147",
   "metadata": {
    "ExecuteTime": {
     "end_time": "2024-12-05T12:01:24.293049Z",
     "start_time": "2024-12-05T12:01:24.287114Z"
    }
   },
   "source": [
    "A_2D > 0"
   ],
   "outputs": [
    {
     "data": {
      "text/plain": [
       "array([[False, False, False, False, False],\n",
       "       [False, False, False,  True,  True],\n",
       "       [ True,  True,  True,  True,  True]])"
      ]
     },
     "execution_count": 44,
     "metadata": {},
     "output_type": "execute_result"
    }
   ],
   "execution_count": 44
  },
  {
   "cell_type": "code",
   "id": "a8a708d3-8070-4fe6-9239-dd0afd6bf0fe",
   "metadata": {
    "ExecuteTime": {
     "end_time": "2024-12-05T12:01:47.803497Z",
     "start_time": "2024-12-05T12:01:47.800175Z"
    }
   },
   "source": [
    "A_2D[A_2D > 0]"
   ],
   "outputs": [
    {
     "data": {
      "text/plain": [
       "array([1, 2, 3, 4, 5, 6, 7])"
      ]
     },
     "execution_count": 46,
     "metadata": {},
     "output_type": "execute_result"
    }
   ],
   "execution_count": 46
  },
  {
   "cell_type": "code",
   "id": "5b06fc8b-8930-4568-9eba-c1a59bfbc846",
   "metadata": {
    "ExecuteTime": {
     "end_time": "2024-12-05T12:01:53.362496Z",
     "start_time": "2024-12-05T12:01:53.358516Z"
    }
   },
   "source": [
    "A_2D[A_2D > 0, np.newaxis]"
   ],
   "outputs": [
    {
     "data": {
      "text/plain": [
       "array([[1],\n",
       "       [2],\n",
       "       [3],\n",
       "       [4],\n",
       "       [5],\n",
       "       [6],\n",
       "       [7]])"
      ]
     },
     "execution_count": 47,
     "metadata": {},
     "output_type": "execute_result"
    }
   ],
   "execution_count": 47
  },
  {
   "cell_type": "code",
   "id": "fbb9d558-c44d-47d7-a161-a34671394359",
   "metadata": {
    "ExecuteTime": {
     "end_time": "2024-12-05T12:01:57.887535Z",
     "start_time": "2024-12-05T12:01:57.884111Z"
    }
   },
   "source": [
    "A_2D[np.newaxis, A_2D > 0]"
   ],
   "outputs": [
    {
     "data": {
      "text/plain": [
       "array([[1, 2, 3, 4, 5, 6, 7]])"
      ]
     },
     "execution_count": 48,
     "metadata": {},
     "output_type": "execute_result"
    }
   ],
   "execution_count": 48
  },
  {
   "cell_type": "code",
   "id": "43201add-7e8f-433b-9885-2f0b21b47147",
   "metadata": {
    "ExecuteTime": {
     "end_time": "2024-12-05T12:02:03.142138Z",
     "start_time": "2024-12-05T12:02:03.138866Z"
    }
   },
   "source": [
    "A_2D < 4"
   ],
   "outputs": [
    {
     "data": {
      "text/plain": [
       "array([[ True,  True,  True,  True,  True],\n",
       "       [ True,  True,  True,  True,  True],\n",
       "       [ True, False, False, False, False]])"
      ]
     },
     "execution_count": 49,
     "metadata": {},
     "output_type": "execute_result"
    }
   ],
   "execution_count": 49
  },
  {
   "cell_type": "code",
   "id": "7c527831-25ae-4569-819a-9bc74d5a6ed6",
   "metadata": {
    "ExecuteTime": {
     "end_time": "2024-12-05T12:02:07.269343Z",
     "start_time": "2024-12-05T12:02:07.262775Z"
    }
   },
   "source": [
    "(A_2D > 0).sum()"
   ],
   "outputs": [
    {
     "data": {
      "text/plain": [
       "np.int64(7)"
      ]
     },
     "execution_count": 50,
     "metadata": {},
     "output_type": "execute_result"
    }
   ],
   "execution_count": 50
  },
  {
   "cell_type": "markdown",
   "id": "fcce04be-9fdf-4694-ac79-aeef929e885a",
   "metadata": {},
   "source": [
    "## 三维数组"
   ]
  },
  {
   "cell_type": "code",
   "id": "cc5dccfb-8655-4f28-b715-ec6d587617a6",
   "metadata": {
    "ExecuteTime": {
     "end_time": "2024-12-05T12:02:22.063529Z",
     "start_time": "2024-12-05T12:02:22.059516Z"
    }
   },
   "source": [
    "### 生成三维数组"
   ],
   "outputs": [],
   "execution_count": 51
  },
  {
   "cell_type": "code",
   "id": "3cb6b19f-78c7-46aa-9562-3cdb9bc78412",
   "metadata": {
    "ExecuteTime": {
     "end_time": "2024-12-05T12:33:19.292702Z",
     "start_time": "2024-12-05T12:33:19.285084Z"
    }
   },
   "source": [
    "A_3D = np.arange(-30, 30).reshape(3,4,5)\n",
    "A_3D"
   ],
   "outputs": [
    {
     "data": {
      "text/plain": [
       "array([[[-30, -29, -28, -27, -26],\n",
       "        [-25, -24, -23, -22, -21],\n",
       "        [-20, -19, -18, -17, -16],\n",
       "        [-15, -14, -13, -12, -11]],\n",
       "\n",
       "       [[-10,  -9,  -8,  -7,  -6],\n",
       "        [ -5,  -4,  -3,  -2,  -1],\n",
       "        [  0,   1,   2,   3,   4],\n",
       "        [  5,   6,   7,   8,   9]],\n",
       "\n",
       "       [[ 10,  11,  12,  13,  14],\n",
       "        [ 15,  16,  17,  18,  19],\n",
       "        [ 20,  21,  22,  23,  24],\n",
       "        [ 25,  26,  27,  28,  29]]])"
      ]
     },
     "execution_count": 53,
     "metadata": {},
     "output_type": "execute_result"
    }
   ],
   "execution_count": 53
  },
  {
   "cell_type": "code",
   "id": "b09f9095-bc85-478c-9ffd-de1134536d23",
   "metadata": {
    "ExecuteTime": {
     "end_time": "2024-12-05T12:33:24.409883Z",
     "start_time": "2024-12-05T12:33:24.351463Z"
    }
   },
   "source": [
    "visualize_2D(A_3D[0], '三维数组，第1页', 30, -30)"
   ],
   "outputs": [
    {
     "data": {
      "text/plain": [
       "<Figure size 300x200 with 1 Axes>"
      ],
      "image/png": "[encoded data removed]"
     },
     "metadata": {},
     "output_type": "display_data"
    }
   ],
   "execution_count": 54
  },
  {
   "cell_type": "code",
   "id": "114b497f-b11a-45c5-ad72-7cd2ac90733b",
   "metadata": {
    "ExecuteTime": {
     "end_time": "2024-12-05T12:33:29.062050Z",
     "start_time": "2024-12-05T12:33:29.019548Z"
    }
   },
   "source": [
    "visualize_2D(A_3D[1], '三维数组，第2页', 30, -30)"
   ],
   "outputs": [
    {
     "data": {
      "text/plain": [
       "<Figure size 300x200 with 1 Axes>"
      ],
      "image/png": "[encoded data removed]"
     },
     "metadata": {},
     "output_type": "display_data"
    }
   ],
   "execution_count": 55
  },
  {
   "cell_type": "code",
   "id": "a1ba7370-6ca4-4a32-ba9a-db0abd2f19cc",
   "metadata": {
    "ExecuteTime": {
     "end_time": "2024-12-05T12:33:33.651611Z",
     "start_time": "2024-12-05T12:33:33.607056Z"
    }
   },
   "source": [
    "visualize_2D(A_3D[2], '三维数组，第3页', 30, -30)"
   ],
   "outputs": [
    {
     "data": {
      "text/plain": [
       "<Figure size 300x200 with 1 Axes>"
      ],
      "image/png": "[encoded data removed]"
     },
     "metadata": {},
     "output_type": "display_data"
    }
   ],
   "execution_count": 56
  },
  {
   "cell_type": "code",
   "id": "11964061-9763-4ba7-ac40-bb033b9740f1",
   "metadata": {
    "ExecuteTime": {
     "end_time": "2024-12-05T12:33:40.141627Z",
     "start_time": "2024-12-05T12:33:40.099091Z"
    }
   },
   "source": [
    "visualize_2D(A_3D[:,0,:], '三维数组，第1行', 30, -30)"
   ],
   "outputs": [
    {
     "data": {
      "text/plain": [
       "<Figure size 300x200 with 1 Axes>"
      ],
      "image/png": "[encoded data removed]"
     },
     "metadata": {},
     "output_type": "display_data"
    }
   ],
   "execution_count": 57
  },
  {
   "cell_type": "code",
   "id": "a1bbdc39-6655-4713-96a7-77dd81b01d1d",
   "metadata": {
    "ExecuteTime": {
     "end_time": "2024-12-05T12:33:44.971664Z",
     "start_time": "2024-12-05T12:33:44.934975Z"
    }
   },
   "source": [
    "visualize_2D(A_3D[:,:,0], '三维数组，第1列', 30, -30)"
   ],
   "outputs": [
    {
     "data": {
      "text/plain": [
       "<Figure size 200x200 with 1 Axes>"
      ],
      "image/png": "[encoded data removed]"
     },
     "metadata": {},
     "output_type": "display_data"
    }
   ],
   "execution_count": 58
  },
  {
   "cell_type": "code",
   "id": "66f4e819-4918-42be-9a26-847c90c963d5",
   "metadata": {
    "ExecuteTime": {
     "end_time": "2024-12-05T12:33:57.023215Z",
     "start_time": "2024-12-05T12:33:57.019181Z"
    }
   },
   "source": [
    "# 取出单一元素\n",
    "A_3D[0, 0, 0]"
   ],
   "outputs": [
    {
     "data": {
      "text/plain": [
       "np.int64(-30)"
      ]
     },
     "execution_count": 59,
     "metadata": {},
     "output_type": "execute_result"
    }
   ],
   "execution_count": 59
  },
  {
   "cell_type": "code",
   "id": "e35c3166-8876-428b-9d5b-ba95c625bb25",
   "metadata": {
    "ExecuteTime": {
     "end_time": "2024-12-05T12:34:01.979594Z",
     "start_time": "2024-12-05T12:34:01.976068Z"
    }
   },
   "source": [
    "A_3D[[0], [0], [0]]"
   ],
   "outputs": [
    {
     "data": {
      "text/plain": [
       "array([-30])"
      ]
     },
     "execution_count": 60,
     "metadata": {},
     "output_type": "execute_result"
    }
   ],
   "execution_count": 60
  },
  {
   "cell_type": "code",
   "id": "47919a19-2186-4cdd-bb15-00fd7c2e22cb",
   "metadata": {
    "ExecuteTime": {
     "end_time": "2024-12-05T12:34:06.957363Z",
     "start_time": "2024-12-05T12:34:06.954371Z"
    }
   },
   "source": [
    "A_3D[0, -1, :]"
   ],
   "outputs": [
    {
     "data": {
      "text/plain": [
       "array([-15, -14, -13, -12, -11])"
      ]
     },
     "execution_count": 61,
     "metadata": {},
     "output_type": "execute_result"
    }
   ],
   "execution_count": 61
  },
  {
   "cell_type": "code",
   "id": "c92bfdce-1e12-403b-b3c6-1903c759de07",
   "metadata": {
    "ExecuteTime": {
     "end_time": "2024-12-05T12:34:10.927282Z",
     "start_time": "2024-12-05T12:34:10.921862Z"
    }
   },
   "source": [
    "A_3D[0, 1, :]"
   ],
   "outputs": [
    {
     "data": {
      "text/plain": [
       "array([-25, -24, -23, -22, -21])"
      ]
     },
     "execution_count": 62,
     "metadata": {},
     "output_type": "execute_result"
    }
   ],
   "execution_count": 62
  },
  {
   "cell_type": "code",
   "id": "dccb9295-b02e-4647-b0bd-9d3c461e422b",
   "metadata": {
    "ExecuteTime": {
     "end_time": "2024-12-05T12:34:14.881069Z",
     "start_time": "2024-12-05T12:34:14.877564Z"
    }
   },
   "source": [
    "# 使用省略号\n",
    "A_3D[1,...]"
   ],
   "outputs": [
    {
     "data": {
      "text/plain": [
       "array([[-10,  -9,  -8,  -7,  -6],\n",
       "       [ -5,  -4,  -3,  -2,  -1],\n",
       "       [  0,   1,   2,   3,   4],\n",
       "       [  5,   6,   7,   8,   9]])"
      ]
     },
     "execution_count": 63,
     "metadata": {},
     "output_type": "execute_result"
    }
   ],
   "execution_count": 63
  },
  {
   "cell_type": "code",
   "id": "e7c90b81-2547-4f55-9252-44d47dcacf84",
   "metadata": {
    "ExecuteTime": {
     "end_time": "2024-12-05T12:34:23.659199Z",
     "start_time": "2024-12-05T12:34:23.656476Z"
    }
   },
   "source": [
    "A_3D[...,1]"
   ],
   "outputs": [
    {
     "data": {
      "text/plain": [
       "array([[-29, -24, -19, -14],\n",
       "       [ -9,  -4,   1,   6],\n",
       "       [ 11,  16,  21,  26]])"
      ]
     },
     "execution_count": 64,
     "metadata": {},
     "output_type": "execute_result"
    }
   ],
   "execution_count": 64
  },
  {
   "cell_type": "code",
   "id": "14556054-a39c-4177-b93f-4db47d5a0b71",
   "metadata": {
    "ExecuteTime": {
     "end_time": "2024-12-05T12:34:27.995672Z",
     "start_time": "2024-12-05T12:34:27.992272Z"
    }
   },
   "source": [
    "# 使用take\n",
    "np.take(A_3D, [0,2], axis=1)\n",
    "# copy or view?"
   ],
   "outputs": [
    {
     "data": {
      "text/plain": [
       "array([[[-30, -29, -28, -27, -26],\n",
       "        [-20, -19, -18, -17, -16]],\n",
       "\n",
       "       [[-10,  -9,  -8,  -7,  -6],\n",
       "        [  0,   1,   2,   3,   4]],\n",
       "\n",
       "       [[ 10,  11,  12,  13,  14],\n",
       "        [ 20,  21,  22,  23,  24]]])"
      ]
     },
     "execution_count": 65,
     "metadata": {},
     "output_type": "execute_result"
    }
   ],
   "execution_count": 65
  },
  {
   "cell_type": "markdown",
   "id": "d9d1078b-98c9-4b26-b601-53f24de72573",
   "metadata": {},
   "source": [
    "## 参考阅读"
   ]
  },
  {
   "cell_type": "markdown",
   "id": "8601e7d1-241b-4fbf-9596-82148a9f91ca",
   "metadata": {},
   "source": [
    "更多有关NumPy索引和切片，请参考：  \n",
    "https://numpy.org/doc/stable/user/how-to-index.html  \n",
    "https://numpy.org/doc/stable/user/basics.indexing.html"
   ]
  },
  {
   "cell_type": "code",
   "execution_count": 115,
   "id": "2a76d332-aee9-4e69-b1d7-20b5eac340a5",
   "metadata": {},
   "outputs": [],
   "source": [
    "# Repo: https://github.com/Visualize-ML\n",
    "# Book 1 Python for Beginners  |  From Basic Arithmetic to Machine Learning\n",
    "# Published and copyrighted by Tsinghua University Press\n",
    "# Beijing, China, 2023"
   ]
  }
 ],
 "metadata": {
  "kernelspec": {
   "display_name": "Python 3 (ipykernel)",
   "language": "python",
   "name": "python3"
  },
  "language_info": {
   "codemirror_mode": {
    "name": "ipython",
    "version": 3
   },
   "file_extension": ".py",
   "mimetype": "text/x-python",
   "name": "python",
   "nbconvert_exporter": "python",
   "pygments_lexer": "ipython3",
   "version": "3.10.9"
  }
 },
 "nbformat": 4,
 "nbformat_minor": 5
}
