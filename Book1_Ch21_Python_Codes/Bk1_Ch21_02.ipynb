{
 "cells": [
  {
   "cell_type": "markdown",
   "id": "b1b8d3a0-09e3-453d-8c19-4e8c60be4910",
   "metadata": {},
   "source": [
    "Chapter 21\n",
    "# 用列表构造多层行标签\n",
    "Book_1《编程不难》 | 鸢尾花书：从加减乘除到机器学习  "
   ]
  },
  {
   "cell_type": "code",
   "id": "2691e1e9-8ffd-4689-ad39-95a3a620125f",
   "metadata": {
    "ExecuteTime": {
     "end_time": "2024-12-07T21:07:23.012474Z",
     "start_time": "2024-12-07T21:07:22.760395Z"
    }
   },
   "source": [
    "import pandas as pd\n",
    "import numpy as np"
   ],
   "outputs": [],
   "execution_count": 1
  },
  {
   "cell_type": "code",
   "id": "4b43d5ef-a409-40c6-916e-747aa4e12c72",
   "metadata": {
    "ExecuteTime": {
     "end_time": "2024-12-07T21:07:46.282805Z",
     "start_time": "2024-12-07T21:07:46.279232Z"
    }
   },
   "source": [
    "# 创建列表、数据\n",
    "index_arrays = [['A','A','B','B','C','C','D','D'], range(1,9)]\n",
    "data = np.random.randint(0,9,size=(8,4))"
   ],
   "outputs": [],
   "execution_count": 2
  },
  {
   "cell_type": "code",
   "id": "0416f4b6-08ac-47d1-93bc-877ac55e3a46",
   "metadata": {
    "ExecuteTime": {
     "end_time": "2024-12-07T21:07:54.094168Z",
     "start_time": "2024-12-07T21:07:54.089628Z"
    }
   },
   "source": [
    "# 创建多层行索引\n",
    "row_idx = pd.MultiIndex.from_arrays(index_arrays, names=['I','II'])"
   ],
   "outputs": [],
   "execution_count": 3
  },
  {
   "cell_type": "code",
   "id": "77fa954e-adac-4675-9549-c41bd5394d23",
   "metadata": {
    "ExecuteTime": {
     "end_time": "2024-12-07T21:08:03.405067Z",
     "start_time": "2024-12-07T21:08:03.396730Z"
    }
   },
   "source": [
    "# 创建DataFrame\n",
    "df = pd.DataFrame(data, index=row_idx, columns=['X1','X2','X3','X4'])\n",
    "df"
   ],
   "outputs": [
    {
     "data": {
      "text/plain": [
       "      X1  X2  X3  X4\n",
       "I II                \n",
       "A 1    5   7   5   7\n",
       "  2    5   0   0   8\n",
       "B 3    8   1   3   7\n",
       "  4    4   6   7   6\n",
       "C 5    7   1   7   4\n",
       "  6    5   2   4   4\n",
       "D 7    1   1   1   8\n",
       "  8    6   4   4   1"
      ],
      "text/html": [
       "<div>\n",
       "<style scoped>\n",
       "    .dataframe tbody tr th:only-of-type {\n",
       "        vertical-align: middle;\n",
       "    }\n",
       "\n",
       "    .dataframe tbody tr th {\n",
       "        vertical-align: top;\n",
       "    }\n",
       "\n",
       "    .dataframe thead th {\n",
       "        text-align: right;\n",
       "    }\n",
       "</style>\n",
       "<table border=\"1\" class=\"dataframe\">\n",
       "  <thead>\n",
       "    <tr style=\"text-align: right;\">\n",
       "      <th></th>\n",
       "      <th></th>\n",
       "      <th>X1</th>\n",
       "      <th>X2</th>\n",
       "      <th>X3</th>\n",
       "      <th>X4</th>\n",
       "    </tr>\n",
       "    <tr>\n",
       "      <th>I</th>\n",
       "      <th>II</th>\n",
       "      <th></th>\n",
       "      <th></th>\n",
       "      <th></th>\n",
       "      <th></th>\n",
       "    </tr>\n",
       "  </thead>\n",
       "  <tbody>\n",
       "    <tr>\n",
       "      <th rowspan=\"2\" valign=\"top\">A</th>\n",
       "      <th>1</th>\n",
       "      <td>5</td>\n",
       "      <td>7</td>\n",
       "      <td>5</td>\n",
       "      <td>7</td>\n",
       "    </tr>\n",
       "    <tr>\n",
       "      <th>2</th>\n",
       "      <td>5</td>\n",
       "      <td>0</td>\n",
       "      <td>0</td>\n",
       "      <td>8</td>\n",
       "    </tr>\n",
       "    <tr>\n",
       "      <th rowspan=\"2\" valign=\"top\">B</th>\n",
       "      <th>3</th>\n",
       "      <td>8</td>\n",
       "      <td>1</td>\n",
       "      <td>3</td>\n",
       "      <td>7</td>\n",
       "    </tr>\n",
       "    <tr>\n",
       "      <th>4</th>\n",
       "      <td>4</td>\n",
       "      <td>6</td>\n",
       "      <td>7</td>\n",
       "      <td>6</td>\n",
       "    </tr>\n",
       "    <tr>\n",
       "      <th rowspan=\"2\" valign=\"top\">C</th>\n",
       "      <th>5</th>\n",
       "      <td>7</td>\n",
       "      <td>1</td>\n",
       "      <td>7</td>\n",
       "      <td>4</td>\n",
       "    </tr>\n",
       "    <tr>\n",
       "      <th>6</th>\n",
       "      <td>5</td>\n",
       "      <td>2</td>\n",
       "      <td>4</td>\n",
       "      <td>4</td>\n",
       "    </tr>\n",
       "    <tr>\n",
       "      <th rowspan=\"2\" valign=\"top\">D</th>\n",
       "      <th>7</th>\n",
       "      <td>1</td>\n",
       "      <td>1</td>\n",
       "      <td>1</td>\n",
       "      <td>8</td>\n",
       "    </tr>\n",
       "    <tr>\n",
       "      <th>8</th>\n",
       "      <td>6</td>\n",
       "      <td>4</td>\n",
       "      <td>4</td>\n",
       "      <td>1</td>\n",
       "    </tr>\n",
       "  </tbody>\n",
       "</table>\n",
       "</div>"
      ]
     },
     "execution_count": 4,
     "metadata": {},
     "output_type": "execute_result"
    }
   ],
   "execution_count": 4
  }
 ],
 "metadata": {
  "kernelspec": {
   "display_name": "Python 3 (ipykernel)",
   "language": "python",
   "name": "python3"
  },
  "language_info": {
   "codemirror_mode": {
    "name": "ipython",
    "version": 3
   },
   "file_extension": ".py",
   "mimetype": "text/x-python",
   "name": "python",
   "nbconvert_exporter": "python",
   "pygments_lexer": "ipython3",
   "version": "3.10.9"
  }
 },
 "nbformat": 4,
 "nbformat_minor": 5
}
