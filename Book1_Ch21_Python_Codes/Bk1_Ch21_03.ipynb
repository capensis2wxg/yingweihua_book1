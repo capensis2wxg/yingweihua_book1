{
 "cells": [
  {
   "cell_type": "markdown",
   "id": "b24c4cb4-7c4d-4e92-8318-158088a2631e",
   "metadata": {},
   "source": [
    "Chapter 21\n",
    "# 用多个可迭代对象的笛卡尔积构造多层行标签\n",
    "Book_1《编程不难》 | 鸢尾花书：从加减乘除到机器学习  "
   ]
  },
  {
   "cell_type": "code",
   "id": "eb687c1b-8af0-407f-adb5-6803fd2d9d27",
   "metadata": {
    "ExecuteTime": {
     "end_time": "2024-12-07T21:08:17.994775Z",
     "start_time": "2024-12-07T21:08:17.755856Z"
    }
   },
   "source": [
    "import pandas as pd\n",
    "import numpy as np"
   ],
   "outputs": [],
   "execution_count": 1
  },
  {
   "cell_type": "code",
   "id": "0ede1f7a-6c7b-4512-a8df-77dd1eff0926",
   "metadata": {
    "ExecuteTime": {
     "end_time": "2024-12-07T21:08:21.466115Z",
     "start_time": "2024-12-07T21:08:21.462822Z"
    }
   },
   "source": [
    "# 示例数据\n",
    "data = np.random.randint(0,9,size=(8,4))"
   ],
   "outputs": [],
   "execution_count": 2
  },
  {
   "cell_type": "code",
   "id": "55f549eb-21e8-4b8a-bd59-585526fe0a1c",
   "metadata": {
    "ExecuteTime": {
     "end_time": "2024-12-07T21:08:25.181440Z",
     "start_time": "2024-12-07T21:08:25.178959Z"
    }
   },
   "source": [
    "# 两组列表\n",
    "categories = ['A','B','C','D']\n",
    "types = ['X', 'Y']"
   ],
   "outputs": [],
   "execution_count": 3
  },
  {
   "cell_type": "code",
   "id": "aae809ca-ef56-4d0a-b71a-a22ee22b6a40",
   "metadata": {
    "ExecuteTime": {
     "end_time": "2024-12-07T21:08:33.743711Z",
     "start_time": "2024-12-07T21:08:33.736348Z"
    }
   },
   "source": [
    "# 创建多层行索引，先categories，再types\n",
    "idx_1 = pd.MultiIndex.from_product([categories, types], names=['I', 'II'])\n",
    "idx_1"
   ],
   "outputs": [
    {
     "data": {
      "text/plain": [
       "MultiIndex([('A', 'X'),\n",
       "            ('A', 'Y'),\n",
       "            ('B', 'X'),\n",
       "            ('B', 'Y'),\n",
       "            ('C', 'X'),\n",
       "            ('C', 'Y'),\n",
       "            ('D', 'X'),\n",
       "            ('D', 'Y')],\n",
       "           names=['I', 'II'])"
      ]
     },
     "execution_count": 4,
     "metadata": {},
     "output_type": "execute_result"
    }
   ],
   "execution_count": 4
  },
  {
   "cell_type": "code",
   "id": "302f01b4-ff8b-4baf-8500-943ea0a27141",
   "metadata": {
    "ExecuteTime": {
     "end_time": "2024-12-07T21:08:41.434726Z",
     "start_time": "2024-12-07T21:08:41.428319Z"
    }
   },
   "source": [
    "df_1 = pd.DataFrame(data, index=idx_1, columns=['X1','X2','X3','X4'])\n",
    "df_1"
   ],
   "outputs": [
    {
     "data": {
      "text/plain": [
       "      X1  X2  X3  X4\n",
       "I II                \n",
       "A X    3   7   0   8\n",
       "  Y    0   0   0   2\n",
       "B X    2   5   0   4\n",
       "  Y    8   1   0   7\n",
       "C X    8   1   2   6\n",
       "  Y    6   8   8   3\n",
       "D X    4   7   8   1\n",
       "  Y    4   8   3   6"
      ],
      "text/html": [
       "<div>\n",
       "<style scoped>\n",
       "    .dataframe tbody tr th:only-of-type {\n",
       "        vertical-align: middle;\n",
       "    }\n",
       "\n",
       "    .dataframe tbody tr th {\n",
       "        vertical-align: top;\n",
       "    }\n",
       "\n",
       "    .dataframe thead th {\n",
       "        text-align: right;\n",
       "    }\n",
       "</style>\n",
       "<table border=\"1\" class=\"dataframe\">\n",
       "  <thead>\n",
       "    <tr style=\"text-align: right;\">\n",
       "      <th></th>\n",
       "      <th></th>\n",
       "      <th>X1</th>\n",
       "      <th>X2</th>\n",
       "      <th>X3</th>\n",
       "      <th>X4</th>\n",
       "    </tr>\n",
       "    <tr>\n",
       "      <th>I</th>\n",
       "      <th>II</th>\n",
       "      <th></th>\n",
       "      <th></th>\n",
       "      <th></th>\n",
       "      <th></th>\n",
       "    </tr>\n",
       "  </thead>\n",
       "  <tbody>\n",
       "    <tr>\n",
       "      <th rowspan=\"2\" valign=\"top\">A</th>\n",
       "      <th>X</th>\n",
       "      <td>3</td>\n",
       "      <td>7</td>\n",
       "      <td>0</td>\n",
       "      <td>8</td>\n",
       "    </tr>\n",
       "    <tr>\n",
       "      <th>Y</th>\n",
       "      <td>0</td>\n",
       "      <td>0</td>\n",
       "      <td>0</td>\n",
       "      <td>2</td>\n",
       "    </tr>\n",
       "    <tr>\n",
       "      <th rowspan=\"2\" valign=\"top\">B</th>\n",
       "      <th>X</th>\n",
       "      <td>2</td>\n",
       "      <td>5</td>\n",
       "      <td>0</td>\n",
       "      <td>4</td>\n",
       "    </tr>\n",
       "    <tr>\n",
       "      <th>Y</th>\n",
       "      <td>8</td>\n",
       "      <td>1</td>\n",
       "      <td>0</td>\n",
       "      <td>7</td>\n",
       "    </tr>\n",
       "    <tr>\n",
       "      <th rowspan=\"2\" valign=\"top\">C</th>\n",
       "      <th>X</th>\n",
       "      <td>8</td>\n",
       "      <td>1</td>\n",
       "      <td>2</td>\n",
       "      <td>6</td>\n",
       "    </tr>\n",
       "    <tr>\n",
       "      <th>Y</th>\n",
       "      <td>6</td>\n",
       "      <td>8</td>\n",
       "      <td>8</td>\n",
       "      <td>3</td>\n",
       "    </tr>\n",
       "    <tr>\n",
       "      <th rowspan=\"2\" valign=\"top\">D</th>\n",
       "      <th>X</th>\n",
       "      <td>4</td>\n",
       "      <td>7</td>\n",
       "      <td>8</td>\n",
       "      <td>1</td>\n",
       "    </tr>\n",
       "    <tr>\n",
       "      <th>Y</th>\n",
       "      <td>4</td>\n",
       "      <td>8</td>\n",
       "      <td>3</td>\n",
       "      <td>6</td>\n",
       "    </tr>\n",
       "  </tbody>\n",
       "</table>\n",
       "</div>"
      ]
     },
     "execution_count": 5,
     "metadata": {},
     "output_type": "execute_result"
    }
   ],
   "execution_count": 5
  },
  {
   "cell_type": "code",
   "id": "6be850df-1742-4d0e-8ed4-d1d002e94dc0",
   "metadata": {
    "ExecuteTime": {
     "end_time": "2024-12-07T21:08:49.172958Z",
     "start_time": "2024-12-07T21:08:49.165788Z"
    }
   },
   "source": [
    "# 创建多层行索引，先types，再categories\n",
    "idx_2 = pd.MultiIndex.from_product([types, categories], names=['I', 'II'])\n",
    "idx_2"
   ],
   "outputs": [
    {
     "data": {
      "text/plain": [
       "MultiIndex([('X', 'A'),\n",
       "            ('X', 'B'),\n",
       "            ('X', 'C'),\n",
       "            ('X', 'D'),\n",
       "            ('Y', 'A'),\n",
       "            ('Y', 'B'),\n",
       "            ('Y', 'C'),\n",
       "            ('Y', 'D')],\n",
       "           names=['I', 'II'])"
      ]
     },
     "execution_count": 6,
     "metadata": {},
     "output_type": "execute_result"
    }
   ],
   "execution_count": 6
  },
  {
   "cell_type": "code",
   "id": "164b34b3-f724-473b-9df7-2c581c066e3e",
   "metadata": {
    "ExecuteTime": {
     "end_time": "2024-12-07T21:08:57.270910Z",
     "start_time": "2024-12-07T21:08:57.265232Z"
    }
   },
   "source": [
    "df_2 = pd.DataFrame(data, index=idx_2, columns=['X1','X2','X3','X4'])\n",
    "df_2"
   ],
   "outputs": [
    {
     "data": {
      "text/plain": [
       "      X1  X2  X3  X4\n",
       "I II                \n",
       "X A    3   7   0   8\n",
       "  B    0   0   0   2\n",
       "  C    2   5   0   4\n",
       "  D    8   1   0   7\n",
       "Y A    8   1   2   6\n",
       "  B    6   8   8   3\n",
       "  C    4   7   8   1\n",
       "  D    4   8   3   6"
      ],
      "text/html": [
       "<div>\n",
       "<style scoped>\n",
       "    .dataframe tbody tr th:only-of-type {\n",
       "        vertical-align: middle;\n",
       "    }\n",
       "\n",
       "    .dataframe tbody tr th {\n",
       "        vertical-align: top;\n",
       "    }\n",
       "\n",
       "    .dataframe thead th {\n",
       "        text-align: right;\n",
       "    }\n",
       "</style>\n",
       "<table border=\"1\" class=\"dataframe\">\n",
       "  <thead>\n",
       "    <tr style=\"text-align: right;\">\n",
       "      <th></th>\n",
       "      <th></th>\n",
       "      <th>X1</th>\n",
       "      <th>X2</th>\n",
       "      <th>X3</th>\n",
       "      <th>X4</th>\n",
       "    </tr>\n",
       "    <tr>\n",
       "      <th>I</th>\n",
       "      <th>II</th>\n",
       "      <th></th>\n",
       "      <th></th>\n",
       "      <th></th>\n",
       "      <th></th>\n",
       "    </tr>\n",
       "  </thead>\n",
       "  <tbody>\n",
       "    <tr>\n",
       "      <th rowspan=\"4\" valign=\"top\">X</th>\n",
       "      <th>A</th>\n",
       "      <td>3</td>\n",
       "      <td>7</td>\n",
       "      <td>0</td>\n",
       "      <td>8</td>\n",
       "    </tr>\n",
       "    <tr>\n",
       "      <th>B</th>\n",
       "      <td>0</td>\n",
       "      <td>0</td>\n",
       "      <td>0</td>\n",
       "      <td>2</td>\n",
       "    </tr>\n",
       "    <tr>\n",
       "      <th>C</th>\n",
       "      <td>2</td>\n",
       "      <td>5</td>\n",
       "      <td>0</td>\n",
       "      <td>4</td>\n",
       "    </tr>\n",
       "    <tr>\n",
       "      <th>D</th>\n",
       "      <td>8</td>\n",
       "      <td>1</td>\n",
       "      <td>0</td>\n",
       "      <td>7</td>\n",
       "    </tr>\n",
       "    <tr>\n",
       "      <th rowspan=\"4\" valign=\"top\">Y</th>\n",
       "      <th>A</th>\n",
       "      <td>8</td>\n",
       "      <td>1</td>\n",
       "      <td>2</td>\n",
       "      <td>6</td>\n",
       "    </tr>\n",
       "    <tr>\n",
       "      <th>B</th>\n",
       "      <td>6</td>\n",
       "      <td>8</td>\n",
       "      <td>8</td>\n",
       "      <td>3</td>\n",
       "    </tr>\n",
       "    <tr>\n",
       "      <th>C</th>\n",
       "      <td>4</td>\n",
       "      <td>7</td>\n",
       "      <td>8</td>\n",
       "      <td>1</td>\n",
       "    </tr>\n",
       "    <tr>\n",
       "      <th>D</th>\n",
       "      <td>4</td>\n",
       "      <td>8</td>\n",
       "      <td>3</td>\n",
       "      <td>6</td>\n",
       "    </tr>\n",
       "  </tbody>\n",
       "</table>\n",
       "</div>"
      ]
     },
     "execution_count": 7,
     "metadata": {},
     "output_type": "execute_result"
    }
   ],
   "execution_count": 7
  },
  {
   "cell_type": "code",
   "id": "501d228e-c993-45e1-9626-e50dd7fbd714",
   "metadata": {
    "ExecuteTime": {
     "end_time": "2024-12-07T21:09:00.690336Z",
     "start_time": "2024-12-07T21:09:00.685111Z"
    }
   },
   "source": [
    "# 将第0级索引的名称设置为 'Level_0_idx'\n",
    "df_2.index.set_names('Level_0_idx', level=0, inplace=True)\n",
    "df_2"
   ],
   "outputs": [
    {
     "data": {
      "text/plain": [
       "                X1  X2  X3  X4\n",
       "Level_0_idx II                \n",
       "X           A    3   7   0   8\n",
       "            B    0   0   0   2\n",
       "            C    2   5   0   4\n",
       "            D    8   1   0   7\n",
       "Y           A    8   1   2   6\n",
       "            B    6   8   8   3\n",
       "            C    4   7   8   1\n",
       "            D    4   8   3   6"
      ],
      "text/html": [
       "<div>\n",
       "<style scoped>\n",
       "    .dataframe tbody tr th:only-of-type {\n",
       "        vertical-align: middle;\n",
       "    }\n",
       "\n",
       "    .dataframe tbody tr th {\n",
       "        vertical-align: top;\n",
       "    }\n",
       "\n",
       "    .dataframe thead th {\n",
       "        text-align: right;\n",
       "    }\n",
       "</style>\n",
       "<table border=\"1\" class=\"dataframe\">\n",
       "  <thead>\n",
       "    <tr style=\"text-align: right;\">\n",
       "      <th></th>\n",
       "      <th></th>\n",
       "      <th>X1</th>\n",
       "      <th>X2</th>\n",
       "      <th>X3</th>\n",
       "      <th>X4</th>\n",
       "    </tr>\n",
       "    <tr>\n",
       "      <th>Level_0_idx</th>\n",
       "      <th>II</th>\n",
       "      <th></th>\n",
       "      <th></th>\n",
       "      <th></th>\n",
       "      <th></th>\n",
       "    </tr>\n",
       "  </thead>\n",
       "  <tbody>\n",
       "    <tr>\n",
       "      <th rowspan=\"4\" valign=\"top\">X</th>\n",
       "      <th>A</th>\n",
       "      <td>3</td>\n",
       "      <td>7</td>\n",
       "      <td>0</td>\n",
       "      <td>8</td>\n",
       "    </tr>\n",
       "    <tr>\n",
       "      <th>B</th>\n",
       "      <td>0</td>\n",
       "      <td>0</td>\n",
       "      <td>0</td>\n",
       "      <td>2</td>\n",
       "    </tr>\n",
       "    <tr>\n",
       "      <th>C</th>\n",
       "      <td>2</td>\n",
       "      <td>5</td>\n",
       "      <td>0</td>\n",
       "      <td>4</td>\n",
       "    </tr>\n",
       "    <tr>\n",
       "      <th>D</th>\n",
       "      <td>8</td>\n",
       "      <td>1</td>\n",
       "      <td>0</td>\n",
       "      <td>7</td>\n",
       "    </tr>\n",
       "    <tr>\n",
       "      <th rowspan=\"4\" valign=\"top\">Y</th>\n",
       "      <th>A</th>\n",
       "      <td>8</td>\n",
       "      <td>1</td>\n",
       "      <td>2</td>\n",
       "      <td>6</td>\n",
       "    </tr>\n",
       "    <tr>\n",
       "      <th>B</th>\n",
       "      <td>6</td>\n",
       "      <td>8</td>\n",
       "      <td>8</td>\n",
       "      <td>3</td>\n",
       "    </tr>\n",
       "    <tr>\n",
       "      <th>C</th>\n",
       "      <td>4</td>\n",
       "      <td>7</td>\n",
       "      <td>8</td>\n",
       "      <td>1</td>\n",
       "    </tr>\n",
       "    <tr>\n",
       "      <th>D</th>\n",
       "      <td>4</td>\n",
       "      <td>8</td>\n",
       "      <td>3</td>\n",
       "      <td>6</td>\n",
       "    </tr>\n",
       "  </tbody>\n",
       "</table>\n",
       "</div>"
      ]
     },
     "execution_count": 8,
     "metadata": {},
     "output_type": "execute_result"
    }
   ],
   "execution_count": 8
  },
  {
   "cell_type": "code",
   "id": "07a20830-5df8-4cd8-8642-65bba44ea06d",
   "metadata": {
    "ExecuteTime": {
     "end_time": "2024-12-07T21:09:14.140042Z",
     "start_time": "2024-12-07T21:09:14.135392Z"
    }
   },
   "source": [
    "# 将第1级索引的名称设置为 'Level_1_idx'\n",
    "df_2.index.set_names('Level_1_idx', level=1, inplace=True)\n",
    "df_2"
   ],
   "outputs": [
    {
     "data": {
      "text/plain": [
       "                         X1  X2  X3  X4\n",
       "Level_0_idx Level_1_idx                \n",
       "X           A             3   7   0   8\n",
       "            B             0   0   0   2\n",
       "            C             2   5   0   4\n",
       "            D             8   1   0   7\n",
       "Y           A             8   1   2   6\n",
       "            B             6   8   8   3\n",
       "            C             4   7   8   1\n",
       "            D             4   8   3   6"
      ],
      "text/html": [
       "<div>\n",
       "<style scoped>\n",
       "    .dataframe tbody tr th:only-of-type {\n",
       "        vertical-align: middle;\n",
       "    }\n",
       "\n",
       "    .dataframe tbody tr th {\n",
       "        vertical-align: top;\n",
       "    }\n",
       "\n",
       "    .dataframe thead th {\n",
       "        text-align: right;\n",
       "    }\n",
       "</style>\n",
       "<table border=\"1\" class=\"dataframe\">\n",
       "  <thead>\n",
       "    <tr style=\"text-align: right;\">\n",
       "      <th></th>\n",
       "      <th></th>\n",
       "      <th>X1</th>\n",
       "      <th>X2</th>\n",
       "      <th>X3</th>\n",
       "      <th>X4</th>\n",
       "    </tr>\n",
       "    <tr>\n",
       "      <th>Level_0_idx</th>\n",
       "      <th>Level_1_idx</th>\n",
       "      <th></th>\n",
       "      <th></th>\n",
       "      <th></th>\n",
       "      <th></th>\n",
       "    </tr>\n",
       "  </thead>\n",
       "  <tbody>\n",
       "    <tr>\n",
       "      <th rowspan=\"4\" valign=\"top\">X</th>\n",
       "      <th>A</th>\n",
       "      <td>3</td>\n",
       "      <td>7</td>\n",
       "      <td>0</td>\n",
       "      <td>8</td>\n",
       "    </tr>\n",
       "    <tr>\n",
       "      <th>B</th>\n",
       "      <td>0</td>\n",
       "      <td>0</td>\n",
       "      <td>0</td>\n",
       "      <td>2</td>\n",
       "    </tr>\n",
       "    <tr>\n",
       "      <th>C</th>\n",
       "      <td>2</td>\n",
       "      <td>5</td>\n",
       "      <td>0</td>\n",
       "      <td>4</td>\n",
       "    </tr>\n",
       "    <tr>\n",
       "      <th>D</th>\n",
       "      <td>8</td>\n",
       "      <td>1</td>\n",
       "      <td>0</td>\n",
       "      <td>7</td>\n",
       "    </tr>\n",
       "    <tr>\n",
       "      <th rowspan=\"4\" valign=\"top\">Y</th>\n",
       "      <th>A</th>\n",
       "      <td>8</td>\n",
       "      <td>1</td>\n",
       "      <td>2</td>\n",
       "      <td>6</td>\n",
       "    </tr>\n",
       "    <tr>\n",
       "      <th>B</th>\n",
       "      <td>6</td>\n",
       "      <td>8</td>\n",
       "      <td>8</td>\n",
       "      <td>3</td>\n",
       "    </tr>\n",
       "    <tr>\n",
       "      <th>C</th>\n",
       "      <td>4</td>\n",
       "      <td>7</td>\n",
       "      <td>8</td>\n",
       "      <td>1</td>\n",
       "    </tr>\n",
       "    <tr>\n",
       "      <th>D</th>\n",
       "      <td>4</td>\n",
       "      <td>8</td>\n",
       "      <td>3</td>\n",
       "      <td>6</td>\n",
       "    </tr>\n",
       "  </tbody>\n",
       "</table>\n",
       "</div>"
      ]
     },
     "execution_count": 9,
     "metadata": {},
     "output_type": "execute_result"
    }
   ],
   "execution_count": 9
  },
  {
   "cell_type": "code",
   "id": "ec9fe8e0-a3b6-4791-950b-6f764c385279",
   "metadata": {
    "ExecuteTime": {
     "end_time": "2024-12-07T21:09:18.614575Z",
     "start_time": "2024-12-07T21:09:18.609956Z"
    }
   },
   "source": [
    "# 获取 DataFrame 中多级索引的第0级别（level=0）的所有标签值\n",
    "df_2.index.get_level_values(0)"
   ],
   "outputs": [
    {
     "data": {
      "text/plain": [
       "Index(['X', 'X', 'X', 'X', 'Y', 'Y', 'Y', 'Y'], dtype='object', name='Level_0_idx')"
      ]
     },
     "execution_count": 10,
     "metadata": {},
     "output_type": "execute_result"
    }
   ],
   "execution_count": 10
  },
  {
   "cell_type": "code",
   "id": "9400d938-0b2b-43b2-be35-e804c892bc52",
   "metadata": {
    "ExecuteTime": {
     "end_time": "2024-12-07T21:09:22.714983Z",
     "start_time": "2024-12-07T21:09:22.711624Z"
    }
   },
   "source": [
    "# 获取 DataFrame 中多级索引的第1级别（level=1）的所有标签值\n",
    "df_2.index.get_level_values(1)"
   ],
   "outputs": [
    {
     "data": {
      "text/plain": [
       "Index(['A', 'B', 'C', 'D', 'A', 'B', 'C', 'D'], dtype='object', name='Level_1_idx')"
      ]
     },
     "execution_count": 11,
     "metadata": {},
     "output_type": "execute_result"
    }
   ],
   "execution_count": 11
  },
  {
   "cell_type": "code",
   "id": "25f3bc05-aeb9-489f-9334-204cef00cc24",
   "metadata": {
    "ExecuteTime": {
     "end_time": "2024-12-07T21:09:29.856053Z",
     "start_time": "2024-12-07T21:09:29.850818Z"
    }
   },
   "source": [
    "df_2.xs('X', level='Level_0_idx')  \n",
    "# df_2.xs('X')  \n",
    "# 获取 Level_0_idx 等于 'X' 的所有行"
   ],
   "outputs": [
    {
     "data": {
      "text/plain": [
       "             X1  X2  X3  X4\n",
       "Level_1_idx                \n",
       "A             3   7   0   8\n",
       "B             0   0   0   2\n",
       "C             2   5   0   4\n",
       "D             8   1   0   7"
      ],
      "text/html": [
       "<div>\n",
       "<style scoped>\n",
       "    .dataframe tbody tr th:only-of-type {\n",
       "        vertical-align: middle;\n",
       "    }\n",
       "\n",
       "    .dataframe tbody tr th {\n",
       "        vertical-align: top;\n",
       "    }\n",
       "\n",
       "    .dataframe thead th {\n",
       "        text-align: right;\n",
       "    }\n",
       "</style>\n",
       "<table border=\"1\" class=\"dataframe\">\n",
       "  <thead>\n",
       "    <tr style=\"text-align: right;\">\n",
       "      <th></th>\n",
       "      <th>X1</th>\n",
       "      <th>X2</th>\n",
       "      <th>X3</th>\n",
       "      <th>X4</th>\n",
       "    </tr>\n",
       "    <tr>\n",
       "      <th>Level_1_idx</th>\n",
       "      <th></th>\n",
       "      <th></th>\n",
       "      <th></th>\n",
       "      <th></th>\n",
       "    </tr>\n",
       "  </thead>\n",
       "  <tbody>\n",
       "    <tr>\n",
       "      <th>A</th>\n",
       "      <td>3</td>\n",
       "      <td>7</td>\n",
       "      <td>0</td>\n",
       "      <td>8</td>\n",
       "    </tr>\n",
       "    <tr>\n",
       "      <th>B</th>\n",
       "      <td>0</td>\n",
       "      <td>0</td>\n",
       "      <td>0</td>\n",
       "      <td>2</td>\n",
       "    </tr>\n",
       "    <tr>\n",
       "      <th>C</th>\n",
       "      <td>2</td>\n",
       "      <td>5</td>\n",
       "      <td>0</td>\n",
       "      <td>4</td>\n",
       "    </tr>\n",
       "    <tr>\n",
       "      <th>D</th>\n",
       "      <td>8</td>\n",
       "      <td>1</td>\n",
       "      <td>0</td>\n",
       "      <td>7</td>\n",
       "    </tr>\n",
       "  </tbody>\n",
       "</table>\n",
       "</div>"
      ]
     },
     "execution_count": 12,
     "metadata": {},
     "output_type": "execute_result"
    }
   ],
   "execution_count": 12
  },
  {
   "cell_type": "code",
   "id": "ffba7849-1443-4720-a9e5-5d34dcb98bfb",
   "metadata": {
    "ExecuteTime": {
     "end_time": "2024-12-07T21:09:48.932003Z",
     "start_time": "2024-12-07T21:09:48.926001Z"
    }
   },
   "source": [
    "df_2.xs('A', level='Level_1_idx')  \n",
    "# 获取 Level_1_idx 等于 'A' 的所有行"
   ],
   "outputs": [
    {
     "data": {
      "text/plain": [
       "             X1  X2  X3  X4\n",
       "Level_0_idx                \n",
       "X             3   7   0   8\n",
       "Y             8   1   2   6"
      ],
      "text/html": [
       "<div>\n",
       "<style scoped>\n",
       "    .dataframe tbody tr th:only-of-type {\n",
       "        vertical-align: middle;\n",
       "    }\n",
       "\n",
       "    .dataframe tbody tr th {\n",
       "        vertical-align: top;\n",
       "    }\n",
       "\n",
       "    .dataframe thead th {\n",
       "        text-align: right;\n",
       "    }\n",
       "</style>\n",
       "<table border=\"1\" class=\"dataframe\">\n",
       "  <thead>\n",
       "    <tr style=\"text-align: right;\">\n",
       "      <th></th>\n",
       "      <th>X1</th>\n",
       "      <th>X2</th>\n",
       "      <th>X3</th>\n",
       "      <th>X4</th>\n",
       "    </tr>\n",
       "    <tr>\n",
       "      <th>Level_0_idx</th>\n",
       "      <th></th>\n",
       "      <th></th>\n",
       "      <th></th>\n",
       "      <th></th>\n",
       "    </tr>\n",
       "  </thead>\n",
       "  <tbody>\n",
       "    <tr>\n",
       "      <th>X</th>\n",
       "      <td>3</td>\n",
       "      <td>7</td>\n",
       "      <td>0</td>\n",
       "      <td>8</td>\n",
       "    </tr>\n",
       "    <tr>\n",
       "      <th>Y</th>\n",
       "      <td>8</td>\n",
       "      <td>1</td>\n",
       "      <td>2</td>\n",
       "      <td>6</td>\n",
       "    </tr>\n",
       "  </tbody>\n",
       "</table>\n",
       "</div>"
      ]
     },
     "execution_count": 13,
     "metadata": {},
     "output_type": "execute_result"
    }
   ],
   "execution_count": 13
  },
  {
   "cell_type": "code",
   "id": "9c1bb8bf-9d91-40d9-a0e1-b46e28605ba3",
   "metadata": {
    "ExecuteTime": {
     "end_time": "2024-12-07T21:09:53.253385Z",
     "start_time": "2024-12-07T21:09:53.248348Z"
    }
   },
   "source": [
    "df_2.xs(('X', 'A'), level=['Level_0_idx','Level_1_idx']) \n",
    "# df_2.xs(('X', 'A'))\n",
    "# 获取 Level_0_idx 等于 'X' 且 Level_1_idx 等于 'A' 的所有行"
   ],
   "outputs": [
    {
     "data": {
      "text/plain": [
       "                         X1  X2  X3  X4\n",
       "Level_0_idx Level_1_idx                \n",
       "X           A             3   7   0   8"
      ],
      "text/html": [
       "<div>\n",
       "<style scoped>\n",
       "    .dataframe tbody tr th:only-of-type {\n",
       "        vertical-align: middle;\n",
       "    }\n",
       "\n",
       "    .dataframe tbody tr th {\n",
       "        vertical-align: top;\n",
       "    }\n",
       "\n",
       "    .dataframe thead th {\n",
       "        text-align: right;\n",
       "    }\n",
       "</style>\n",
       "<table border=\"1\" class=\"dataframe\">\n",
       "  <thead>\n",
       "    <tr style=\"text-align: right;\">\n",
       "      <th></th>\n",
       "      <th></th>\n",
       "      <th>X1</th>\n",
       "      <th>X2</th>\n",
       "      <th>X3</th>\n",
       "      <th>X4</th>\n",
       "    </tr>\n",
       "    <tr>\n",
       "      <th>Level_0_idx</th>\n",
       "      <th>Level_1_idx</th>\n",
       "      <th></th>\n",
       "      <th></th>\n",
       "      <th></th>\n",
       "      <th></th>\n",
       "    </tr>\n",
       "  </thead>\n",
       "  <tbody>\n",
       "    <tr>\n",
       "      <th>X</th>\n",
       "      <th>A</th>\n",
       "      <td>3</td>\n",
       "      <td>7</td>\n",
       "      <td>0</td>\n",
       "      <td>8</td>\n",
       "    </tr>\n",
       "  </tbody>\n",
       "</table>\n",
       "</div>"
      ]
     },
     "execution_count": 14,
     "metadata": {},
     "output_type": "execute_result"
    }
   ],
   "execution_count": 14
  }
 ],
 "metadata": {
  "kernelspec": {
   "display_name": "Python 3 (ipykernel)",
   "language": "python",
   "name": "python3"
  },
  "language_info": {
   "codemirror_mode": {
    "name": "ipython",
    "version": 3
   },
   "file_extension": ".py",
   "mimetype": "text/x-python",
   "name": "python",
   "nbconvert_exporter": "python",
   "pygments_lexer": "ipython3",
   "version": "3.10.9"
  }
 },
 "nbformat": 4,
 "nbformat_minor": 5
}
