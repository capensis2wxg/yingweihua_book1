{
 "cells": [
  {
   "cell_type": "markdown",
   "id": "c2b7da21-f761-4b32-9b9e-f8985e2f8dc9",
   "metadata": {},
   "source": [
    "Ch25\n",
    "# SymPy线性代数\n",
    "Book_1《编程不难》 | 鸢尾花书：从加减乘除到机器学习  "
   ]
  },
  {
   "cell_type": "markdown",
   "id": "cb1204b2-1f67-47e5-8b6b-890e797d193d",
   "metadata": {},
   "source": [
    "## 矩阵"
   ]
  },
  {
   "cell_type": "code",
   "id": "51ab495d-f96b-4f57-807a-e0145fa142de",
   "metadata": {
    "ExecuteTime": {
     "end_time": "2024-12-12T13:41:30.354803Z",
     "start_time": "2024-12-12T13:41:29.794293Z"
    }
   },
   "source": [
    "from sympy import Matrix\n",
    "A = Matrix([[1, 2, 3], [3, 2, 1]])\n",
    "A"
   ],
   "outputs": [
    {
     "data": {
      "text/plain": [
       "Matrix([\n",
       "[1, 2, 3],\n",
       "[3, 2, 1]])"
      ],
      "text/latex": "$\\displaystyle \\left[\\begin{matrix}1 & 2 & 3\\\\3 & 2 & 1\\end{matrix}\\right]$"
     },
     "execution_count": 1,
     "metadata": {},
     "output_type": "execute_result"
    }
   ],
   "execution_count": 1
  },
  {
   "cell_type": "code",
   "id": "8fa6e56c-ea2f-4aa7-ba3c-1586f1397adc",
   "metadata": {
    "ExecuteTime": {
     "end_time": "2024-12-12T13:41:35.915556Z",
     "start_time": "2024-12-12T13:41:35.911661Z"
    }
   },
   "source": [
    "from sympy import shape\n",
    "shape(A)"
   ],
   "outputs": [
    {
     "data": {
      "text/plain": [
       "(2, 3)"
      ]
     },
     "execution_count": 3,
     "metadata": {},
     "output_type": "execute_result"
    }
   ],
   "execution_count": 3
  },
  {
   "cell_type": "code",
   "id": "ffa4887a-08d2-4e82-b487-0e887e6162ad",
   "metadata": {
    "ExecuteTime": {
     "end_time": "2024-12-12T13:41:37.792151Z",
     "start_time": "2024-12-12T13:41:37.783505Z"
    }
   },
   "source": [
    "A.T"
   ],
   "outputs": [
    {
     "data": {
      "text/plain": [
       "Matrix([\n",
       "[1, 3],\n",
       "[2, 2],\n",
       "[3, 1]])"
      ],
      "text/latex": "$\\displaystyle \\left[\\begin{matrix}1 & 3\\\\2 & 2\\\\3 & 1\\end{matrix}\\right]$"
     },
     "execution_count": 4,
     "metadata": {},
     "output_type": "execute_result"
    }
   ],
   "execution_count": 4
  },
  {
   "cell_type": "code",
   "id": "5fbbbc7c-d3aa-473d-b536-452bcbb59820",
   "metadata": {
    "ExecuteTime": {
     "end_time": "2024-12-12T13:42:49.900904Z",
     "start_time": "2024-12-12T13:42:49.892551Z"
    }
   },
   "source": [
    "# 增加一行\n",
    "Matrix([A, (0, 0, -1)])"
   ],
   "outputs": [
    {
     "data": {
      "text/plain": [
       "Matrix([\n",
       "[1, 2,  3],\n",
       "[3, 2,  1],\n",
       "[0, 0, -1]])"
      ],
      "text/latex": "$\\displaystyle \\left[\\begin{matrix}1 & 2 & 3\\\\3 & 2 & 1\\\\0 & 0 & -1\\end{matrix}\\right]$"
     },
     "execution_count": 6,
     "metadata": {},
     "output_type": "execute_result"
    }
   ],
   "execution_count": 6
  },
  {
   "cell_type": "code",
   "id": "b4b1cc09-97f4-4512-b738-d1d3acad73ca",
   "metadata": {
    "ExecuteTime": {
     "end_time": "2024-12-12T13:43:01.554975Z",
     "start_time": "2024-12-12T13:43:01.545809Z"
    }
   },
   "source": [
    "# 指定形状\n",
    "Matrix(2, 3, [1, 2, 3, 4, 5, 6])"
   ],
   "outputs": [
    {
     "data": {
      "text/plain": [
       "Matrix([\n",
       "[1, 2, 3],\n",
       "[4, 5, 6]])"
      ],
      "text/latex": "$\\displaystyle \\left[\\begin{matrix}1 & 2 & 3\\\\4 & 5 & 6\\end{matrix}\\right]$"
     },
     "execution_count": 7,
     "metadata": {},
     "output_type": "execute_result"
    }
   ],
   "execution_count": 7
  },
  {
   "cell_type": "markdown",
   "id": "7b284643-3499-40f2-8a62-880faf222f22",
   "metadata": {},
   "source": [
    "### 行向量、列向量"
   ]
  },
  {
   "cell_type": "code",
   "id": "46e673f9-666e-4075-9017-1878a262556c",
   "metadata": {
    "ExecuteTime": {
     "end_time": "2024-12-12T13:43:10.731574Z",
     "start_time": "2024-12-12T13:43:10.720401Z"
    }
   },
   "source": [
    "a = Matrix([1, 2, 3])\n",
    "a"
   ],
   "outputs": [
    {
     "data": {
      "text/plain": [
       "Matrix([\n",
       "[1],\n",
       "[2],\n",
       "[3]])"
      ],
      "text/latex": "$\\displaystyle \\left[\\begin{matrix}1\\\\2\\\\3\\end{matrix}\\right]$"
     },
     "execution_count": 8,
     "metadata": {},
     "output_type": "execute_result"
    }
   ],
   "execution_count": 8
  },
  {
   "cell_type": "code",
   "id": "29965118-d756-402a-b669-f998eef98246",
   "metadata": {
    "ExecuteTime": {
     "end_time": "2024-12-12T13:43:17.519459Z",
     "start_time": "2024-12-12T13:43:17.508967Z"
    }
   },
   "source": [
    "a.T"
   ],
   "outputs": [
    {
     "data": {
      "text/plain": [
       "Matrix([[1, 2, 3]])"
      ],
      "text/latex": "$\\displaystyle \\left[\\begin{matrix}1 & 2 & 3\\end{matrix}\\right]$"
     },
     "execution_count": 9,
     "metadata": {},
     "output_type": "execute_result"
    }
   ],
   "execution_count": 9
  },
  {
   "cell_type": "code",
   "id": "d65d62f7-d2cc-47bc-9d4e-ec767b34fc6e",
   "metadata": {
    "ExecuteTime": {
     "end_time": "2024-12-12T13:43:24.981859Z",
     "start_time": "2024-12-12T13:43:24.974685Z"
    }
   },
   "source": [
    "Matrix([[1, 2, 3]])"
   ],
   "outputs": [
    {
     "data": {
      "text/plain": [
       "Matrix([[1, 2, 3]])"
      ],
      "text/latex": "$\\displaystyle \\left[\\begin{matrix}1 & 2 & 3\\end{matrix}\\right]$"
     },
     "execution_count": 10,
     "metadata": {},
     "output_type": "execute_result"
    }
   ],
   "execution_count": 10
  },
  {
   "cell_type": "markdown",
   "id": "0c1884bd-53ed-4a8e-9dca-cfee0cdc7086",
   "metadata": {},
   "source": [
    "### 索引、切片"
   ]
  },
  {
   "cell_type": "code",
   "id": "36c076b6-68c0-46bd-a33e-672b96bb8979",
   "metadata": {
    "ExecuteTime": {
     "end_time": "2024-12-12T13:44:14.604468Z",
     "start_time": "2024-12-12T13:44:14.596320Z"
    }
   },
   "source": [
    "A[0, 0]"
   ],
   "outputs": [
    {
     "data": {
      "text/plain": [
       "1"
      ],
      "text/latex": "$\\displaystyle 1$"
     },
     "execution_count": 11,
     "metadata": {},
     "output_type": "execute_result"
    }
   ],
   "execution_count": 11
  },
  {
   "cell_type": "code",
   "id": "7358e2d0-146d-429b-8095-146e8889e7d0",
   "metadata": {
    "ExecuteTime": {
     "end_time": "2024-12-12T13:44:16.602738Z",
     "start_time": "2024-12-12T13:44:16.595587Z"
    }
   },
   "source": [
    "A[-1,-1]"
   ],
   "outputs": [
    {
     "data": {
      "text/plain": [
       "1"
      ],
      "text/latex": "$\\displaystyle 1$"
     },
     "execution_count": 12,
     "metadata": {},
     "output_type": "execute_result"
    }
   ],
   "execution_count": 12
  },
  {
   "cell_type": "code",
   "id": "67630f3f-bd38-457c-b167-8c4c10135219",
   "metadata": {
    "ExecuteTime": {
     "end_time": "2024-12-12T13:44:20.352016Z",
     "start_time": "2024-12-12T13:44:20.341710Z"
    }
   },
   "source": [
    "A[0,:]"
   ],
   "outputs": [
    {
     "data": {
      "text/plain": [
       "Matrix([[1, 2, 3]])"
      ],
      "text/latex": "$\\displaystyle \\left[\\begin{matrix}1 & 2 & 3\\end{matrix}\\right]$"
     },
     "execution_count": 13,
     "metadata": {},
     "output_type": "execute_result"
    }
   ],
   "execution_count": 13
  },
  {
   "cell_type": "code",
   "id": "c7740c29-7a6b-49be-81aa-6b666e1c5845",
   "metadata": {
    "ExecuteTime": {
     "end_time": "2024-12-12T13:44:23.976553Z",
     "start_time": "2024-12-12T13:44:23.971480Z"
    }
   },
   "source": [
    "A[:,0]"
   ],
   "outputs": [
    {
     "data": {
      "text/plain": [
       "Matrix([\n",
       "[1],\n",
       "[3]])"
      ],
      "text/latex": "$\\displaystyle \\left[\\begin{matrix}1\\\\3\\end{matrix}\\right]$"
     },
     "execution_count": 14,
     "metadata": {},
     "output_type": "execute_result"
    }
   ],
   "execution_count": 14
  },
  {
   "cell_type": "code",
   "id": "611a6bdc-c549-4a7e-b2aa-fad268940fb5",
   "metadata": {
    "ExecuteTime": {
     "end_time": "2024-12-12T13:44:29.763110Z",
     "start_time": "2024-12-12T13:44:29.755619Z"
    }
   },
   "source": [
    "A.row(0)\n",
    "# A.row_del(0) 删除指定行\n",
    "# 插入指定行 M.row_insert(1, Matrix([[0, 4]]))"
   ],
   "outputs": [
    {
     "data": {
      "text/plain": [
       "Matrix([[1, 2, 3]])"
      ],
      "text/latex": "$\\displaystyle \\left[\\begin{matrix}1 & 2 & 3\\end{matrix}\\right]$"
     },
     "execution_count": 15,
     "metadata": {},
     "output_type": "execute_result"
    }
   ],
   "execution_count": 15
  },
  {
   "cell_type": "code",
   "id": "7a799876-b059-42dd-a50d-a25aa71fafd9",
   "metadata": {
    "ExecuteTime": {
     "end_time": "2024-12-12T13:44:32.639372Z",
     "start_time": "2024-12-12T13:44:32.625104Z"
    }
   },
   "source": [
    "A.row(-1)"
   ],
   "outputs": [
    {
     "data": {
      "text/plain": [
       "Matrix([[3, 2, 1]])"
      ],
      "text/latex": "$\\displaystyle \\left[\\begin{matrix}3 & 2 & 1\\end{matrix}\\right]$"
     },
     "execution_count": 16,
     "metadata": {},
     "output_type": "execute_result"
    }
   ],
   "execution_count": 16
  },
  {
   "cell_type": "code",
   "id": "e0f2c070-1ccd-4ca1-9037-cef84c655eea",
   "metadata": {
    "ExecuteTime": {
     "end_time": "2024-12-12T13:44:36.409102Z",
     "start_time": "2024-12-12T13:44:36.397866Z"
    }
   },
   "source": [
    "A.col(0)\n",
    "# A.col_del(0) 删除指定列\n",
    "# M.col_insert(0, Matrix([1, -2]))"
   ],
   "outputs": [
    {
     "data": {
      "text/plain": [
       "Matrix([\n",
       "[1],\n",
       "[3]])"
      ],
      "text/latex": "$\\displaystyle \\left[\\begin{matrix}1\\\\3\\end{matrix}\\right]$"
     },
     "execution_count": 17,
     "metadata": {},
     "output_type": "execute_result"
    }
   ],
   "execution_count": 17
  },
  {
   "cell_type": "code",
   "id": "29976d55-6a48-4ea9-8b6c-0c8246992eed",
   "metadata": {
    "ExecuteTime": {
     "end_time": "2024-12-12T13:44:39.657081Z",
     "start_time": "2024-12-12T13:44:39.646253Z"
    }
   },
   "source": [
    "A.col(-1)"
   ],
   "outputs": [
    {
     "data": {
      "text/plain": [
       "Matrix([\n",
       "[3],\n",
       "[1]])"
      ],
      "text/latex": "$\\displaystyle \\left[\\begin{matrix}3\\\\1\\end{matrix}\\right]$"
     },
     "execution_count": 18,
     "metadata": {},
     "output_type": "execute_result"
    }
   ],
   "execution_count": 18
  },
  {
   "cell_type": "code",
   "id": "d35ca417-658d-41a0-b188-94cbd0b32852",
   "metadata": {
    "ExecuteTime": {
     "end_time": "2024-12-12T13:44:44.292103Z",
     "start_time": "2024-12-12T13:44:44.285478Z"
    }
   },
   "source": [
    "A[0:2, 0:2]"
   ],
   "outputs": [
    {
     "data": {
      "text/plain": [
       "Matrix([\n",
       "[1, 2],\n",
       "[3, 2]])"
      ],
      "text/latex": "$\\displaystyle \\left[\\begin{matrix}1 & 2\\\\3 & 2\\end{matrix}\\right]$"
     },
     "execution_count": 19,
     "metadata": {},
     "output_type": "execute_result"
    }
   ],
   "execution_count": 19
  },
  {
   "cell_type": "markdown",
   "id": "80f2a1f9-7fe1-4f14-8c9f-dd0c61b01b46",
   "metadata": {},
   "source": [
    "### 产生特殊矩阵"
   ]
  },
  {
   "cell_type": "code",
   "id": "7de910bc-ca1b-4501-a2c0-5ea64a416db1",
   "metadata": {
    "ExecuteTime": {
     "end_time": "2024-12-12T13:48:01.768641Z",
     "start_time": "2024-12-12T13:48:01.761956Z"
    }
   },
   "source": [
    "from sympy.matrices import Matrix, eye, zeros, ones, diag, GramSchmidt"
   ],
   "outputs": [],
   "execution_count": 21
  },
  {
   "cell_type": "code",
   "id": "b7d551ad-1787-49e2-9e11-cdeae3ccfd87",
   "metadata": {
    "ExecuteTime": {
     "end_time": "2024-12-12T13:48:05.166788Z",
     "start_time": "2024-12-12T13:48:05.160620Z"
    }
   },
   "source": [
    "eye(4)"
   ],
   "outputs": [
    {
     "data": {
      "text/plain": [
       "Matrix([\n",
       "[1, 0, 0, 0],\n",
       "[0, 1, 0, 0],\n",
       "[0, 0, 1, 0],\n",
       "[0, 0, 0, 1]])"
      ],
      "text/latex": "$\\displaystyle \\left[\\begin{matrix}1 & 0 & 0 & 0\\\\0 & 1 & 0 & 0\\\\0 & 0 & 1 & 0\\\\0 & 0 & 0 & 1\\end{matrix}\\right]$"
     },
     "execution_count": 22,
     "metadata": {},
     "output_type": "execute_result"
    }
   ],
   "execution_count": 22
  },
  {
   "cell_type": "code",
   "id": "da24cb14-2c90-48bf-965f-da5eb065203b",
   "metadata": {
    "ExecuteTime": {
     "end_time": "2024-12-12T13:48:10.960188Z",
     "start_time": "2024-12-12T13:48:10.955020Z"
    }
   },
   "source": [
    "m = Matrix(2, 2, [0, 1, 1, 2])\n",
    "m.is_symmetric()"
   ],
   "outputs": [
    {
     "data": {
      "text/plain": [
       "True"
      ]
     },
     "execution_count": 23,
     "metadata": {},
     "output_type": "execute_result"
    }
   ],
   "execution_count": 23
  },
  {
   "cell_type": "code",
   "id": "8eeceea3-99f6-4310-968f-bd9bb3e36a46",
   "metadata": {
    "ExecuteTime": {
     "end_time": "2024-12-12T13:48:27.097233Z",
     "start_time": "2024-12-12T13:48:27.086626Z"
    }
   },
   "source": [
    "zeros(2)"
   ],
   "outputs": [
    {
     "data": {
      "text/plain": [
       "Matrix([\n",
       "[0, 0],\n",
       "[0, 0]])"
      ],
      "text/latex": "$\\displaystyle \\left[\\begin{matrix}0 & 0\\\\0 & 0\\end{matrix}\\right]$"
     },
     "execution_count": 24,
     "metadata": {},
     "output_type": "execute_result"
    }
   ],
   "execution_count": 24
  },
  {
   "cell_type": "code",
   "id": "501a9257-e9a8-4111-82f1-ee132eec8f85",
   "metadata": {
    "ExecuteTime": {
     "end_time": "2024-12-12T13:48:31.159262Z",
     "start_time": "2024-12-12T13:48:31.153058Z"
    }
   },
   "source": [
    "zeros(2, 5)"
   ],
   "outputs": [
    {
     "data": {
      "text/plain": [
       "Matrix([\n",
       "[0, 0, 0, 0, 0],\n",
       "[0, 0, 0, 0, 0]])"
      ],
      "text/latex": "$\\displaystyle \\left[\\begin{matrix}0 & 0 & 0 & 0 & 0\\\\0 & 0 & 0 & 0 & 0\\end{matrix}\\right]$"
     },
     "execution_count": 25,
     "metadata": {},
     "output_type": "execute_result"
    }
   ],
   "execution_count": 25
  },
  {
   "cell_type": "code",
   "id": "be2b9c67-bcac-450e-aa05-d9e2d627c48f",
   "metadata": {
    "ExecuteTime": {
     "end_time": "2024-12-12T13:48:34.137930Z",
     "start_time": "2024-12-12T13:48:34.128215Z"
    }
   },
   "source": [
    "ones(3)"
   ],
   "outputs": [
    {
     "data": {
      "text/plain": [
       "Matrix([\n",
       "[1, 1, 1],\n",
       "[1, 1, 1],\n",
       "[1, 1, 1]])"
      ],
      "text/latex": "$\\displaystyle \\left[\\begin{matrix}1 & 1 & 1\\\\1 & 1 & 1\\\\1 & 1 & 1\\end{matrix}\\right]$"
     },
     "execution_count": 26,
     "metadata": {},
     "output_type": "execute_result"
    }
   ],
   "execution_count": 26
  },
  {
   "cell_type": "code",
   "id": "f74dc25d-b865-4117-89b2-7586809714cd",
   "metadata": {
    "ExecuteTime": {
     "end_time": "2024-12-12T13:48:37.855682Z",
     "start_time": "2024-12-12T13:48:37.846953Z"
    }
   },
   "source": [
    "ones(3,5)"
   ],
   "outputs": [
    {
     "data": {
      "text/plain": [
       "Matrix([\n",
       "[1, 1, 1, 1, 1],\n",
       "[1, 1, 1, 1, 1],\n",
       "[1, 1, 1, 1, 1]])"
      ],
      "text/latex": "$\\displaystyle \\left[\\begin{matrix}1 & 1 & 1 & 1 & 1\\\\1 & 1 & 1 & 1 & 1\\\\1 & 1 & 1 & 1 & 1\\end{matrix}\\right]$"
     },
     "execution_count": 27,
     "metadata": {},
     "output_type": "execute_result"
    }
   ],
   "execution_count": 27
  },
  {
   "cell_type": "code",
   "id": "86b2bd20-841e-4edf-b5f1-46fc0c17f27d",
   "metadata": {
    "ExecuteTime": {
     "end_time": "2024-12-12T13:48:42.278630Z",
     "start_time": "2024-12-12T13:48:42.266494Z"
    }
   },
   "source": [
    "from sympy import eye\n",
    "eye(3)"
   ],
   "outputs": [
    {
     "data": {
      "text/plain": [
       "Matrix([\n",
       "[1, 0, 0],\n",
       "[0, 1, 0],\n",
       "[0, 0, 1]])"
      ],
      "text/latex": "$\\displaystyle \\left[\\begin{matrix}1 & 0 & 0\\\\0 & 1 & 0\\\\0 & 0 & 1\\end{matrix}\\right]$"
     },
     "execution_count": 28,
     "metadata": {},
     "output_type": "execute_result"
    }
   ],
   "execution_count": 28
  },
  {
   "cell_type": "code",
   "id": "ee26f455-2763-4d9a-91d1-85745f750c6e",
   "metadata": {
    "ExecuteTime": {
     "end_time": "2024-12-12T13:48:47.174567Z",
     "start_time": "2024-12-12T13:48:47.170183Z"
    }
   },
   "source": [
    "from sympy import eye\n",
    "A = eye(3)\n",
    "A.is_diagonal()"
   ],
   "outputs": [
    {
     "data": {
      "text/plain": [
       "True"
      ]
     },
     "execution_count": 29,
     "metadata": {},
     "output_type": "execute_result"
    }
   ],
   "execution_count": 29
  },
  {
   "cell_type": "code",
   "id": "8c35b87b-45ae-40e8-87a9-aae5d4b8a63a",
   "metadata": {
    "ExecuteTime": {
     "end_time": "2024-12-12T13:48:56.113423Z",
     "start_time": "2024-12-12T13:48:56.103170Z"
    }
   },
   "source": [
    "from sympy import zeros\n",
    "zeros(3, 3)"
   ],
   "outputs": [
    {
     "data": {
      "text/plain": [
       "Matrix([\n",
       "[0, 0, 0],\n",
       "[0, 0, 0],\n",
       "[0, 0, 0]])"
      ],
      "text/latex": "$\\displaystyle \\left[\\begin{matrix}0 & 0 & 0\\\\0 & 0 & 0\\\\0 & 0 & 0\\end{matrix}\\right]$"
     },
     "execution_count": 31,
     "metadata": {},
     "output_type": "execute_result"
    }
   ],
   "execution_count": 31
  },
  {
   "cell_type": "code",
   "id": "44c3865b-51a1-4918-9501-adfcaf31cc01",
   "metadata": {
    "ExecuteTime": {
     "end_time": "2024-12-12T13:48:58.950213Z",
     "start_time": "2024-12-12T13:48:58.943326Z"
    }
   },
   "source": [
    "from sympy import ones\n",
    "ones(3, 2)"
   ],
   "outputs": [
    {
     "data": {
      "text/plain": [
       "Matrix([\n",
       "[1, 1],\n",
       "[1, 1],\n",
       "[1, 1]])"
      ],
      "text/latex": "$\\displaystyle \\left[\\begin{matrix}1 & 1\\\\1 & 1\\\\1 & 1\\end{matrix}\\right]$"
     },
     "execution_count": 32,
     "metadata": {},
     "output_type": "execute_result"
    }
   ],
   "execution_count": 32
  },
  {
   "cell_type": "code",
   "id": "c4e0bf3a-ea65-4527-bee1-0e806e3ab07b",
   "metadata": {
    "ExecuteTime": {
     "end_time": "2024-12-12T13:49:02.786808Z",
     "start_time": "2024-12-12T13:49:02.781210Z"
    }
   },
   "source": [
    "from sympy import diag\n",
    "diag(1, 2, 3)"
   ],
   "outputs": [
    {
     "data": {
      "text/plain": [
       "Matrix([\n",
       "[1, 0, 0],\n",
       "[0, 2, 0],\n",
       "[0, 0, 3]])"
      ],
      "text/latex": "$\\displaystyle \\left[\\begin{matrix}1 & 0 & 0\\\\0 & 2 & 0\\\\0 & 0 & 3\\end{matrix}\\right]$"
     },
     "execution_count": 33,
     "metadata": {},
     "output_type": "execute_result"
    }
   ],
   "execution_count": 33
  },
  {
   "cell_type": "code",
   "id": "94fb6ae5-846c-419a-b1b0-694431cfd122",
   "metadata": {
    "ExecuteTime": {
     "end_time": "2024-12-12T13:49:06.182566Z",
     "start_time": "2024-12-12T13:49:06.174138Z"
    }
   },
   "source": [
    "### 上三角\n",
    "m = Matrix(2, 2, [1, 2, 0, 1])\n",
    "m.is_upper"
   ],
   "outputs": [
    {
     "data": {
      "text/plain": [
       "True"
      ]
     },
     "execution_count": 34,
     "metadata": {},
     "output_type": "execute_result"
    }
   ],
   "execution_count": 34
  },
  {
   "cell_type": "code",
   "id": "db1a03f5-0efe-48d5-81df-520765a287fa",
   "metadata": {
    "ExecuteTime": {
     "end_time": "2024-12-12T13:49:10.961865Z",
     "start_time": "2024-12-12T13:49:10.951366Z"
    }
   },
   "source": [
    "### 上三角\n",
    "from sympy import ones\n",
    "A = ones(3)\n",
    "A.upper_triangular()"
   ],
   "outputs": [
    {
     "data": {
      "text/plain": [
       "Matrix([\n",
       "[1, 1, 1],\n",
       "[0, 1, 1],\n",
       "[0, 0, 1]])"
      ],
      "text/latex": "$\\displaystyle \\left[\\begin{matrix}1 & 1 & 1\\\\0 & 1 & 1\\\\0 & 0 & 1\\end{matrix}\\right]$"
     },
     "execution_count": 35,
     "metadata": {},
     "output_type": "execute_result"
    }
   ],
   "execution_count": 35
  },
  {
   "cell_type": "code",
   "id": "4f53f803-f678-4fc7-b66a-ccdfd600586f",
   "metadata": {
    "ExecuteTime": {
     "end_time": "2024-12-12T13:49:51.560084Z",
     "start_time": "2024-12-12T13:49:51.531914Z"
    }
   },
   "source": [
    "### 下三角\n",
    "from sympy import ones\n",
    "A = ones(4)\n",
    "A.lower_triangular()"
   ],
   "outputs": [
    {
     "data": {
      "text/plain": [
       "Matrix([\n",
       "[1, 0, 0, 0],\n",
       "[1, 1, 0, 0],\n",
       "[1, 1, 1, 0],\n",
       "[1, 1, 1, 1]])"
      ],
      "text/latex": "$\\displaystyle \\left[\\begin{matrix}1 & 0 & 0 & 0\\\\1 & 1 & 0 & 0\\\\1 & 1 & 1 & 0\\\\1 & 1 & 1 & 1\\end{matrix}\\right]$"
     },
     "execution_count": 36,
     "metadata": {},
     "output_type": "execute_result"
    }
   ],
   "execution_count": 36
  },
  {
   "cell_type": "code",
   "id": "46963d3a-b511-4847-a2ed-89c93b1c333a",
   "metadata": {
    "ExecuteTime": {
     "end_time": "2024-12-12T13:49:57.148497Z",
     "start_time": "2024-12-12T13:49:57.142513Z"
    }
   },
   "source": [
    "### 变形"
   ],
   "outputs": [],
   "execution_count": 37
  },
  {
   "cell_type": "code",
   "id": "6f909e45-5f2a-41dc-8ba7-010d4c497241",
   "metadata": {
    "ExecuteTime": {
     "end_time": "2024-12-12T13:50:01.641091Z",
     "start_time": "2024-12-12T13:50:01.632776Z"
    }
   },
   "source": [
    "m = Matrix(2, 3, lambda i, j: 1)\n",
    "m "
   ],
   "outputs": [
    {
     "data": {
      "text/plain": [
       "Matrix([\n",
       "[1, 1, 1],\n",
       "[1, 1, 1]])"
      ],
      "text/latex": "$\\displaystyle \\left[\\begin{matrix}1 & 1 & 1\\\\1 & 1 & 1\\end{matrix}\\right]$"
     },
     "execution_count": 38,
     "metadata": {},
     "output_type": "execute_result"
    }
   ],
   "execution_count": 38
  },
  {
   "cell_type": "code",
   "id": "da9869f7-8721-4624-9410-88e16453a319",
   "metadata": {
    "ExecuteTime": {
     "end_time": "2024-12-12T13:50:05.912652Z",
     "start_time": "2024-12-12T13:50:05.887017Z"
    }
   },
   "source": [
    "m.reshape(1, 6)"
   ],
   "outputs": [
    {
     "data": {
      "text/plain": [
       "Matrix([[1, 1, 1, 1, 1, 1]])"
      ],
      "text/latex": "$\\displaystyle \\left[\\begin{matrix}1 & 1 & 1 & 1 & 1 & 1\\end{matrix}\\right]$"
     },
     "execution_count": 39,
     "metadata": {},
     "output_type": "execute_result"
    }
   ],
   "execution_count": 39
  },
  {
   "cell_type": "code",
   "id": "4aaf3abe-63d7-4838-a6ba-3215d67bab08",
   "metadata": {
    "ExecuteTime": {
     "end_time": "2024-12-12T13:50:10.508745Z",
     "start_time": "2024-12-12T13:50:10.500621Z"
    }
   },
   "source": [
    "m.reshape(3, 2)"
   ],
   "outputs": [
    {
     "data": {
      "text/plain": [
       "Matrix([\n",
       "[1, 1],\n",
       "[1, 1],\n",
       "[1, 1]])"
      ],
      "text/latex": "$\\displaystyle \\left[\\begin{matrix}1 & 1\\\\1 & 1\\\\1 & 1\\end{matrix}\\right]$"
     },
     "execution_count": 40,
     "metadata": {},
     "output_type": "execute_result"
    }
   ],
   "execution_count": 40
  },
  {
   "cell_type": "code",
   "id": "ace71ec8-d1ce-476b-a561-7fe65abff96e",
   "metadata": {
    "ExecuteTime": {
     "end_time": "2024-12-12T13:50:15.318889Z",
     "start_time": "2024-12-12T13:50:15.311475Z"
    }
   },
   "source": [
    "from sympy import Matrix, symbols\n",
    "A = Matrix(2, 2, symbols('a:d'))\n",
    "A"
   ],
   "outputs": [
    {
     "data": {
      "text/plain": [
       "Matrix([\n",
       "[a, b],\n",
       "[c, d]])"
      ],
      "text/latex": "$\\displaystyle \\left[\\begin{matrix}a & b\\\\c & d\\end{matrix}\\right]$"
     },
     "execution_count": 41,
     "metadata": {},
     "output_type": "execute_result"
    }
   ],
   "execution_count": 41
  },
  {
   "cell_type": "code",
   "id": "a4103f58-ed36-47ce-996e-dabe6956915e",
   "metadata": {
    "ExecuteTime": {
     "end_time": "2024-12-12T13:50:23.313766Z",
     "start_time": "2024-12-12T13:50:23.309105Z"
    }
   },
   "source": [
    "A.rot90(-2)"
   ],
   "outputs": [
    {
     "data": {
      "text/plain": [
       "Matrix([\n",
       "[d, c],\n",
       "[b, a]])"
      ],
      "text/latex": "$\\displaystyle \\left[\\begin{matrix}d & c\\\\b & a\\end{matrix}\\right]$"
     },
     "execution_count": 42,
     "metadata": {},
     "output_type": "execute_result"
    }
   ],
   "execution_count": 42
  },
  {
   "cell_type": "markdown",
   "id": "7778fdb3-9a9e-4299-a147-2a6d3ccb8b4b",
   "metadata": {},
   "source": [
    "## 基本运算"
   ]
  },
  {
   "cell_type": "code",
   "id": "50bc89dd9dec776f",
   "metadata": {
    "ExecuteTime": {
     "end_time": "2024-12-12T13:51:07.193897Z",
     "start_time": "2024-12-12T13:51:07.184909Z"
    }
   },
   "source": [
    "from sympy import Matrix\n",
    "\n",
    "A = Matrix([[1, 3], [-2, 3]])\n",
    "B = Matrix([[0, 3], [0, 7]])\n",
    "A + B"
   ],
   "outputs": [
    {
     "data": {
      "text/plain": [
       "Matrix([\n",
       "[ 1,  6],\n",
       "[-2, 10]])"
      ],
      "text/latex": "$\\displaystyle \\left[\\begin{matrix}1 & 6\\\\-2 & 10\\end{matrix}\\right]$"
     },
     "execution_count": 43,
     "metadata": {},
     "output_type": "execute_result"
    }
   ],
   "execution_count": 43
  },
  {
   "metadata": {
    "ExecuteTime": {
     "end_time": "2024-12-12T13:51:20.966396Z",
     "start_time": "2024-12-12T13:51:20.960496Z"
    }
   },
   "cell_type": "code",
   "source": [
    " # 加法\n",
    "A - B"
   ],
   "id": "9c7e8ee9593017cf",
   "outputs": [
    {
     "data": {
      "text/plain": [
       "Matrix([\n",
       "[ 1,  0],\n",
       "[-2, -4]])"
      ],
      "text/latex": "$\\displaystyle \\left[\\begin{matrix}1 & 0\\\\-2 & -4\\end{matrix}\\right]$"
     },
     "execution_count": 44,
     "metadata": {},
     "output_type": "execute_result"
    }
   ],
   "execution_count": 44
  },
  {
   "metadata": {
    "ExecuteTime": {
     "end_time": "2024-12-12T13:51:41.388034Z",
     "start_time": "2024-12-12T13:51:41.377835Z"
    }
   },
   "cell_type": "code",
   "source": [
    " # 减法\n",
    "3*A"
   ],
   "id": "114edb9cb152cb13",
   "outputs": [
    {
     "data": {
      "text/plain": [
       "Matrix([\n",
       "[ 3, 9],\n",
       "[-6, 9]])"
      ],
      "text/latex": "$\\displaystyle \\left[\\begin{matrix}3 & 9\\\\-6 & 9\\end{matrix}\\right]$"
     },
     "execution_count": 45,
     "metadata": {},
     "output_type": "execute_result"
    }
   ],
   "execution_count": 45
  },
  {
   "metadata": {
    "ExecuteTime": {
     "end_time": "2024-12-12T13:51:48.622558Z",
     "start_time": "2024-12-12T13:51:48.618066Z"
    }
   },
   "cell_type": "code",
   "source": [
    "# 标量乘矩阵\n",
    "A.multiply_elementwise(B) # 逐项积\n",
    "A * B # 矩阵乘法"
   ],
   "id": "5aedda03-8a51-4f5f-96b0-041cb00a5c47",
   "outputs": [
    {
     "data": {
      "text/plain": [
       "Matrix([\n",
       "[0, 24],\n",
       "[0, 15]])"
      ],
      "text/latex": "$\\displaystyle \\left[\\begin{matrix}0 & 24\\\\0 & 15\\end{matrix}\\right]$"
     },
     "execution_count": 46,
     "metadata": {},
     "output_type": "execute_result"
    }
   ],
   "execution_count": 46
  },
  {
   "cell_type": "code",
   "id": "6dcbd35a-8efc-4f1a-9877-2fde7f98a89e",
   "metadata": {
    "ExecuteTime": {
     "end_time": "2024-12-12T13:51:54.689186Z",
     "start_time": "2024-12-12T13:51:54.682579Z"
    }
   },
   "source": [
    "A @ B"
   ],
   "outputs": [
    {
     "data": {
      "text/plain": [
       "Matrix([\n",
       "[0, 24],\n",
       "[0, 15]])"
      ],
      "text/latex": "$\\displaystyle \\left[\\begin{matrix}0 & 24\\\\0 & 15\\end{matrix}\\right]$"
     },
     "execution_count": 47,
     "metadata": {},
     "output_type": "execute_result"
    }
   ],
   "execution_count": 47
  },
  {
   "cell_type": "markdown",
   "id": "a1e04dd9-2b14-4b78-8841-751d3b9eaf53",
   "metadata": {},
   "source": [
    "### 加法"
   ]
  },
  {
   "cell_type": "code",
   "id": "c7396bf5-a06d-4dc0-8c2c-77bd3f879c1d",
   "metadata": {
    "ExecuteTime": {
     "end_time": "2024-12-12T13:51:58.633097Z",
     "start_time": "2024-12-12T13:51:58.627094Z"
    }
   },
   "source": [
    "A + B"
   ],
   "outputs": [
    {
     "data": {
      "text/plain": [
       "Matrix([\n",
       "[ 1,  6],\n",
       "[-2, 10]])"
      ],
      "text/latex": "$\\displaystyle \\left[\\begin{matrix}1 & 6\\\\-2 & 10\\end{matrix}\\right]$"
     },
     "execution_count": 48,
     "metadata": {},
     "output_type": "execute_result"
    }
   ],
   "execution_count": 48
  },
  {
   "cell_type": "markdown",
   "id": "51bf9fcb-746c-48af-b25b-fdf6fc87867e",
   "metadata": {},
   "source": [
    "### 逐项积"
   ]
  },
  {
   "cell_type": "code",
   "id": "a404c009-ca20-469d-972f-326039315083",
   "metadata": {
    "ExecuteTime": {
     "end_time": "2024-12-12T13:52:05.274343Z",
     "start_time": "2024-12-12T13:52:05.267966Z"
    }
   },
   "source": [
    "A = Matrix([[0, 1, 2], [3, 4, 5]])\n",
    "B = Matrix([[1, 10, 100], [100, 10, 1]])\n",
    "A.multiply_elementwise(B)"
   ],
   "outputs": [
    {
     "data": {
      "text/plain": [
       "Matrix([\n",
       "[  0, 10, 200],\n",
       "[300, 40,   5]])"
      ],
      "text/latex": "$\\displaystyle \\left[\\begin{matrix}0 & 10 & 200\\\\300 & 40 & 5\\end{matrix}\\right]$"
     },
     "execution_count": 49,
     "metadata": {},
     "output_type": "execute_result"
    }
   ],
   "execution_count": 49
  },
  {
   "cell_type": "markdown",
   "id": "98a84be2-2de0-4950-9936-2c12d44f5885",
   "metadata": {},
   "source": [
    "## 矩阵乘法"
   ]
  },
  {
   "cell_type": "code",
   "id": "93918b13-e61e-40cf-90c0-3235d55c1278",
   "metadata": {
    "ExecuteTime": {
     "end_time": "2024-12-12T13:52:41.826636Z",
     "start_time": "2024-12-12T13:52:41.821932Z"
    }
   },
   "source": [
    "B = Matrix([0, 1, 1])"
   ],
   "outputs": [],
   "execution_count": 50
  },
  {
   "cell_type": "code",
   "id": "be6bcfba-b752-4439-9c3c-6984901f7d87",
   "metadata": {
    "ExecuteTime": {
     "end_time": "2024-12-12T13:52:45.902849Z",
     "start_time": "2024-12-12T13:52:45.898822Z"
    }
   },
   "source": [
    "A*B"
   ],
   "outputs": [
    {
     "data": {
      "text/plain": [
       "Matrix([\n",
       "[3],\n",
       "[9]])"
      ],
      "text/latex": "$\\displaystyle \\left[\\begin{matrix}3\\\\9\\end{matrix}\\right]$"
     },
     "execution_count": 51,
     "metadata": {},
     "output_type": "execute_result"
    }
   ],
   "execution_count": 51
  },
  {
   "cell_type": "code",
   "id": "e12b8a3d-1215-4431-9b5f-3541910e5fc3",
   "metadata": {
    "ExecuteTime": {
     "end_time": "2024-12-12T13:52:59.612663Z",
     "start_time": "2024-12-12T13:52:59.591282Z"
    }
   },
   "source": [
    "Matrix_2x2 = Matrix([[1.25, -0.75], [-0.75, 1.25]])\n",
    "Matrix_2x2"
   ],
   "outputs": [
    {
     "data": {
      "text/plain": [
       "Matrix([\n",
       "[ 1.25, -0.75],\n",
       "[-0.75,  1.25]])"
      ],
      "text/latex": "$\\displaystyle \\left[\\begin{matrix}1.25 & -0.75\\\\-0.75 & 1.25\\end{matrix}\\right]$"
     },
     "execution_count": 52,
     "metadata": {},
     "output_type": "execute_result"
    }
   ],
   "execution_count": 52
  },
  {
   "cell_type": "code",
   "id": "e2851410-11d8-4083-929f-4cc58d0b3fa2",
   "metadata": {
    "ExecuteTime": {
     "end_time": "2024-12-12T13:53:05.277855Z",
     "start_time": "2024-12-12T13:53:05.273691Z"
    }
   },
   "source": [
    "type(Matrix_2x2)"
   ],
   "outputs": [
    {
     "data": {
      "text/plain": [
       "sympy.matrices.dense.MutableDenseMatrix"
      ]
     },
     "execution_count": 53,
     "metadata": {},
     "output_type": "execute_result"
    }
   ],
   "execution_count": 53
  },
  {
   "cell_type": "code",
   "id": "8988f5e1-8f56-446f-a1be-6482b480df49",
   "metadata": {
    "ExecuteTime": {
     "end_time": "2024-12-12T13:53:11.880548Z",
     "start_time": "2024-12-12T13:53:11.873782Z"
    }
   },
   "source": [
    "# 求逆\n",
    "Matrix_2x2**-1"
   ],
   "outputs": [
    {
     "data": {
      "text/plain": [
       "Matrix([\n",
       "[1.25, 0.75],\n",
       "[0.75, 1.25]])"
      ],
      "text/latex": "$\\displaystyle \\left[\\begin{matrix}1.25 & 0.75\\\\0.75 & 1.25\\end{matrix}\\right]$"
     },
     "execution_count": 54,
     "metadata": {},
     "output_type": "execute_result"
    }
   ],
   "execution_count": 54
  },
  {
   "cell_type": "code",
   "id": "d2d7dfec-076b-4043-bd6f-e02f6f3f3b7d",
   "metadata": {
    "ExecuteTime": {
     "end_time": "2024-12-12T13:53:14.279280Z",
     "start_time": "2024-12-12T13:53:14.266467Z"
    }
   },
   "source": [
    "Matrix_2x2.inv()"
   ],
   "outputs": [
    {
     "data": {
      "text/plain": [
       "Matrix([\n",
       "[1.25, 0.75],\n",
       "[0.75, 1.25]])"
      ],
      "text/latex": "$\\displaystyle \\left[\\begin{matrix}1.25 & 0.75\\\\0.75 & 1.25\\end{matrix}\\right]$"
     },
     "execution_count": 55,
     "metadata": {},
     "output_type": "execute_result"
    }
   ],
   "execution_count": 55
  },
  {
   "cell_type": "code",
   "id": "4f51aa8d-8093-4154-9ad1-563c132e6c37",
   "metadata": {
    "ExecuteTime": {
     "end_time": "2024-12-12T13:53:19.435514Z",
     "start_time": "2024-12-12T13:53:19.425590Z"
    }
   },
   "source": [
    "# 求转置\n",
    "Matrix_2x2.T"
   ],
   "outputs": [
    {
     "data": {
      "text/plain": [
       "Matrix([\n",
       "[ 1.25, -0.75],\n",
       "[-0.75,  1.25]])"
      ],
      "text/latex": "$\\displaystyle \\left[\\begin{matrix}1.25 & -0.75\\\\-0.75 & 1.25\\end{matrix}\\right]$"
     },
     "execution_count": 56,
     "metadata": {},
     "output_type": "execute_result"
    }
   ],
   "execution_count": 56
  },
  {
   "cell_type": "code",
   "id": "39090b2e-4bf0-44ec-a526-5180fdf40069",
   "metadata": {
    "ExecuteTime": {
     "end_time": "2024-12-12T13:53:32.649374Z",
     "start_time": "2024-12-12T13:53:32.645258Z"
    }
   },
   "source": [
    "# 将符号矩阵转化为浮点数numpy矩阵\n",
    "import numpy as np\n",
    "\n",
    "np.array(Matrix_2x2).astype(np.float64)"
   ],
   "outputs": [
    {
     "data": {
      "text/plain": [
       "array([[ 1.25, -0.75],\n",
       "       [-0.75,  1.25]])"
      ]
     },
     "execution_count": 58,
     "metadata": {},
     "output_type": "execute_result"
    }
   ],
   "execution_count": 58
  },
  {
   "cell_type": "markdown",
   "id": "d4ad75fd-a848-4501-b567-2588178392b0",
   "metadata": {},
   "source": [
    "## 符号求逆"
   ]
  },
  {
   "cell_type": "code",
   "id": "762c778b-8d11-4ed5-8e60-78aad75bfa04",
   "metadata": {
    "ExecuteTime": {
     "end_time": "2024-12-12T13:53:48.972252Z",
     "start_time": "2024-12-12T13:53:48.905596Z"
    }
   },
   "source": [
    "from sympy import symbols\n",
    "a, b, c, d = symbols('a b c d')\n",
    "A = Matrix([[a, b],[c, d]])\n",
    "A.inv()"
   ],
   "outputs": [
    {
     "data": {
      "text/plain": [
       "Matrix([\n",
       "[ d/(a*d - b*c), -b/(a*d - b*c)],\n",
       "[-c/(a*d - b*c),  a/(a*d - b*c)]])"
      ],
      "text/latex": "$\\displaystyle \\left[\\begin{matrix}\\frac{d}{a d - b c} & - \\frac{b}{a d - b c}\\\\- \\frac{c}{a d - b c} & \\frac{a}{a d - b c}\\end{matrix}\\right]$"
     },
     "execution_count": 59,
     "metadata": {},
     "output_type": "execute_result"
    }
   ],
   "execution_count": 59
  },
  {
   "cell_type": "code",
   "id": "ebb1810a-73b2-4e68-90de-0f0a18d2d0e7",
   "metadata": {
    "ExecuteTime": {
     "end_time": "2024-12-12T13:54:00.257752Z",
     "start_time": "2024-12-12T13:54:00.246906Z"
    }
   },
   "source": [
    "# 行列式值\n",
    "A.det()"
   ],
   "outputs": [
    {
     "data": {
      "text/plain": [
       "a*d - b*c"
      ],
      "text/latex": "$\\displaystyle a d - b c$"
     },
     "execution_count": 60,
     "metadata": {},
     "output_type": "execute_result"
    }
   ],
   "execution_count": 60
  },
  {
   "cell_type": "code",
   "id": "5a46d9a3-4c63-4a5e-bf2f-26dd491823ea",
   "metadata": {
    "ExecuteTime": {
     "end_time": "2024-12-12T13:54:04.218785Z",
     "start_time": "2024-12-12T13:54:04.211776Z"
    }
   },
   "source": [
    "# 方阵的迹\n",
    "A.trace()"
   ],
   "outputs": [
    {
     "data": {
      "text/plain": [
       "a + d"
      ],
      "text/latex": "$\\displaystyle a + d$"
     },
     "execution_count": 61,
     "metadata": {},
     "output_type": "execute_result"
    }
   ],
   "execution_count": 61
  },
  {
   "cell_type": "markdown",
   "id": "b540e851-133b-4f87-947f-669c41b736c1",
   "metadata": {},
   "source": [
    "## 方程组"
   ]
  },
  {
   "cell_type": "code",
   "id": "047a8901-5d4a-4b1b-9251-71c5d7eda6b0",
   "metadata": {
    "ExecuteTime": {
     "end_time": "2024-12-12T13:54:29.840702Z",
     "start_time": "2024-12-12T13:54:29.833361Z"
    }
   },
   "source": [
    "A = Matrix([[1, 2, 0], [3, 1, 2], [0, -1, 1]])\n",
    "b = Matrix([[3], [4], [1]])\n",
    "A.inv() @ b"
   ],
   "outputs": [
    {
     "data": {
      "text/plain": [
       "Matrix([\n",
       "[-5/3],\n",
       "[ 7/3],\n",
       "[10/3]])"
      ],
      "text/latex": "$\\displaystyle \\left[\\begin{matrix}- \\frac{5}{3}\\\\\\frac{7}{3}\\\\\\frac{10}{3}\\end{matrix}\\right]$"
     },
     "execution_count": 63,
     "metadata": {},
     "output_type": "execute_result"
    }
   ],
   "execution_count": 63
  },
  {
   "cell_type": "code",
   "id": "4f581fce-d717-46ab-a827-e27ea7abbe9e",
   "metadata": {
    "ExecuteTime": {
     "end_time": "2024-12-12T13:54:49.769558Z",
     "start_time": "2024-12-12T13:54:49.757524Z"
    }
   },
   "source": [
    "from sympy import Symbol, S\n",
    "\n",
    "a, b, c = Symbol(\"a\"), Symbol(\"b\"), Symbol(\"c\")\n",
    "C = Matrix([[S(1) / 5, 5, 5], [3, 1, 7], [a, b, c]])\n",
    "C.det()"
   ],
   "outputs": [
    {
     "data": {
      "text/plain": [
       "30*a + 68*b/5 - 74*c/5"
      ],
      "text/latex": "$\\displaystyle 30 a + \\frac{68 b}{5} - \\frac{74 c}{5}$"
     },
     "execution_count": 64,
     "metadata": {},
     "output_type": "execute_result"
    }
   ],
   "execution_count": 64
  },
  {
   "cell_type": "code",
   "id": "7a8868d9-6e5c-42ca-b5b2-9c9477630ff3",
   "metadata": {
    "ExecuteTime": {
     "end_time": "2024-12-12T13:57:03.761434Z",
     "start_time": "2024-12-12T13:57:03.730476Z"
    }
   },
   "source": [
    "C.inv()"
   ],
   "outputs": [
    {
     "data": {
      "text/plain": [
       "Matrix([\n",
       "[(-35*b + 5*c)/(150*a + 68*b - 74*c), (25*b - 25*c)/(150*a + 68*b - 74*c),  75/(75*a + 34*b - 37*c)],\n",
       "[(35*a - 15*c)/(150*a + 68*b - 74*c),   (-25*a + c)/(150*a + 68*b - 74*c),  34/(75*a + 34*b - 37*c)],\n",
       "[(-5*a + 15*b)/(150*a + 68*b - 74*c),    (25*a - b)/(150*a + 68*b - 74*c), -37/(75*a + 34*b - 37*c)]])"
      ],
      "text/latex": "$\\displaystyle \\left[\\begin{matrix}\\frac{- 35 b + 5 c}{150 a + 68 b - 74 c} & \\frac{25 b - 25 c}{150 a + 68 b - 74 c} & \\frac{75}{75 a + 34 b - 37 c}\\\\\\frac{35 a - 15 c}{150 a + 68 b - 74 c} & \\frac{- 25 a + c}{150 a + 68 b - 74 c} & \\frac{34}{75 a + 34 b - 37 c}\\\\\\frac{- 5 a + 15 b}{150 a + 68 b - 74 c} & \\frac{25 a - b}{150 a + 68 b - 74 c} & - \\frac{37}{75 a + 34 b - 37 c}\\end{matrix}\\right]$"
     },
     "execution_count": 65,
     "metadata": {},
     "output_type": "execute_result"
    }
   ],
   "execution_count": 65
  },
  {
   "cell_type": "code",
   "id": "563fb5a8-c4c1-4046-ac81-49a7b543bbe0",
   "metadata": {
    "ExecuteTime": {
     "end_time": "2024-12-12T13:57:06.783692Z",
     "start_time": "2024-12-12T13:57:06.776306Z"
    }
   },
   "source": [
    "## trace"
   ],
   "outputs": [],
   "execution_count": 66
  },
  {
   "cell_type": "code",
   "id": "d9cafe51-c51f-41c1-a35f-911158eacb1b",
   "metadata": {
    "ExecuteTime": {
     "end_time": "2024-12-12T13:57:10.110094Z",
     "start_time": "2024-12-12T13:57:10.104010Z"
    }
   },
   "source": [
    "A = Matrix(2, 2, [1, 2, 3, 4])\n",
    "A.trace()"
   ],
   "outputs": [
    {
     "data": {
      "text/plain": [
       "5"
      ],
      "text/latex": "$\\displaystyle 5$"
     },
     "execution_count": 67,
     "metadata": {},
     "output_type": "execute_result"
    }
   ],
   "execution_count": 67
  },
  {
   "cell_type": "markdown",
   "id": "22bbb8d2-fee7-433c-b258-e889c56ac1b7",
   "metadata": {},
   "source": [
    "## 正定性"
   ]
  },
  {
   "cell_type": "code",
   "id": "cbc54213-f4d6-42e9-93bd-f819473abd08",
   "metadata": {
    "ExecuteTime": {
     "end_time": "2024-12-12T13:57:20.200317Z",
     "start_time": "2024-12-12T13:57:20.195025Z"
    }
   },
   "source": [
    "from sympy import Matrix, symbols\n",
    "from sympy.plotting import plot3d\n",
    "\n",
    "x1, x2 = symbols('x1 x2')\n",
    "x = Matrix([x1, x2])"
   ],
   "outputs": [],
   "execution_count": 68
  },
  {
   "cell_type": "markdown",
   "id": "09ae370d-1498-4172-a427-9aabfd4c8826",
   "metadata": {},
   "source": [
    "### 正定"
   ]
  },
  {
   "cell_type": "markdown",
   "id": "c64fe7a4-d368-4754-a823-830f9add059f",
   "metadata": {},
   "source": [
    "$${\\displaystyle M{\\text{ positive-definite}}\\quad \\iff \\quad \\mathbf {x} ^{\\textsf {T}}M\\mathbf {x} >0{\\text{ for all }}\\mathbf {x} \\in \\mathbb {R} ^{n}\\setminus \\{\\mathbf {0} \\}}$$"
   ]
  },
  {
   "cell_type": "code",
   "id": "42c1c072-9ba5-4b06-93fe-90dfae06a874",
   "metadata": {
    "ExecuteTime": {
     "end_time": "2024-12-12T13:57:26.198891Z",
     "start_time": "2024-12-12T13:57:26.190344Z"
    }
   },
   "source": [
    "A = Matrix([[1, 0], [0, 1]])\n",
    "A.is_positive_definite"
   ],
   "outputs": [
    {
     "data": {
      "text/plain": [
       "True"
      ]
     },
     "execution_count": 69,
     "metadata": {},
     "output_type": "execute_result"
    }
   ],
   "execution_count": 69
  },
  {
   "cell_type": "code",
   "id": "3e4510c1-88d1-443c-b2fc-67f07cd1a178",
   "metadata": {
    "ExecuteTime": {
     "end_time": "2024-12-12T13:57:28.692201Z",
     "start_time": "2024-12-12T13:57:28.680420Z"
    }
   },
   "source": [
    "x.T*A*x"
   ],
   "outputs": [
    {
     "data": {
      "text/plain": [
       "Matrix([[x1**2 + x2**2]])"
      ],
      "text/latex": "$\\displaystyle \\left[\\begin{matrix}x_{1}^{2} + x_{2}^{2}\\end{matrix}\\right]$"
     },
     "execution_count": 70,
     "metadata": {},
     "output_type": "execute_result"
    }
   ],
   "execution_count": 70
  },
  {
   "cell_type": "code",
   "id": "c48df144-4947-4592-8d40-c7489c77bba7",
   "metadata": {
    "ExecuteTime": {
     "end_time": "2024-12-12T13:57:33.740702Z",
     "start_time": "2024-12-12T13:57:33.712107Z"
    }
   },
   "source": [
    "f_x = x.T*A*x\n",
    "f_x = f_x[0]\n",
    "f_x"
   ],
   "outputs": [
    {
     "data": {
      "text/plain": [
       "x1**2 + x2**2"
      ],
      "text/latex": "$\\displaystyle x_{1}^{2} + x_{2}^{2}$"
     },
     "execution_count": 71,
     "metadata": {},
     "output_type": "execute_result"
    }
   ],
   "execution_count": 71
  },
  {
   "cell_type": "code",
   "id": "38e94417-37ac-4ce4-8f20-2055e3371078",
   "metadata": {
    "ExecuteTime": {
     "end_time": "2024-12-12T14:00:19.388065Z",
     "start_time": "2024-12-12T14:00:18.980123Z"
    }
   },
   "source": [
    "p = plot3d((x.T*A*x)[0, 0], (x1, -1, 1), (x2, -1, 1))"
   ],
   "outputs": [
    {
     "data": {
      "text/plain": [
       "<Figure size 640x480 with 1 Axes>"
      ],
      "image/png": "[encoded data removed]"
     },
     "metadata": {},
     "output_type": "display_data"
    }
   ],
   "execution_count": 73
  },
  {
   "cell_type": "markdown",
   "id": "772083e4-064a-4fcf-bd33-d913d444e384",
   "metadata": {},
   "source": [
    "### 半正定"
   ]
  },
  {
   "cell_type": "markdown",
   "id": "4ad000b2-9304-499e-abae-d2df12c12dde",
   "metadata": {},
   "source": [
    "$${\\displaystyle M{\\text{ positive semi-definite}}\\quad \\iff \\quad \\mathbf {x} ^{\\textsf {T}}M\\mathbf {x} \\geq 0{\\text{ for all }}\\mathbf {x} \\in \\mathbb {R} ^{n}}$$"
   ]
  },
  {
   "cell_type": "code",
   "id": "e5f091a8-d378-4133-811f-82d2ff58a506",
   "metadata": {
    "ExecuteTime": {
     "end_time": "2024-12-12T14:00:35.104926Z",
     "start_time": "2024-12-12T14:00:35.096350Z"
    }
   },
   "source": [
    "A = Matrix([[1, -1], [-1, 1]])\n",
    "A.is_positive_definite"
   ],
   "outputs": [
    {
     "data": {
      "text/plain": [
       "False"
      ]
     },
     "execution_count": 74,
     "metadata": {},
     "output_type": "execute_result"
    }
   ],
   "execution_count": 74
  },
  {
   "cell_type": "code",
   "id": "25cfc067-1c47-480b-b724-f0e1cd2ca964",
   "metadata": {
    "ExecuteTime": {
     "end_time": "2024-12-12T14:00:45.657104Z",
     "start_time": "2024-12-12T14:00:45.648916Z"
    }
   },
   "source": [
    "A.is_positive_semidefinite"
   ],
   "outputs": [
    {
     "data": {
      "text/plain": [
       "True"
      ]
     },
     "execution_count": 75,
     "metadata": {},
     "output_type": "execute_result"
    }
   ],
   "execution_count": 75
  },
  {
   "cell_type": "markdown",
   "id": "b9da797a-3cd8-4ad0-8cc2-039c906c2fff",
   "metadata": {},
   "source": [
    "### 负定"
   ]
  },
  {
   "cell_type": "markdown",
   "id": "0be5e050-33c3-4adf-a9f7-a1fbb5157e60",
   "metadata": {},
   "source": [
    "$$ {\\displaystyle M{\\text{ negative-definite}}\\quad \\iff \\quad \\mathbf {x} ^{\\textsf {T}}M\\mathbf {x} <0{\\text{ for all }}\\mathbf {x} \\in \\mathbb {R} ^{n}\\setminus \\{\\mathbf {0} \\}} $$"
   ]
  },
  {
   "cell_type": "code",
   "id": "5cd701c5-7c70-4362-847c-f9678cc1a682",
   "metadata": {
    "ExecuteTime": {
     "end_time": "2024-12-12T14:00:49.775342Z",
     "start_time": "2024-12-12T14:00:49.766231Z"
    }
   },
   "source": [
    "A = Matrix([[-1, 0], [0, -1]])\n",
    "A.is_negative_definite"
   ],
   "outputs": [
    {
     "data": {
      "text/plain": [
       "True"
      ]
     },
     "execution_count": 76,
     "metadata": {},
     "output_type": "execute_result"
    }
   ],
   "execution_count": 76
  },
  {
   "cell_type": "code",
   "id": "94f9e781-d162-4cf8-9606-654b7c9953d8",
   "metadata": {
    "ExecuteTime": {
     "end_time": "2024-12-12T14:00:52.443209Z",
     "start_time": "2024-12-12T14:00:52.434627Z"
    }
   },
   "source": [
    "A.is_negative_semidefinite"
   ],
   "outputs": [
    {
     "data": {
      "text/plain": [
       "True"
      ]
     },
     "execution_count": 77,
     "metadata": {},
     "output_type": "execute_result"
    }
   ],
   "execution_count": 77
  },
  {
   "cell_type": "code",
   "id": "2a60136a-e683-486f-bf84-a4ca2f22c044",
   "metadata": {
    "ExecuteTime": {
     "end_time": "2024-12-12T14:00:54.447356Z",
     "start_time": "2024-12-12T14:00:54.443130Z"
    }
   },
   "source": [
    "A.is_indefinite"
   ],
   "outputs": [
    {
     "data": {
      "text/plain": [
       "False"
      ]
     },
     "execution_count": 78,
     "metadata": {},
     "output_type": "execute_result"
    }
   ],
   "execution_count": 78
  },
  {
   "cell_type": "markdown",
   "id": "aa4eec7f-b91f-494f-91c3-47e977e45427",
   "metadata": {},
   "source": [
    "### 半负定"
   ]
  },
  {
   "cell_type": "markdown",
   "id": "98ac7d4a-0e80-4669-a9d0-4604ef62ae9e",
   "metadata": {},
   "source": [
    "$$ {\\displaystyle M{\\text{ negative semi-definite}}\\quad \\iff \\quad \\mathbf {x} ^{\\textsf {T}}M\\mathbf {x} \\leq 0{\\text{ for all }}\\mathbf {x} \\in \\mathbb {R} ^{n}} $$"
   ]
  },
  {
   "cell_type": "markdown",
   "id": "c65eaac6-c50a-483a-9c17-b2f4b854e933",
   "metadata": {},
   "source": [
    "### 不定"
   ]
  },
  {
   "cell_type": "code",
   "id": "f86a5111-58fb-4f66-9c07-324b0bd239a0",
   "metadata": {
    "ExecuteTime": {
     "end_time": "2024-12-12T14:01:09.959719Z",
     "start_time": "2024-12-12T14:01:09.951006Z"
    }
   },
   "source": [
    "A = Matrix([[1, 2], [2, -1]])\n",
    "A.is_indefinite"
   ],
   "outputs": [
    {
     "data": {
      "text/plain": [
       "True"
      ]
     },
     "execution_count": 79,
     "metadata": {},
     "output_type": "execute_result"
    }
   ],
   "execution_count": 79
  },
  {
   "cell_type": "markdown",
   "id": "7a99af1f-b8a6-4aa8-aea6-fa67dbad6b68",
   "metadata": {},
   "source": [
    "## Cholesky分解"
   ]
  },
  {
   "cell_type": "code",
   "id": "48435c46-b205-488f-bbb9-bdfc474fdfb2",
   "metadata": {
    "ExecuteTime": {
     "end_time": "2024-12-12T20:45:40.924957Z",
     "start_time": "2024-12-12T20:45:40.919609Z"
    }
   },
   "source": [
    "from sympy import Matrix\n",
    "A = Matrix(((25, 15, -5), (15, 18, 0), (-5, 0, 11)))\n",
    "A.cholesky()"
   ],
   "outputs": [
    {
     "data": {
      "text/plain": [
       "Matrix([\n",
       "[ 5, 0, 0],\n",
       "[ 3, 3, 0],\n",
       "[-1, 1, 3]])"
      ],
      "text/latex": "$\\displaystyle \\left[\\begin{matrix}5 & 0 & 0\\\\3 & 3 & 0\\\\-1 & 1 & 3\\end{matrix}\\right]$"
     },
     "execution_count": 83,
     "metadata": {},
     "output_type": "execute_result"
    }
   ],
   "execution_count": 83
  },
  {
   "cell_type": "code",
   "id": "69653572a478775e",
   "metadata": {
    "ExecuteTime": {
     "end_time": "2024-12-12T20:46:22.634588Z",
     "start_time": "2024-12-12T20:46:22.628479Z"
    }
   },
   "source": "A.cholesky().T",
   "outputs": [
    {
     "data": {
      "text/plain": [
       "Matrix([\n",
       "[5, 3, -1],\n",
       "[0, 3,  1],\n",
       "[0, 0,  3]])"
      ],
      "text/latex": "$\\displaystyle \\left[\\begin{matrix}5 & 3 & -1\\\\0 & 3 & 1\\\\0 & 0 & 3\\end{matrix}\\right]$"
     },
     "execution_count": 85,
     "metadata": {},
     "output_type": "execute_result"
    }
   ],
   "execution_count": 85
  },
  {
   "metadata": {
    "ExecuteTime": {
     "end_time": "2024-12-12T20:46:29.334475Z",
     "start_time": "2024-12-12T20:46:29.328666Z"
    }
   },
   "cell_type": "code",
   "source": "A.cholesky() * A.cholesky().T",
   "id": "789cd3dd-98aa-46f3-8ad1-6a39fc31b4bb",
   "outputs": [
    {
     "data": {
      "text/plain": [
       "Matrix([\n",
       "[25, 15, -5],\n",
       "[15, 18,  0],\n",
       "[-5,  0, 11]])"
      ],
      "text/latex": "$\\displaystyle \\left[\\begin{matrix}25 & 15 & -5\\\\15 & 18 & 0\\\\-5 & 0 & 11\\end{matrix}\\right]$"
     },
     "execution_count": 86,
     "metadata": {},
     "output_type": "execute_result"
    }
   ],
   "execution_count": 86
  },
  {
   "cell_type": "markdown",
   "id": "98e47af6-45a7-4d45-a70e-a19df1e702be",
   "metadata": {},
   "source": [
    "## 对角化"
   ]
  },
  {
   "cell_type": "code",
   "id": "5a0da903-ca8b-4a3a-8f1c-12d9f407f966",
   "metadata": {
    "ExecuteTime": {
     "end_time": "2024-12-12T20:48:35.599877Z",
     "start_time": "2024-12-12T20:48:35.579561Z"
    }
   },
   "source": [
    "M = Matrix([[1, 2, 0], [0, 3, 0], [2, -4, 2]])\n",
    "M.is_diagonalizable()"
   ],
   "outputs": [
    {
     "data": {
      "text/plain": [
       "True"
      ]
     },
     "execution_count": 87,
     "metadata": {},
     "output_type": "execute_result"
    }
   ],
   "execution_count": 87
  },
  {
   "cell_type": "code",
   "id": "70163a70-3a4d-4211-b911-297c793fb3c9",
   "metadata": {
    "ExecuteTime": {
     "end_time": "2024-12-12T20:49:19.892324Z",
     "start_time": "2024-12-12T20:49:19.883782Z"
    }
   },
   "source": [
    "M = Matrix([[3, -2,  4, -2], [5,  3, -3, -2], [5, -2,  2, -2], [5, -2, -3,  3]])\n",
    "P, D = M.diagonalize()"
   ],
   "outputs": [],
   "execution_count": 89
  },
  {
   "cell_type": "code",
   "id": "ac63e93f-6a53-4163-a218-715f013a7e15",
   "metadata": {
    "ExecuteTime": {
     "end_time": "2024-12-12T20:49:24.088638Z",
     "start_time": "2024-12-12T20:49:24.083547Z"
    }
   },
   "source": [
    "P"
   ],
   "outputs": [
    {
     "data": {
      "text/plain": [
       "Matrix([\n",
       "[0, 1, 1,  0],\n",
       "[1, 1, 1, -1],\n",
       "[1, 1, 1,  0],\n",
       "[1, 1, 0,  1]])"
      ],
      "text/latex": "$\\displaystyle \\left[\\begin{matrix}0 & 1 & 1 & 0\\\\1 & 1 & 1 & -1\\\\1 & 1 & 1 & 0\\\\1 & 1 & 0 & 1\\end{matrix}\\right]$"
     },
     "execution_count": 90,
     "metadata": {},
     "output_type": "execute_result"
    }
   ],
   "execution_count": 90
  },
  {
   "cell_type": "code",
   "id": "213b32ee-b6f9-49a1-8d15-a6d5b8b58ab3",
   "metadata": {
    "ExecuteTime": {
     "end_time": "2024-12-12T20:49:26.245085Z",
     "start_time": "2024-12-12T20:49:26.241058Z"
    }
   },
   "source": [
    "D"
   ],
   "outputs": [
    {
     "data": {
      "text/plain": [
       "Matrix([\n",
       "[-2, 0, 0, 0],\n",
       "[ 0, 3, 0, 0],\n",
       "[ 0, 0, 5, 0],\n",
       "[ 0, 0, 0, 5]])"
      ],
      "text/latex": "$\\displaystyle \\left[\\begin{matrix}-2 & 0 & 0 & 0\\\\0 & 3 & 0 & 0\\\\0 & 0 & 5 & 0\\\\0 & 0 & 0 & 5\\end{matrix}\\right]$"
     },
     "execution_count": 91,
     "metadata": {},
     "output_type": "execute_result"
    }
   ],
   "execution_count": 91
  },
  {
   "cell_type": "markdown",
   "id": "c0e3614c-d0f7-47e3-9647-0ae5a0a7a013",
   "metadata": {},
   "source": [
    "## 特征值分解"
   ]
  },
  {
   "cell_type": "code",
   "id": "f35c1de9-5658-4f30-880e-7fda41d447e1",
   "metadata": {
    "ExecuteTime": {
     "end_time": "2024-12-12T20:50:05.726656Z",
     "start_time": "2024-12-12T20:50:05.722540Z"
    }
   },
   "source": [
    "M = Matrix([[3, -2,  4, -2], [5,  3, -3, -2], [5, -2,  2, -2], [5, -2, -3,  3]])\n",
    "M"
   ],
   "outputs": [
    {
     "data": {
      "text/plain": [
       "Matrix([\n",
       "[3, -2,  4, -2],\n",
       "[5,  3, -3, -2],\n",
       "[5, -2,  2, -2],\n",
       "[5, -2, -3,  3]])"
      ],
      "text/latex": "$\\displaystyle \\left[\\begin{matrix}3 & -2 & 4 & -2\\\\5 & 3 & -3 & -2\\\\5 & -2 & 2 & -2\\\\5 & -2 & -3 & 3\\end{matrix}\\right]$"
     },
     "execution_count": 92,
     "metadata": {},
     "output_type": "execute_result"
    }
   ],
   "execution_count": 92
  },
  {
   "cell_type": "code",
   "id": "f82156ca-ada5-4c82-851d-ef40b84a2c22",
   "metadata": {
    "ExecuteTime": {
     "end_time": "2024-12-12T20:50:09.430603Z",
     "start_time": "2024-12-12T20:50:09.424569Z"
    }
   },
   "source": [
    "M.eigenvals()"
   ],
   "outputs": [
    {
     "data": {
      "text/plain": [
       "{3: 1, -2: 1, 5: 2}"
      ]
     },
     "execution_count": 93,
     "metadata": {},
     "output_type": "execute_result"
    }
   ],
   "execution_count": 93
  },
  {
   "cell_type": "code",
   "id": "2d91dcf5-053b-4472-973a-f05a2e7c26c0",
   "metadata": {
    "ExecuteTime": {
     "end_time": "2024-12-12T20:50:13.536577Z",
     "start_time": "2024-12-12T20:50:13.530001Z"
    }
   },
   "source": [
    "M.eigenvects()"
   ],
   "outputs": [
    {
     "data": {
      "text/plain": [
       "[(-2,\n",
       "  1,\n",
       "  [Matrix([\n",
       "   [0],\n",
       "   [1],\n",
       "   [1],\n",
       "   [1]])]),\n",
       " (3,\n",
       "  1,\n",
       "  [Matrix([\n",
       "   [1],\n",
       "   [1],\n",
       "   [1],\n",
       "   [1]])]),\n",
       " (5,\n",
       "  2,\n",
       "  [Matrix([\n",
       "   [1],\n",
       "   [1],\n",
       "   [1],\n",
       "   [0]]),\n",
       "   Matrix([\n",
       "   [ 0],\n",
       "   [-1],\n",
       "   [ 0],\n",
       "   [ 1]])])]"
      ]
     },
     "execution_count": 94,
     "metadata": {},
     "output_type": "execute_result"
    }
   ],
   "execution_count": 94
  },
  {
   "cell_type": "code",
   "id": "eb876a29-e2f9-4b30-bf09-e890319edcee",
   "metadata": {
    "ExecuteTime": {
     "end_time": "2024-12-12T20:50:36.739509Z",
     "start_time": "2024-12-12T20:50:36.733715Z"
    }
   },
   "source": [
    "### 对符号数值矩阵求特征值\n",
    "M.eigenvals()"
   ],
   "outputs": [
    {
     "data": {
      "text/plain": [
       "{3: 1, -2: 1, 5: 2}"
      ]
     },
     "execution_count": 95,
     "metadata": {},
     "output_type": "execute_result"
    }
   ],
   "execution_count": 95
  },
  {
   "cell_type": "code",
   "id": "df3f30d5-a185-407d-931e-e9ca820668fe",
   "metadata": {
    "ExecuteTime": {
     "end_time": "2024-12-12T20:50:45.242374Z",
     "start_time": "2024-12-12T20:50:45.236132Z"
    }
   },
   "source": [
    "\n",
    "Matrix_2x2_abc = Matrix([[a**2, 2*a*b*c], [2*a*b*c, b**2]])\n",
    "Matrix_2x2_abc"
   ],
   "outputs": [
    {
     "data": {
      "text/plain": [
       "Matrix([\n",
       "[   a**2, 2*a*b*c],\n",
       "[2*a*b*c,    b**2]])"
      ],
      "text/latex": "$\\displaystyle \\left[\\begin{matrix}a^{2} & 2 a b c\\\\2 a b c & b^{2}\\end{matrix}\\right]$"
     },
     "execution_count": 96,
     "metadata": {},
     "output_type": "execute_result"
    }
   ],
   "execution_count": 96
  },
  {
   "cell_type": "code",
   "id": "43a1f6b4-9756-4e1e-b71f-28bfc4d1889d",
   "metadata": {
    "ExecuteTime": {
     "end_time": "2024-12-12T20:50:52.997493Z",
     "start_time": "2024-12-12T20:50:52.975985Z"
    }
   },
   "source": [
    "Matrix_2x2_abc.eigenvals()"
   ],
   "outputs": [
    {
     "data": {
      "text/plain": [
       "{a**2/2 + b**2/2 - sqrt(a**4 + 16*a**2*b**2*c**2 - 2*a**2*b**2 + b**4)/2: 1,\n",
       " a**2/2 + b**2/2 + sqrt(a**4 + 16*a**2*b**2*c**2 - 2*a**2*b**2 + b**4)/2: 1}"
      ]
     },
     "execution_count": 97,
     "metadata": {},
     "output_type": "execute_result"
    }
   ],
   "execution_count": 97
  },
  {
   "cell_type": "code",
   "id": "46f3e405-3912-4465-af7b-187b0debfd01",
   "metadata": {
    "ExecuteTime": {
     "end_time": "2024-12-12T20:51:22.737322Z",
     "start_time": "2024-12-12T20:51:22.719274Z"
    }
   },
   "source": [
    "M.eigenvects()"
   ],
   "outputs": [
    {
     "data": {
      "text/plain": [
       "[(0,\n",
       "  1,\n",
       "  [Matrix([\n",
       "   [-1],\n",
       "   [-1],\n",
       "   [ 1]])]),\n",
       " (3 - sqrt(11),\n",
       "  1,\n",
       "  [Matrix([\n",
       "   [-2*sqrt(11)/7 - 3/7],\n",
       "   [   2/7 - sqrt(11)/7],\n",
       "   [                  1]])]),\n",
       " (3 + sqrt(11),\n",
       "  1,\n",
       "  [Matrix([\n",
       "   [-3/7 + 2*sqrt(11)/7],\n",
       "   [   2/7 + sqrt(11)/7],\n",
       "   [                  1]])])]"
      ]
     },
     "execution_count": 100,
     "metadata": {},
     "output_type": "execute_result"
    }
   ],
   "execution_count": 100
  },
  {
   "cell_type": "code",
   "id": "03a61c6d-60d5-44ed-a9bd-e1dbba2add04",
   "metadata": {
    "ExecuteTime": {
     "end_time": "2024-12-12T20:51:36.061669Z",
     "start_time": "2024-12-12T20:51:36.058637Z"
    }
   },
   "source": [
    "## 向量空间"
   ],
   "outputs": [],
   "execution_count": 101
  },
  {
   "cell_type": "code",
   "id": "30ead826-4a06-4741-bbb4-8e9061ce6d1a",
   "metadata": {
    "ExecuteTime": {
     "end_time": "2024-12-12T20:51:41.208955Z",
     "start_time": "2024-12-12T20:51:41.203703Z"
    }
   },
   "source": [
    "M = Matrix([[1, 1, 2], [2 ,1 , 3], [3 , 1, 4]])\n",
    "M.columnspace()"
   ],
   "outputs": [
    {
     "data": {
      "text/plain": [
       "[Matrix([\n",
       " [1],\n",
       " [2],\n",
       " [3]]),\n",
       " Matrix([\n",
       " [1],\n",
       " [1],\n",
       " [1]])]"
      ]
     },
     "execution_count": 102,
     "metadata": {},
     "output_type": "execute_result"
    }
   ],
   "execution_count": 102
  },
  {
   "cell_type": "markdown",
   "id": "6ba783c4-7f20-4115-bd95-0919f6e66a9c",
   "metadata": {},
   "source": [
    "## 奇异值分解"
   ]
  },
  {
   "cell_type": "code",
   "id": "eb1bf145-530a-4a4d-ad02-acf9c2349d08",
   "metadata": {
    "ExecuteTime": {
     "end_time": "2024-12-12T20:51:47.493773Z",
     "start_time": "2024-12-12T20:51:47.487347Z"
    }
   },
   "source": [
    "from sympy import Matrix\n",
    "A = Matrix([[0, 1],[1, 1],[1, 0]])\n",
    "# 奇异值分解\n",
    "U, S, V = A.singular_value_decomposition()"
   ],
   "outputs": [],
   "execution_count": 103
  },
  {
   "cell_type": "code",
   "execution_count": 86,
   "id": "6d77c147-89b4-455c-a6f7-acae8f9c62cd",
   "metadata": {},
   "outputs": [
    {
     "data": {
      "text/latex": [
       "$\\displaystyle \\left[\\begin{matrix}\\frac{\\sqrt{2}}{2} & \\frac{\\sqrt{6}}{6}\\\\0 & \\frac{\\sqrt{6}}{3}\\\\- \\frac{\\sqrt{2}}{2} & \\frac{\\sqrt{6}}{6}\\end{matrix}\\right]$"
      ],
      "text/plain": [
       "Matrix([\n",
       "[ sqrt(2)/2, sqrt(6)/6],\n",
       "[         0, sqrt(6)/3],\n",
       "[-sqrt(2)/2, sqrt(6)/6]])"
      ]
     },
     "execution_count": 86,
     "metadata": {},
     "output_type": "execute_result"
    }
   ],
   "source": [
    "U"
   ]
  },
  {
   "cell_type": "code",
   "id": "ed60f68a-2555-4a52-9e5b-1da1a1c03f48",
   "metadata": {
    "ExecuteTime": {
     "end_time": "2024-12-12T20:52:01.048516Z",
     "start_time": "2024-12-12T20:52:01.041293Z"
    }
   },
   "source": [
    "U.T @ U"
   ],
   "outputs": [
    {
     "data": {
      "text/plain": [
       "Matrix([\n",
       "[1, 0],\n",
       "[0, 1]])"
      ],
      "text/latex": "$\\displaystyle \\left[\\begin{matrix}1 & 0\\\\0 & 1\\end{matrix}\\right]$"
     },
     "execution_count": 104,
     "metadata": {},
     "output_type": "execute_result"
    }
   ],
   "execution_count": 104
  },
  {
   "cell_type": "code",
   "id": "59a85ddd-6f26-47dc-9df6-aa601ba87947",
   "metadata": {
    "ExecuteTime": {
     "end_time": "2024-12-12T20:52:04.772895Z",
     "start_time": "2024-12-12T20:52:04.768437Z"
    }
   },
   "source": [
    "S"
   ],
   "outputs": [
    {
     "data": {
      "text/plain": [
       "Matrix([\n",
       "[1,       0],\n",
       "[0, sqrt(3)]])"
      ],
      "text/latex": "$\\displaystyle \\left[\\begin{matrix}1 & 0\\\\0 & \\sqrt{3}\\end{matrix}\\right]$"
     },
     "execution_count": 105,
     "metadata": {},
     "output_type": "execute_result"
    }
   ],
   "execution_count": 105
  },
  {
   "cell_type": "code",
   "id": "d1acbd69-c246-4b65-8741-d1e200f2ceab",
   "metadata": {
    "ExecuteTime": {
     "end_time": "2024-12-12T20:52:09.138289Z",
     "start_time": "2024-12-12T20:52:09.133846Z"
    }
   },
   "source": [
    "V"
   ],
   "outputs": [
    {
     "data": {
      "text/plain": [
       "Matrix([\n",
       "[-sqrt(2)/2, sqrt(2)/2],\n",
       "[ sqrt(2)/2, sqrt(2)/2]])"
      ],
      "text/latex": "$\\displaystyle \\left[\\begin{matrix}- \\frac{\\sqrt{2}}{2} & \\frac{\\sqrt{2}}{2}\\\\\\frac{\\sqrt{2}}{2} & \\frac{\\sqrt{2}}{2}\\end{matrix}\\right]$"
     },
     "execution_count": 106,
     "metadata": {},
     "output_type": "execute_result"
    }
   ],
   "execution_count": 106
  },
  {
   "cell_type": "code",
   "id": "0831b407-b1df-4a09-a821-8e36f28aefae",
   "metadata": {
    "ExecuteTime": {
     "end_time": "2024-12-12T20:52:12.405443Z",
     "start_time": "2024-12-12T20:52:12.400307Z"
    }
   },
   "source": [
    "V.T @ V"
   ],
   "outputs": [
    {
     "data": {
      "text/plain": [
       "Matrix([\n",
       "[1, 0],\n",
       "[0, 1]])"
      ],
      "text/latex": "$\\displaystyle \\left[\\begin{matrix}1 & 0\\\\0 & 1\\end{matrix}\\right]$"
     },
     "execution_count": 107,
     "metadata": {},
     "output_type": "execute_result"
    }
   ],
   "execution_count": 107
  },
  {
   "cell_type": "code",
   "id": "911b9ec9-f953-4db2-a30f-6658eb5ce558",
   "metadata": {
    "ExecuteTime": {
     "end_time": "2024-12-12T20:52:18.142540Z",
     "start_time": "2024-12-12T20:52:18.138121Z"
    }
   },
   "source": [
    "V * V.T"
   ],
   "outputs": [
    {
     "data": {
      "text/plain": [
       "Matrix([\n",
       "[1, 0],\n",
       "[0, 1]])"
      ],
      "text/latex": "$\\displaystyle \\left[\\begin{matrix}1 & 0\\\\0 & 1\\end{matrix}\\right]$"
     },
     "execution_count": 108,
     "metadata": {},
     "output_type": "execute_result"
    }
   ],
   "execution_count": 108
  },
  {
   "cell_type": "code",
   "id": "bad0b255-6b4f-4512-865e-64332fa05216",
   "metadata": {
    "ExecuteTime": {
     "end_time": "2024-12-12T20:52:21.457989Z",
     "start_time": "2024-12-12T20:52:21.455217Z"
    }
   },
   "source": [
    "M = A @ A.T"
   ],
   "outputs": [],
   "execution_count": 109
  },
  {
   "cell_type": "code",
   "id": "da29bce8-ab30-4022-bd9a-674c88fa4ffb",
   "metadata": {
    "ExecuteTime": {
     "end_time": "2024-12-12T20:52:24.287339Z",
     "start_time": "2024-12-12T20:52:24.281498Z"
    }
   },
   "source": [
    "M.eigenvects()"
   ],
   "outputs": [
    {
     "data": {
      "text/plain": [
       "[(0,\n",
       "  1,\n",
       "  [Matrix([\n",
       "   [ 1],\n",
       "   [-1],\n",
       "   [ 1]])]),\n",
       " (1,\n",
       "  1,\n",
       "  [Matrix([\n",
       "   [-1],\n",
       "   [ 0],\n",
       "   [ 1]])]),\n",
       " (3,\n",
       "  1,\n",
       "  [Matrix([\n",
       "   [1],\n",
       "   [2],\n",
       "   [1]])])]"
      ]
     },
     "execution_count": 110,
     "metadata": {},
     "output_type": "execute_result"
    }
   ],
   "execution_count": 110
  },
  {
   "cell_type": "code",
   "id": "2a76d332-aee9-4e69-b1d7-20b5eac340a5",
   "metadata": {
    "ExecuteTime": {
     "end_time": "2024-12-12T20:52:31.931954Z",
     "start_time": "2024-12-12T20:52:31.928389Z"
    }
   },
   "source": [
    "# Repo: https://github.com/Visualize-ML\n",
    "# Book 1 Python for Beginners  |  From Basic Arithmetic to Machine Learning\n",
    "# Published and copyrighted by Tsinghua University Press\n",
    "# Beijing, China, 2023"
   ],
   "outputs": [],
   "execution_count": 111
  }
 ],
 "metadata": {
  "kernelspec": {
   "display_name": "Python 3 (ipykernel)",
   "language": "python",
   "name": "python3"
  },
  "language_info": {
   "codemirror_mode": {
    "name": "ipython",
    "version": 3
   },
   "file_extension": ".py",
   "mimetype": "text/x-python",
   "name": "python",
   "nbconvert_exporter": "python",
   "pygments_lexer": "ipython3",
   "version": "3.10.9"
  }
 },
 "nbformat": 4,
 "nbformat_minor": 5
}
